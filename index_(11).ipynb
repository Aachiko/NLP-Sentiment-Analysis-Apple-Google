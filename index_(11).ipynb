{
  "cells": [
    {
      "cell_type": "markdown",
      "metadata": {
        "id": "2uXMrgMj8l_B"
      },
      "source": [
        "# Overview\n",
        "The project involves contributors evaluating tweets related to various brands and products. The crowd is tasked with determining whether each tweet expresses positive, negative, or neutral emotions towards a brand and/or product mentioned. Additionally, if there is emotional content, contributors are asked to identify which specific brand or product is being targeted."
      ]
    },
    {
      "cell_type": "markdown",
      "metadata": {
        "id": "P4CmGfu48l_D"
      },
      "source": [
        "# Business Understanding\n",
        "Understanding public sentiment towards brands and products is crucial for businesses to gauge their reputation, assess customer satisfaction, and identify areas for improvement. Analyzing social media data like tweets provides valuable insights into consumer opinions and preferences."
      ]
    },
    {
      "cell_type": "markdown",
      "metadata": {
        "id": "016D4pD48l_E"
      },
      "source": [
        "# Data Understanding\n",
        "The dataset contains 9093 rows of tweets related to multiple brands and products. Each tweet is annotated by contributors to indicate the sentiment expressed (positive, negative, or neutral) and specify the brand or product targeted by the emotion."
      ]
    },
    {
      "cell_type": "markdown",
      "metadata": {
        "id": "eZpX-44v8l_E"
      },
      "source": [
        "# Main Objective\n",
        "The main objective of the project is to analyze the sentiment of tweets towards various brands and products. By categorizing the sentiment as positive, negative, or neutral and identifying the specific targets of emotions, the aim is to gain insights into consumer perceptions and attitudes."
      ]
    },
    {
      "cell_type": "markdown",
      "metadata": {
        "id": "OeoazfBm8l_F"
      },
      "source": [
        "## Specific Objectives:\n",
        "\n",
        "1.Classify each tweet as expressing positive, negative, or neutral sentiment towards brands and products.\n",
        "\n",
        "2.Identify the specific brands or products targeted by the emotional content in each tweet.\n",
        "\n",
        "3.Analyze the overall sentiment distribution across brands and products.\n",
        "\n",
        "4.Explore patterns and trends in consumer sentiment over time or in response to specific events or marketing campaigns.\n"
      ]
    },
    {
      "cell_type": "code",
      "execution_count": 2,
      "metadata": {
        "id": "GrWM75RO-1iB"
      },
      "outputs": [],
      "source": []
    },
    {
      "cell_type": "markdown",
      "metadata": {
        "id": "iWrBE-MY-2CV"
      },
      "source": [
        "## Import Relevant Libraries"
      ]
    },
    {
      "cell_type": "code",
      "execution_count": 1,
      "metadata": {
        "colab": {
          "base_uri": "https://localhost:8080/"
        },
        "id": "fMqHLkHV8l_F",
        "outputId": "d4e5851a-8d20-4bd6-d738-8bf7358fb563"
      },
      "outputs": [
        {
          "name": "stderr",
          "output_type": "stream",
          "text": [
            "[nltk_data] Downloading package stopwords to\n",
            "[nltk_data]     C:\\Users\\ronal\\AppData\\Roaming\\nltk_data...\n",
            "[nltk_data]   Package stopwords is already up-to-date!\n",
            "[nltk_data] Downloading package punkt to\n",
            "[nltk_data]     C:\\Users\\ronal\\AppData\\Roaming\\nltk_data...\n",
            "[nltk_data]   Package punkt is already up-to-date!\n"
          ]
        }
      ],
      "source": [
        "#import libraries\n",
        "import pandas as pd\n",
        "import nltk\n",
        "from nltk.corpus import stopwords\n",
        "from nltk.tokenize import word_tokenize\n",
        "nltk.download('stopwords')\n",
        "nltk.download('punkt')\n",
        "import matplotlib.pyplot as plt\n",
        "import seaborn as sns\n",
        "import numpy as np\n",
        "import pandas as pd\n",
        "import seaborn as sns\n",
        "import matplotlib.pyplot as plt\n",
        "plt.style.use('ggplot')\n",
        "from sklearn.metrics import roc_curve, auc\n",
        "from sklearn.metrics import classification_report, confusion_matrix, accuracy_score,roc_auc_score\n",
        "import nltk\n",
        "from nltk.corpus import stopwords\n",
        "from nltk.stem import PorterStemmer\n",
        "from sklearn.model_selection import train_test_split\n",
        "# from mlxtend.plotting import plot_confusion_matrix\n",
        "import matplotlib.cm as cm\n",
        "from matplotlib import rcParams\n",
        "from collections import Counter\n",
        "from nltk.tokenize import RegexpTokenizer\n",
        "import re\n",
        "import string\n",
        "from tensorflow.keras.layers import LSTM, Activation, Dense, Dropout, Input, Embedding\n",
        "from tensorflow.keras.models import Model\n",
        "from tensorflow.keras.optimizers import RMSprop\n",
        "from tensorflow.keras.preprocessing.text import Tokenizer\n",
        "from tensorflow.keras.preprocessing import sequence\n",
        "from sklearn.feature_extraction.text import TfidfVectorizer\n",
        "%matplotlib inline\n",
        "\n",
        "import warnings\n",
        "warnings.filterwarnings(\"ignore\")\n"
      ]
    },
    {
      "cell_type": "markdown",
      "metadata": {
        "id": "uZfz1ixf-53v"
      },
      "source": [
        "## Load Dataset"
      ]
    },
    {
      "cell_type": "code",
      "execution_count": 2,
      "metadata": {
        "colab": {
          "base_uri": "https://localhost:8080/",
          "height": 379
        },
        "id": "Jni9OpJz8l_G",
        "outputId": "d51dbd5c-d6a0-47cf-afbc-b160b1de9455"
      },
      "outputs": [
        {
          "data": {
            "text/html": [
              "<div>\n",
              "<style scoped>\n",
              "    .dataframe tbody tr th:only-of-type {\n",
              "        vertical-align: middle;\n",
              "    }\n",
              "\n",
              "    .dataframe tbody tr th {\n",
              "        vertical-align: top;\n",
              "    }\n",
              "\n",
              "    .dataframe thead th {\n",
              "        text-align: right;\n",
              "    }\n",
              "</style>\n",
              "<table border=\"1\" class=\"dataframe\">\n",
              "  <thead>\n",
              "    <tr style=\"text-align: right;\">\n",
              "      <th></th>\n",
              "      <th>tweet_text</th>\n",
              "      <th>emotion_in_tweet_is_directed_at</th>\n",
              "      <th>is_there_an_emotion_directed_at_a_brand_or_product</th>\n",
              "    </tr>\n",
              "  </thead>\n",
              "  <tbody>\n",
              "    <tr>\n",
              "      <th>0</th>\n",
              "      <td>.@wesley83 I have a 3G iPhone. After 3 hrs twe...</td>\n",
              "      <td>iPhone</td>\n",
              "      <td>Negative emotion</td>\n",
              "    </tr>\n",
              "    <tr>\n",
              "      <th>1</th>\n",
              "      <td>@jessedee Know about @fludapp ? Awesome iPad/i...</td>\n",
              "      <td>iPad or iPhone App</td>\n",
              "      <td>Positive emotion</td>\n",
              "    </tr>\n",
              "    <tr>\n",
              "      <th>2</th>\n",
              "      <td>@swonderlin Can not wait for #iPad 2 also. The...</td>\n",
              "      <td>iPad</td>\n",
              "      <td>Positive emotion</td>\n",
              "    </tr>\n",
              "    <tr>\n",
              "      <th>3</th>\n",
              "      <td>@sxsw I hope this year's festival isn't as cra...</td>\n",
              "      <td>iPad or iPhone App</td>\n",
              "      <td>Negative emotion</td>\n",
              "    </tr>\n",
              "    <tr>\n",
              "      <th>4</th>\n",
              "      <td>@sxtxstate great stuff on Fri #SXSW: Marissa M...</td>\n",
              "      <td>Google</td>\n",
              "      <td>Positive emotion</td>\n",
              "    </tr>\n",
              "  </tbody>\n",
              "</table>\n",
              "</div>"
            ],
            "text/plain": [
              "                                          tweet_text  \\\n",
              "0  .@wesley83 I have a 3G iPhone. After 3 hrs twe...   \n",
              "1  @jessedee Know about @fludapp ? Awesome iPad/i...   \n",
              "2  @swonderlin Can not wait for #iPad 2 also. The...   \n",
              "3  @sxsw I hope this year's festival isn't as cra...   \n",
              "4  @sxtxstate great stuff on Fri #SXSW: Marissa M...   \n",
              "\n",
              "  emotion_in_tweet_is_directed_at  \\\n",
              "0                          iPhone   \n",
              "1              iPad or iPhone App   \n",
              "2                            iPad   \n",
              "3              iPad or iPhone App   \n",
              "4                          Google   \n",
              "\n",
              "  is_there_an_emotion_directed_at_a_brand_or_product  \n",
              "0                                   Negative emotion  \n",
              "1                                   Positive emotion  \n",
              "2                                   Positive emotion  \n",
              "3                                   Negative emotion  \n",
              "4                                   Positive emotion  "
            ]
          },
          "execution_count": 2,
          "metadata": {},
          "output_type": "execute_result"
        }
      ],
      "source": [
        "# load the dataset\n",
        "data = pd.read_csv('judge-1377884607_tweet_product_company.csv', encoding='ISO-8859-1')\n",
        "\n",
        "data.head(5)"
      ]
    },
    {
      "cell_type": "code",
      "execution_count": 3,
      "metadata": {
        "colab": {
          "base_uri": "https://localhost:8080/",
          "height": 206
        },
        "id": "qvN8XDWO_VCW",
        "outputId": "9deeff9a-4106-4b7d-c5c3-b22695f6a0d7"
      },
      "outputs": [
        {
          "data": {
            "text/html": [
              "<div>\n",
              "<style scoped>\n",
              "    .dataframe tbody tr th:only-of-type {\n",
              "        vertical-align: middle;\n",
              "    }\n",
              "\n",
              "    .dataframe tbody tr th {\n",
              "        vertical-align: top;\n",
              "    }\n",
              "\n",
              "    .dataframe thead th {\n",
              "        text-align: right;\n",
              "    }\n",
              "</style>\n",
              "<table border=\"1\" class=\"dataframe\">\n",
              "  <thead>\n",
              "    <tr style=\"text-align: right;\">\n",
              "      <th></th>\n",
              "      <th>tweet</th>\n",
              "      <th>product</th>\n",
              "      <th>sentiment</th>\n",
              "    </tr>\n",
              "  </thead>\n",
              "  <tbody>\n",
              "    <tr>\n",
              "      <th>0</th>\n",
              "      <td>.@wesley83 I have a 3G iPhone. After 3 hrs twe...</td>\n",
              "      <td>iPhone</td>\n",
              "      <td>Negative emotion</td>\n",
              "    </tr>\n",
              "    <tr>\n",
              "      <th>1</th>\n",
              "      <td>@jessedee Know about @fludapp ? Awesome iPad/i...</td>\n",
              "      <td>iPad or iPhone App</td>\n",
              "      <td>Positive emotion</td>\n",
              "    </tr>\n",
              "    <tr>\n",
              "      <th>2</th>\n",
              "      <td>@swonderlin Can not wait for #iPad 2 also. The...</td>\n",
              "      <td>iPad</td>\n",
              "      <td>Positive emotion</td>\n",
              "    </tr>\n",
              "    <tr>\n",
              "      <th>3</th>\n",
              "      <td>@sxsw I hope this year's festival isn't as cra...</td>\n",
              "      <td>iPad or iPhone App</td>\n",
              "      <td>Negative emotion</td>\n",
              "    </tr>\n",
              "    <tr>\n",
              "      <th>4</th>\n",
              "      <td>@sxtxstate great stuff on Fri #SXSW: Marissa M...</td>\n",
              "      <td>Google</td>\n",
              "      <td>Positive emotion</td>\n",
              "    </tr>\n",
              "  </tbody>\n",
              "</table>\n",
              "</div>"
            ],
            "text/plain": [
              "                                               tweet             product  \\\n",
              "0  .@wesley83 I have a 3G iPhone. After 3 hrs twe...              iPhone   \n",
              "1  @jessedee Know about @fludapp ? Awesome iPad/i...  iPad or iPhone App   \n",
              "2  @swonderlin Can not wait for #iPad 2 also. The...                iPad   \n",
              "3  @sxsw I hope this year's festival isn't as cra...  iPad or iPhone App   \n",
              "4  @sxtxstate great stuff on Fri #SXSW: Marissa M...              Google   \n",
              "\n",
              "          sentiment  \n",
              "0  Negative emotion  \n",
              "1  Positive emotion  \n",
              "2  Positive emotion  \n",
              "3  Negative emotion  \n",
              "4  Positive emotion  "
            ]
          },
          "execution_count": 3,
          "metadata": {},
          "output_type": "execute_result"
        }
      ],
      "source": [
        "# Rename the columns\n",
        "data.rename(columns={\n",
        "    'tweet_text': 'tweet',\n",
        "    'emotion_in_tweet_is_directed_at': 'product',\n",
        "    'is_there_an_emotion_directed_at_a_brand_or_product': 'sentiment'\n",
        "}, inplace=True)\n",
        "\n",
        "# Check the updated df\n",
        "data.head()"
      ]
    },
    {
      "cell_type": "markdown",
      "metadata": {
        "id": "ERXL5rR88l_G"
      },
      "source": [
        "## EXPLORE THE DATASET"
      ]
    },
    {
      "cell_type": "code",
      "execution_count": 4,
      "metadata": {
        "colab": {
          "base_uri": "https://localhost:8080/"
        },
        "id": "XNMBRB1cBQcD",
        "outputId": "af567f43-6588-4274-80a6-8d8062953254"
      },
      "outputs": [
        {
          "name": "stdout",
          "output_type": "stream",
          "text": [
            "The dataset has 9093 rows and 3 columns\n",
            "\n",
            "Features:\n",
            "['tweet' 'product' 'sentiment']\n",
            "\n",
            "First 5 rows:\n",
            "                                               tweet             product  \\\n",
            "0  .@wesley83 I have a 3G iPhone. After 3 hrs twe...              iPhone   \n",
            "1  @jessedee Know about @fludapp ? Awesome iPad/i...  iPad or iPhone App   \n",
            "2  @swonderlin Can not wait for #iPad 2 also. The...                iPad   \n",
            "3  @sxsw I hope this year's festival isn't as cra...  iPad or iPhone App   \n",
            "4  @sxtxstate great stuff on Fri #SXSW: Marissa M...              Google   \n",
            "\n",
            "          sentiment  \n",
            "0  Negative emotion  \n",
            "1  Positive emotion  \n",
            "2  Positive emotion  \n",
            "3  Negative emotion  \n",
            "4  Positive emotion  \n",
            "\n",
            "Info:\n",
            "<class 'pandas.core.frame.DataFrame'>\n",
            "RangeIndex: 9093 entries, 0 to 9092\n",
            "Data columns (total 3 columns):\n",
            " #   Column     Non-Null Count  Dtype \n",
            "---  ------     --------------  ----- \n",
            " 0   tweet      9092 non-null   object\n",
            " 1   product    3291 non-null   object\n",
            " 2   sentiment  9093 non-null   object\n",
            "dtypes: object(3)\n",
            "memory usage: 213.2+ KB\n",
            "None\n"
          ]
        }
      ],
      "source": [
        "# explore the data\n",
        "print('The dataset has {} rows and {} columns'.format(data.shape[0], data.shape[1]))\n",
        "print('\\nFeatures:')\n",
        "print(data.columns.values)\n",
        "print('\\nFirst 5 rows:')\n",
        "print(data.head())\n",
        "print('\\nInfo:')\n",
        "print(data.info())\n"
      ]
    },
    {
      "cell_type": "markdown",
      "metadata": {
        "id": "wXkfMBYgD38R"
      },
      "source": [
        "## Distribution of the Sentiments\n"
      ]
    },
    {
      "cell_type": "code",
      "execution_count": 5,
      "metadata": {
        "colab": {
          "base_uri": "https://localhost:8080/",
          "height": 430
        },
        "id": "ptLZuX5MD1_5",
        "outputId": "6826dff7-529c-4f77-e0a7-34a407a46e66"
      },
      "outputs": [
        {
          "data": {
            "image/png": "[encoded data removed]",
            "text/plain": [
              "<Figure size 640x480 with 1 Axes>"
            ]
          },
          "metadata": {},
          "output_type": "display_data"
        }
      ],
      "source": [
        "# distribution of the sentiment libraries\n",
        "data.groupby('sentiment').size().plot(kind='barh', color=sns.palettes.mpl_palette('Dark2'))\n",
        "plt.gca().spines[['top', 'right',]].set_visible(False)"
      ]
    },
    {
      "cell_type": "markdown",
      "metadata": {
        "id": "RBu5HFTDEOnU"
      },
      "source": [
        "## Missing Values"
      ]
    },
    {
      "cell_type": "code",
      "execution_count": 6,
      "metadata": {
        "colab": {
          "base_uri": "https://localhost:8080/"
        },
        "id": "9x8ATnWQENHj",
        "outputId": "5e98b50f-083d-4b49-a693-8ac8abbfb352"
      },
      "outputs": [
        {
          "name": "stdout",
          "output_type": "stream",
          "text": [
            "Data types of columns:\n",
            "tweet        object\n",
            "product      object\n",
            "sentiment    object\n",
            "dtype: object\n",
            "\n",
            "Missing values:\n",
            "tweet           1\n",
            "product      5802\n",
            "sentiment       0\n",
            "dtype: int64\n"
          ]
        }
      ],
      "source": [
        "# Explore the data\n",
        "# Data types of columns\n",
        "data_types = data.dtypes\n",
        "print(\"Data types of columns:\")\n",
        "print(data_types)\n",
        "\n",
        "# Missing values\n",
        "missing_values = data.isnull().sum()\n",
        "print(\"\\nMissing values:\")\n",
        "print(missing_values)"
      ]
    },
    {
      "cell_type": "code",
      "execution_count": 7,
      "metadata": {
        "id": "cA3XgbCnEbTc"
      },
      "outputs": [],
      "source": [
        "# Function to extract related words to Apple and Google Products\n",
        "def extract_product(tweet):\n",
        "    # Dictionary mapping keywords to products\n",
        "    tweet_lower = str(tweet).lower()\n",
        "    product_keywords = {\n",
        "        'Apple': ['apple', 'iphone', 'ipad', 'macbook', 'apple watch',\n",
        "                  'airpods', 'ios', 'macos', 'app store', 'icloud', 'itunes'],\n",
        "        'Google': ['google', 'pixel', 'pixelbook', 'chromebook', 'google home',\n",
        "                   'nest', 'android', 'google play store',\n",
        "                   'google maps', 'gmail', 'goog']\n",
        "    }\n",
        "\n",
        "    # Check if tweet is a valid string\n",
        "    if isinstance(tweet, str):\n",
        "        # Iterate through the dictionary to find a match\n",
        "        for product, keywords in product_keywords.items():\n",
        "            if any(keyword in tweet_lower for keyword in keywords):\n",
        "                return product\n",
        "    return None\n",
        "\n",
        "# Replace NaN values in 'product' column with appropriate match\n",
        "data['product'] = data.apply(lambda row: extract_product(row['tweet']) if pd.isna(row['product']) else row['product'], axis=1)\n"
      ]
    },
    {
      "cell_type": "markdown",
      "metadata": {
        "id": "bRehjLbqE2Z0"
      },
      "source": [
        "## Check Missing Values in the entire Dataset"
      ]
    },
    {
      "cell_type": "code",
      "execution_count": 8,
      "metadata": {
        "colab": {
          "base_uri": "https://localhost:8080/"
        },
        "id": "gSgp2oPfEycW",
        "outputId": "853f7691-34eb-4556-df9b-0758398e6f72"
      },
      "outputs": [
        {
          "name": "stdout",
          "output_type": "stream",
          "text": [
            "Missing values per column:\n",
            "tweet          1\n",
            "product      703\n",
            "sentiment      0\n",
            "dtype: int64\n"
          ]
        }
      ],
      "source": [
        "# Check for missing values\n",
        "missing_values = data.isnull().sum()\n",
        "\n",
        "print(\"Missing values per column:\")\n",
        "print(missing_values)\n"
      ]
    },
    {
      "cell_type": "markdown",
      "metadata": {
        "id": "SDilgacFFWpS"
      },
      "source": [
        "## Drop Missing Values in Tweet and Product Column"
      ]
    },
    {
      "cell_type": "code",
      "execution_count": 9,
      "metadata": {
        "colab": {
          "base_uri": "https://localhost:8080/"
        },
        "id": "BW9kBomSFQK9",
        "outputId": "40f73242-66f0-4538-ad8e-92ac83f16e1a"
      },
      "outputs": [
        {
          "name": "stdout",
          "output_type": "stream",
          "text": [
            "<class 'pandas.core.frame.DataFrame'>\n",
            "Index: 8390 entries, 0 to 9092\n",
            "Data columns (total 3 columns):\n",
            " #   Column     Non-Null Count  Dtype \n",
            "---  ------     --------------  ----- \n",
            " 0   tweet      8390 non-null   object\n",
            " 1   product    8390 non-null   object\n",
            " 2   sentiment  8390 non-null   object\n",
            "dtypes: object(3)\n",
            "memory usage: 262.2+ KB\n"
          ]
        }
      ],
      "source": [
        "#Drop missing values in tweet and product column\n",
        "data.dropna(subset=['tweet','product'], inplace=True)\n",
        "data.info()"
      ]
    },
    {
      "cell_type": "code",
      "execution_count": 10,
      "metadata": {
        "colab": {
          "base_uri": "https://localhost:8080/"
        },
        "id": "5Kx_4yD3S08E",
        "outputId": "de8f09e5-c6db-45be-ad52-5bd6f428db9f"
      },
      "outputs": [
        {
          "name": "stdout",
          "output_type": "stream",
          "text": [
            "Unique sentiment values after changes: ['Negative emotion' 'Positive emotion' 'Neutral']\n"
          ]
        }
      ],
      "source": [
        "# prompt: drop the rows in the sentiment that have \"I can't tell' words\n",
        "\n",
        "data = data[data['sentiment'] != \"I can't tell\"]\n",
        "\n",
        "# Replace 'No emotion toward brand or product' with 'Neutral'\n",
        "data['sentiment'] = data['sentiment'].replace('No emotion toward brand or product', 'Neutral')\n",
        "\n",
        "# Print unique sentiment values after changes\n",
        "print(\"Unique sentiment values after changes:\", data['sentiment'].unique())\n",
        "\n"
      ]
    },
    {
      "cell_type": "markdown",
      "metadata": {
        "id": "4wkwu8nXFwMm"
      },
      "source": [
        "## Data Pre-processing"
      ]
    },
    {
      "cell_type": "code",
      "execution_count": 11,
      "metadata": {
        "colab": {
          "base_uri": "https://localhost:8080/"
        },
        "id": "1ecxIwYeFmpG",
        "outputId": "199967e8-f249-4191-aeb1-ba6ff225ca80"
      },
      "outputs": [
        {
          "name": "stderr",
          "output_type": "stream",
          "text": [
            "[nltk_data] Downloading package punkt to\n",
            "[nltk_data]     C:\\Users\\ronal\\AppData\\Roaming\\nltk_data...\n",
            "[nltk_data]   Package punkt is already up-to-date!\n",
            "[nltk_data] Downloading package stopwords to\n",
            "[nltk_data]     C:\\Users\\ronal\\AppData\\Roaming\\nltk_data...\n",
            "[nltk_data]   Package stopwords is already up-to-date!\n"
          ]
        },
        {
          "data": {
            "text/html": [
              "<div>\n",
              "<style scoped>\n",
              "    .dataframe tbody tr th:only-of-type {\n",
              "        vertical-align: middle;\n",
              "    }\n",
              "\n",
              "    .dataframe tbody tr th {\n",
              "        vertical-align: top;\n",
              "    }\n",
              "\n",
              "    .dataframe thead th {\n",
              "        text-align: right;\n",
              "    }\n",
              "</style>\n",
              "<table border=\"1\" class=\"dataframe\">\n",
              "  <thead>\n",
              "    <tr style=\"text-align: right;\">\n",
              "      <th></th>\n",
              "      <th>tweet</th>\n",
              "      <th>product</th>\n",
              "      <th>sentiment</th>\n",
              "      <th>tokenized_tweet</th>\n",
              "      <th>filtered_tweet</th>\n",
              "    </tr>\n",
              "  </thead>\n",
              "  <tbody>\n",
              "    <tr>\n",
              "      <th>0</th>\n",
              "      <td>wesley g iphon hr tweet rise_austin dead need ...</td>\n",
              "      <td>iPhone</td>\n",
              "      <td>Negative emotion</td>\n",
              "      <td>[wesley, g, iphon, hr, tweet, rise_austin, dea...</td>\n",
              "      <td>[wesley, g, iphon, hr, tweet, rise_austin, dea...</td>\n",
              "    </tr>\n",
              "    <tr>\n",
              "      <th>1</th>\n",
              "      <td>jessede know fludapp awesom ipad iphon app lik...</td>\n",
              "      <td>iPad or iPhone App</td>\n",
              "      <td>Positive emotion</td>\n",
              "      <td>[jessede, know, fludapp, awesom, ipad, iphon, ...</td>\n",
              "      <td>[jessede, know, fludapp, awesom, ipad, iphon, ...</td>\n",
              "    </tr>\n",
              "    <tr>\n",
              "      <th>2</th>\n",
              "      <td>swonderlin wait ipad also sale sxsw</td>\n",
              "      <td>iPad</td>\n",
              "      <td>Positive emotion</td>\n",
              "      <td>[swonderlin, wait, ipad, also, sale, sxsw]</td>\n",
              "      <td>[swonderlin, wait, ipad, also, sale, sxsw]</td>\n",
              "    </tr>\n",
              "    <tr>\n",
              "      <th>3</th>\n",
              "      <td>sxsw hope year festiv crashi year iphon app sxsw</td>\n",
              "      <td>iPad or iPhone App</td>\n",
              "      <td>Negative emotion</td>\n",
              "      <td>[sxsw, hope, year, festiv, crashi, year, iphon...</td>\n",
              "      <td>[sxsw, hope, year, festiv, crashi, year, iphon...</td>\n",
              "    </tr>\n",
              "    <tr>\n",
              "      <th>4</th>\n",
              "      <td>sxtxstate great stuff fri sxsw marissa mayer g...</td>\n",
              "      <td>Google</td>\n",
              "      <td>Positive emotion</td>\n",
              "      <td>[sxtxstate, great, stuff, fri, sxsw, marissa, ...</td>\n",
              "      <td>[sxtxstate, great, stuff, fri, sxsw, marissa, ...</td>\n",
              "    </tr>\n",
              "  </tbody>\n",
              "</table>\n",
              "</div>"
            ],
            "text/plain": [
              "                                               tweet             product  \\\n",
              "0  wesley g iphon hr tweet rise_austin dead need ...              iPhone   \n",
              "1  jessede know fludapp awesom ipad iphon app lik...  iPad or iPhone App   \n",
              "2                swonderlin wait ipad also sale sxsw                iPad   \n",
              "3   sxsw hope year festiv crashi year iphon app sxsw  iPad or iPhone App   \n",
              "4  sxtxstate great stuff fri sxsw marissa mayer g...              Google   \n",
              "\n",
              "          sentiment                                    tokenized_tweet  \\\n",
              "0  Negative emotion  [wesley, g, iphon, hr, tweet, rise_austin, dea...   \n",
              "1  Positive emotion  [jessede, know, fludapp, awesom, ipad, iphon, ...   \n",
              "2  Positive emotion         [swonderlin, wait, ipad, also, sale, sxsw]   \n",
              "3  Negative emotion  [sxsw, hope, year, festiv, crashi, year, iphon...   \n",
              "4  Positive emotion  [sxtxstate, great, stuff, fri, sxsw, marissa, ...   \n",
              "\n",
              "                                      filtered_tweet  \n",
              "0  [wesley, g, iphon, hr, tweet, rise_austin, dea...  \n",
              "1  [jessede, know, fludapp, awesom, ipad, iphon, ...  \n",
              "2         [swonderlin, wait, ipad, also, sale, sxsw]  \n",
              "3  [sxsw, hope, year, festiv, crashi, year, iphon...  \n",
              "4  [sxtxstate, great, stuff, fri, sxsw, marissa, ...  "
            ]
          },
          "execution_count": 11,
          "metadata": {},
          "output_type": "execute_result"
        }
      ],
      "source": [
        "import pandas as pd\n",
        "import re\n",
        "import nltk\n",
        "from nltk.corpus import stopwords\n",
        "from nltk.tokenize import word_tokenize\n",
        "from sklearn.feature_extraction.text import CountVectorizer, TfidfVectorizer\n",
        "\n",
        "# Preprocess the text data\n",
        "def preprocess_text(text):\n",
        "    text = text.lower()\n",
        "    # Remove URLs\n",
        "    text = re.sub(r'http\\S+|www\\S+', '', text)\n",
        "    # Remove emails\n",
        "    text = re.sub(r'\\b[A-Za-z0-9._%+-]+@[A-Za-z0-9.-]+\\.[A-Z|a-z]{2,}\\b', '', text)\n",
        "    # Remove special characters and numbers\n",
        "    text = re.sub(r'[^a-zA-Z\\s]', '', text)\n",
        "    # Remove extra whitespaces\n",
        "    text = re.sub(r'\\s+', ' ', text)\n",
        "    return text\n",
        "stopwords_list = stopwords.words('english')\n",
        "import string\n",
        "stopwords_list += string.punctuation\n",
        "st = nltk.PorterStemmer()\n",
        "def stemming(content):\n",
        "    stemmed_content = re.sub('[^a-zA-z]',' ',content)\n",
        "    stemmed_content = stemmed_content.lower()\n",
        "    stemmed_content = stemmed_content.split()\n",
        "    stemmed_content = [st.stem(word) for word in stemmed_content if word not in stopwords_list]\n",
        "    stemmed_content = ' '.join(stemmed_content)\n",
        "    return stemmed_content\n",
        "\n",
        "\n",
        "\n",
        "# Apply preprocessing to the 'tweet' column\n",
        "data['tweet'] = data['tweet'].apply(stemming)\n",
        "\n",
        "# Tokenize the text data\n",
        "nltk.download('punkt')\n",
        "data['tokenized_tweet'] = data['tweet'].apply(word_tokenize)\n",
        "\n",
        "# Remove stopwords\n",
        "nltk.download('stopwords')\n",
        "stop_words = set(stopwords.words('english'))\n",
        "data['filtered_tweet'] = data['tokenized_tweet'].apply(lambda tokens: [token for token in tokens if token not in stopwords_list])\n",
        "\n",
        "# Convert tokenized text into numerical representation using Bag-of-Words\n",
        "count_vectorizer = CountVectorizer()\n",
        "bow_representation = count_vectorizer.fit_transform(data['filtered_tweet'].apply(lambda tokens: ' '.join(tokens)))\n",
        "\n",
        "# Convert tokenized text into numerical representation using TF-IDF\n",
        "tfidf_vectorizer = TfidfVectorizer()\n",
        "tfidf_representation = tfidf_vectorizer.fit_transform(data['filtered_tweet'].apply(lambda tokens: ' '.join(tokens)))\n",
        "\n",
        "# Print the first few rows of the preprocessed data\n",
        "data.head()\n"
      ]
    },
    {
      "cell_type": "code",
      "execution_count": 12,
      "metadata": {
        "id": "IRtBOahrLcWT"
      },
      "outputs": [],
      "source": [
        "from textblob import TextBlob\n",
        "\n",
        "# Function for sentiment analysis\n",
        "def analyze_sentiment(text):\n",
        "    analysis = TextBlob(text)\n",
        "    return analysis.sentiment.polarity\n",
        "\n",
        "# Apply sentiment analysis to the preprocessed tweets\n",
        "data['sentiment_score'] = data['tweet'].apply(analyze_sentiment)\n",
        "\n",
        "# Categorize sentiment into positive, negative, or neutral\n",
        "def categorize_sentiment(score):\n",
        "    if score > 0:\n",
        "        return 'Positive'\n",
        "    elif score < 0:\n",
        "        return 'Negative'\n",
        "    else:\n",
        "        return 'Neutral'"
      ]
    },
    {
      "cell_type": "code",
      "execution_count": 13,
      "metadata": {
        "colab": {
          "base_uri": "https://localhost:8080/",
          "height": 569
        },
        "id": "u1X20JpcC0dY",
        "outputId": "e498b207-322d-4762-9a24-0313f36c4a40"
      },
      "outputs": [
        {
          "data": {
            "image/png": "[encoded data removed]",
            "text/plain": [
              "<Figure size 800x600 with 1 Axes>"
            ]
          },
          "metadata": {},
          "output_type": "display_data"
        }
      ],
      "source": [
        "import matplotlib.pyplot as plt\n",
        "# Count the number of tweets in each sentiment class\n",
        "sentiment_counts = data['sentiment'].value_counts()\n",
        "\n",
        "# Create a bar chart of the sentiment distribution\n",
        "plt.figure(figsize=(8, 6))\n",
        "plt.bar(sentiment_counts.index, sentiment_counts.values, color='skyblue')\n",
        "\n",
        "# Set the chart title and labels\n",
        "plt.title('Distribution of Sentiment Classes')\n",
        "plt.xlabel('Sentiment')\n",
        "plt.ylabel('Number of Tweets')\n",
        "\n",
        "# Display the chart\n",
        "plt.show()\n"
      ]
    },
    {
      "cell_type": "markdown",
      "metadata": {
        "id": "Qt-lusVEI5B-"
      },
      "source": [
        "## Check Class Imbalance in the Dataset"
      ]
    },
    {
      "cell_type": "code",
      "execution_count": 14,
      "metadata": {
        "colab": {
          "base_uri": "https://localhost:8080/"
        },
        "id": "BgVwBntoIgyZ",
        "outputId": "be38ebd0-f85c-4c24-9fa3-657839ada3e6"
      },
      "outputs": [
        {
          "name": "stdout",
          "output_type": "stream",
          "text": [
            "sentiment\n",
            "Neutral             0.570752\n",
            "Positive emotion    0.360194\n",
            "Negative emotion    0.069053\n",
            "Name: proportion, dtype: float64\n",
            "There is class imbalance in the dataset.\n"
          ]
        }
      ],
      "source": [
        "\n",
        "# Calculate the proportion of each sentiment class\n",
        "sentiment_proportions = data['sentiment'].value_counts(normalize=True)\n",
        "\n",
        "# Print the sentiment proportions\n",
        "print(sentiment_proportions)\n",
        "\n",
        "# Check for class imbalance by comparing the proportions\n",
        "if sentiment_proportions.max() / sentiment_proportions.min() > 2:\n",
        "  print('There is class imbalance in the dataset.')\n",
        "else:\n",
        "  print('The dataset is balanced.')\n"
      ]
    },
    {
      "cell_type": "code",
      "execution_count": 15,
      "metadata": {
        "colab": {
          "base_uri": "https://localhost:8080/"
        },
        "id": "KlKJMDsfQ11a",
        "outputId": "a5358ccc-c9e9-4dc2-e12d-622500e8e253"
      },
      "outputs": [
        {
          "name": "stdout",
          "output_type": "stream",
          "text": [
            "sentiment\n",
            "Neutral             3791\n",
            "Positive emotion    3791\n",
            "Negative emotion    3791\n",
            "Name: count, dtype: int64\n"
          ]
        }
      ],
      "source": [
        "\n",
        "import pandas as pd\n",
        "# Handle class imbalance using oversampling\n",
        "from imblearn.over_sampling import SMOTE\n",
        "\n",
        "# Split the data into training and testing sets\n",
        "X_train, X_test, y_train, y_test = train_test_split(bow_representation, data['sentiment'], test_size=0.2, random_state=42)\n",
        "\n",
        "# Apply SMOTE to the training data\n",
        "smote = SMOTE(random_state=42)\n",
        "X_train_resampled, y_train_resampled = smote.fit_resample(X_train, y_train)\n",
        "\n",
        "# Check the class distribution after oversampling\n",
        "print(pd.Series(y_train_resampled).value_counts())\n"
      ]
    },
    {
      "cell_type": "markdown",
      "metadata": {
        "id": "KmD2QC0qK3Rd"
      },
      "source": [
        "## Modelling"
      ]
    },
    {
      "cell_type": "markdown",
      "metadata": {
        "id": "6O3DPyggK7OU"
      },
      "source": [
        "### Split the Data Features to train the Model"
      ]
    },
    {
      "cell_type": "code",
      "execution_count": 16,
      "metadata": {
        "colab": {
          "base_uri": "https://localhost:8080/"
        },
        "id": "hkoyqkNh9HB9",
        "outputId": "ee63b164-4ed9-42f7-a67b-c852965ba93e"
      },
      "outputs": [
        {
          "name": "stdout",
          "output_type": "stream",
          "text": [
            "Training set shape: (5768,) (5768,)\n",
            "Validation set shape: (1236,) (1236,)\n",
            "Testing set shape: (1236,) (1236,)\n"
          ]
        }
      ],
      "source": [
        "from sklearn.model_selection import train_test_split\n",
        "\n",
        "# Split the dataset into features (X) and target variable (y)\n",
        "X = data['tweet']\n",
        "y = data['sentiment']\n",
        "\n",
        "# Split the dataset into training, validation, and testing sets\n",
        "# 70% training, 15% validation, 15% testing\n",
        "X_train, X_temp, y_train, y_temp = train_test_split(X, y, test_size=0.3, random_state=42)\n",
        "X_val, X_test, y_val, y_test = train_test_split(X_temp, y_temp, test_size=0.5, random_state=42)\n",
        "\n",
        "# Print the shapes of the training, validation, and testing sets\n",
        "print(\"Training set shape:\", X_train.shape, y_train.shape)\n",
        "print(\"Validation set shape:\", X_val.shape, y_val.shape)\n",
        "print(\"Testing set shape:\", X_test.shape, y_test.shape)\n"
      ]
    },
    {
      "cell_type": "markdown",
      "metadata": {
        "id": "eyvr33d8XgV6"
      },
      "source": [
        "# Binary Classification Models"
      ]
    },
    {
      "cell_type": "markdown",
      "metadata": {
        "id": "8HyuLE7kXclu"
      },
      "source": [
        "## Base Line Model\n",
        "### Logistic Regression Model\n",
        "\n",
        "\n"
      ]
    },
    {
      "cell_type": "code",
      "execution_count": 17,
      "metadata": {
        "colab": {
          "base_uri": "https://localhost:8080/"
        },
        "id": "FaC2090wB7BK",
        "outputId": "0046d426-efbc-4a6b-dcf3-c23d399f99f1"
      },
      "outputs": [
        {
          "name": "stdout",
          "output_type": "stream",
          "text": [
            "Validation Accuracy: 0.8813559322033898\n",
            "Validation Classification Report:\n",
            "                  precision    recall  f1-score   support\n",
            "\n",
            "Negative emotion       0.73      0.39      0.51        84\n",
            "Positive emotion       0.90      0.97      0.93       447\n",
            "\n",
            "        accuracy                           0.88       531\n",
            "       macro avg       0.81      0.68      0.72       531\n",
            "    weighted avg       0.87      0.88      0.87       531\n",
            "\n"
          ]
        }
      ],
      "source": [
        "from sklearn.linear_model import LogisticRegression\n",
        "from sklearn.metrics import accuracy_score, classification_report\n",
        "# Filter the dataset to include only positive and negative sentiment\n",
        "filtered_data = data[data['sentiment'].isin(['Positive emotion', 'Negative emotion'])]\n",
        "\n",
        "# Split the filtered dataset into features (X) and target variable (y)\n",
        "X_filtered = filtered_data['tweet']\n",
        "y_filtered = filtered_data['sentiment']\n",
        "\n",
        "# Split the filtered dataset into training, validation, and testing sets\n",
        "# 70% training, 15% validation, 15% testing\n",
        "X_train_filtered, X_temp_filtered, y_train_filtered, y_temp_filtered = train_test_split(X_filtered, y_filtered, test_size=0.3, random_state=42)\n",
        "X_val_filtered, X_test_filtered, y_val_filtered, y_test_filtered = train_test_split(X_temp_filtered, y_temp_filtered, test_size=0.5, random_state=42)\n",
        "\n",
        "# Initialize the CountVectorizer\n",
        "count_vectorizer_filtered = CountVectorizer()\n",
        "\n",
        "# Fit and transform the training data\n",
        "X_train_bow_filtered = count_vectorizer_filtered.fit_transform(X_train_filtered)\n",
        "\n",
        "# Transform the validation and testing data\n",
        "X_val_bow_filtered = count_vectorizer_filtered.transform(X_val_filtered)\n",
        "X_test_bow_filtered = count_vectorizer_filtered.transform(X_test_filtered)\n",
        "\n",
        "# Initialize the Logistic Regression model\n",
        "clf_filtered = LogisticRegression(max_iter=1000)\n",
        "\n",
        "# Train the model on the training data\n",
        "clf_filtered.fit(X_train_bow_filtered, y_train_filtered)\n",
        "\n",
        "# Predict on the validation data\n",
        "y_val_pred_filtered = clf_filtered.predict(X_val_bow_filtered)\n",
        "\n",
        "# Calculate accuracy on the validation set\n",
        "accuracy_val_filtered = accuracy_score(y_val_filtered, y_val_pred_filtered)\n",
        "print(\"Validation Accuracy:\", accuracy_val_filtered)\n",
        "\n",
        "# Print classification report for validation set\n",
        "print(\"Validation Classification Report:\")\n",
        "print(classification_report(y_val_filtered, y_val_pred_filtered))\n"
      ]
    },
    {
      "cell_type": "markdown",
      "metadata": {
        "id": "yDqyLZUheC1G"
      },
      "source": [
        "## SVM , Naive Bayes Classification, Random Forest Models"
      ]
    },
    {
      "cell_type": "code",
      "execution_count": 18,
      "metadata": {
        "colab": {
          "base_uri": "https://localhost:8080/"
        },
        "id": "sYHR5TdoDRqC",
        "outputId": "ae0a9a91-b8a7-441c-98a2-e59a8ddf69cb"
      },
      "outputs": [
        {
          "name": "stdout",
          "output_type": "stream",
          "text": [
            "\n",
            "SVM:\n",
            "Validation Accuracy: 0.864406779661017\n",
            "Validation Precision: 0.8832173998236504\n",
            "Validation Recall: 0.864406779661017\n",
            "Validation F1-score: 0.818612485524792\n",
            "Validation Classification Report:\n",
            "                  precision    recall  f1-score   support\n",
            "\n",
            "Negative emotion       1.00      0.14      0.25        84\n",
            "Positive emotion       0.86      1.00      0.93       447\n",
            "\n",
            "        accuracy                           0.86       531\n",
            "       macro avg       0.93      0.57      0.59       531\n",
            "    weighted avg       0.88      0.86      0.82       531\n",
            "\n",
            "\n",
            "Naive Bayes:\n",
            "Validation Accuracy: 0.8832391713747646\n",
            "Validation Precision: 0.8772321533053422\n",
            "Validation Recall: 0.8832391713747646\n",
            "Validation F1-score: 0.8615938906444508\n",
            "Validation Classification Report:\n",
            "                  precision    recall  f1-score   support\n",
            "\n",
            "Negative emotion       0.82      0.33      0.47        84\n",
            "Positive emotion       0.89      0.99      0.93       447\n",
            "\n",
            "        accuracy                           0.88       531\n",
            "       macro avg       0.86      0.66      0.70       531\n",
            "    weighted avg       0.88      0.88      0.86       531\n",
            "\n",
            "\n",
            "Random Forest:\n",
            "Validation Accuracy: 0.8870056497175142\n",
            "Validation Precision: 0.8955658538474447\n",
            "Validation Recall: 0.8870056497175142\n",
            "Validation F1-score: 0.8606582848856029\n",
            "Validation Classification Report:\n",
            "                  precision    recall  f1-score   support\n",
            "\n",
            "Negative emotion       0.96      0.30      0.45        84\n",
            "Positive emotion       0.88      1.00      0.94       447\n",
            "\n",
            "        accuracy                           0.89       531\n",
            "       macro avg       0.92      0.65      0.70       531\n",
            "    weighted avg       0.90      0.89      0.86       531\n",
            "\n"
          ]
        }
      ],
      "source": [
        "from sklearn.svm import SVC\n",
        "from sklearn.naive_bayes import MultinomialNB\n",
        "from sklearn.ensemble import RandomForestClassifier\n",
        "from sklearn.metrics import accuracy_score, precision_score, recall_score, f1_score, classification_report\n",
        "from sklearn.feature_extraction.text import CountVectorizer\n",
        "from sklearn.model_selection import train_test_split\n",
        "\n",
        "# Split the filtered dataset into features (X) and target variable (y)\n",
        "X_filtered = filtered_data['tweet']\n",
        "y_filtered = filtered_data['sentiment']\n",
        "\n",
        "# Split the filtered dataset into training, validation, and testing sets\n",
        "# 70% training, 15% validation, 15% testing\n",
        "X_train_filtered, X_temp_filtered, y_train_filtered, y_temp_filtered = train_test_split(X_filtered, y_filtered, test_size=0.3, random_state=42)\n",
        "X_val_filtered, X_test_filtered, y_val_filtered, y_test_filtered = train_test_split(X_temp_filtered, y_temp_filtered, test_size=0.5, random_state=42)\n",
        "\n",
        "# Initialize CountVectorizer\n",
        "count_vectorizer_filtered = CountVectorizer()\n",
        "\n",
        "# Fit and transform the training data\n",
        "X_train_bow_filtered = count_vectorizer_filtered.fit_transform(X_train_filtered)\n",
        "X_val_bow_filtered = count_vectorizer_filtered.transform(X_val_filtered)\n",
        "X_test_bow_filtered = count_vectorizer_filtered.transform(X_test_filtered)\n",
        "\n",
        "# Initialize classifiers\n",
        "classifiers = {\n",
        "    \"SVM\": SVC(),\n",
        "    \"Naive Bayes\": MultinomialNB(),\n",
        "    \"Random Forest\": RandomForestClassifier()\n",
        "}\n",
        "\n",
        "# Train and evaluate classifiers\n",
        "for name, clf in classifiers.items():\n",
        "    print(f\"\\n{name}:\")\n",
        "    clf.fit(X_train_bow_filtered, y_train_filtered)\n",
        "    y_val_pred_filtered = clf.predict(X_val_bow_filtered)\n",
        "\n",
        "    # Calculate evaluation metrics on the validation set\n",
        "    accuracy_val_filtered = accuracy_score(y_val_filtered, y_val_pred_filtered)\n",
        "    precision_val_filtered = precision_score(y_val_filtered, y_val_pred_filtered, average='weighted')\n",
        "    recall_val_filtered = recall_score(y_val_filtered, y_val_pred_filtered, average='weighted')\n",
        "    f1_val_filtered = f1_score(y_val_filtered, y_val_pred_filtered, average='weighted')\n",
        "\n",
        "    # Print evaluation metrics\n",
        "    print(\"Validation Accuracy:\", accuracy_val_filtered)\n",
        "    print(\"Validation Precision:\", precision_val_filtered)\n",
        "    print(\"Validation Recall:\", recall_val_filtered)\n",
        "    print(\"Validation F1-score:\", f1_val_filtered)\n",
        "\n",
        "    # Print classification report for validation set\n",
        "    print(\"Validation Classification Report:\")\n",
        "    print(classification_report(y_val_filtered, y_val_pred_filtered))\n"
      ]
    },
    {
      "cell_type": "code",
      "execution_count": null,
      "metadata": {
        "id": "9yqyAXjrDdvI"
      },
      "outputs": [],
      "source": []
    },
    {
      "cell_type": "code",
      "execution_count": 19,
      "metadata": {
        "colab": {
          "base_uri": "https://localhost:8080/",
          "height": 1000
        },
        "id": "gGQ-NGtVfZQm",
        "outputId": "c2eb7bf0-b94d-4dde-9a2c-c8428b828fce"
      },
      "outputs": [
        {
          "name": "stdout",
          "output_type": "stream",
          "text": [
            "\n",
            "SVM:\n"
          ]
        },
        {
          "ename": "NameError",
          "evalue": "name 'X_train_bow' is not defined",
          "output_type": "error",
          "traceback": [
            "\u001b[1;31m---------------------------------------------------------------------------\u001b[0m",
            "\u001b[1;31mNameError\u001b[0m                                 Traceback (most recent call last)",
            "Cell \u001b[1;32mIn[19], line 7\u001b[0m\n\u001b[0;32m      5\u001b[0m \u001b[38;5;28;01mfor\u001b[39;00m name, clf \u001b[38;5;129;01min\u001b[39;00m classifiers\u001b[38;5;241m.\u001b[39mitems():\n\u001b[0;32m      6\u001b[0m     \u001b[38;5;28mprint\u001b[39m(\u001b[38;5;124mf\u001b[39m\u001b[38;5;124m\"\u001b[39m\u001b[38;5;130;01m\\n\u001b[39;00m\u001b[38;5;132;01m{\u001b[39;00mname\u001b[38;5;132;01m}\u001b[39;00m\u001b[38;5;124m:\u001b[39m\u001b[38;5;124m\"\u001b[39m)\n\u001b[1;32m----> 7\u001b[0m     clf\u001b[38;5;241m.\u001b[39mfit(\u001b[43mX_train_bow\u001b[49m, y_train_filtered)\n\u001b[0;32m      8\u001b[0m     y_pred \u001b[38;5;241m=\u001b[39m clf\u001b[38;5;241m.\u001b[39mpredict(X_test_bow)\n\u001b[0;32m     10\u001b[0m     \u001b[38;5;66;03m# Calculate evaluation metrics\u001b[39;00m\n",
            "\u001b[1;31mNameError\u001b[0m: name 'X_train_bow' is not defined"
          ]
        }
      ],
      "source": [
        "# Convert the target variable to binary format\n",
        "y_test_binary = y_test_filtered.map({'Positive emotion': 1, 'Negative emotion': 0})\n",
        "\n",
        "# Train and evaluate classifiers\n",
        "for name, clf in classifiers.items():\n",
        "    print(f\"\\n{name}:\")\n",
        "    clf.fit(X_train_bow, y_train_filtered)\n",
        "    y_pred = clf.predict(X_test_bow)\n",
        "\n",
        "    # Calculate evaluation metrics\n",
        "    accuracy = accuracy_score(y_test_filtered, y_pred)\n",
        "    precision = precision_score(y_test_filtered, y_pred, average='weighted')\n",
        "    recall = recall_score(y_test_filtered, y_pred, average='weighted')\n",
        "    f1 = f1_score(y_test_filtered, y_pred, average='weighted')\n",
        "    auc = roc_auc_score(y_test_binary, clf.predict_proba(X_test_bow)[:, 1])\n",
        "\n",
        "    # Print evaluation metrics\n",
        "    print(\"Accuracy:\", accuracy)\n",
        "    print(\"Precision:\", precision)\n",
        "    print(\"Recall:\", recall)\n",
        "    print(\"F1-score:\", f1)\n",
        "    print(\"AUC:\", auc)\n",
        "\n",
        "    # Plot ROC curve\n",
        "    if hasattr(clf, \"predict_proba\"):\n",
        "        fpr, tpr, _ = roc_curve(y_test_binary, clf.predict_proba(X_test_bow)[:, 1])\n",
        "        plt.figure()\n",
        "        plt.plot(fpr, tpr, color='darkorange', lw=2, label='ROC curve')\n",
        "        plt.plot([0, 1], [0, 1], color='navy', lw=2, linestyle='--')\n",
        "        plt.xlim([0.0, 1.0])\n",
        "        plt.ylim([0.0, 1.05])\n",
        "        plt.xlabel('False Positive Rate')\n",
        "        plt.ylabel('True Positive Rate')\n",
        "        plt.title('Receiver Operating Characteristic (ROC)')\n",
        "        plt.legend(loc=\"lower right\")\n",
        "        plt.show()\n"
      ]
    },
    {
      "cell_type": "code",
      "execution_count": null,
      "metadata": {
        "colab": {
          "base_uri": "https://localhost:8080/"
        },
        "id": "oDxILxvDfChP",
        "outputId": "35c5474f-df91-4233-ebe4-f880f6f2bcb6"
      },
      "outputs": [
        {
          "name": "stdout",
          "output_type": "stream",
          "text": [
            "SVM Accuracy: 0.8531073446327684\n",
            "SVM Classification Report:\n",
            "                  precision    recall  f1-score   support\n",
            "\n",
            "Negative emotion       1.00      0.14      0.25       121\n",
            "Positive emotion       0.85      1.00      0.92       587\n",
            "\n",
            "        accuracy                           0.85       708\n",
            "       macro avg       0.92      0.57      0.58       708\n",
            "    weighted avg       0.88      0.85      0.80       708\n",
            "\n",
            "Naive Bayes Accuracy: 0.8728813559322034\n",
            "Naive Bayes Classification Report:\n",
            "                  precision    recall  f1-score   support\n",
            "\n",
            "Negative emotion       0.66      0.52      0.58       121\n",
            "Positive emotion       0.91      0.95      0.92       587\n",
            "\n",
            "        accuracy                           0.87       708\n",
            "       macro avg       0.78      0.73      0.75       708\n",
            "    weighted avg       0.86      0.87      0.87       708\n",
            "\n",
            "Random Forest Accuracy: 0.8333333333333334\n",
            "Random Forest Classification Report:\n",
            "                  precision    recall  f1-score   support\n",
            "\n",
            "Negative emotion       1.00      0.02      0.05       121\n",
            "Positive emotion       0.83      1.00      0.91       587\n",
            "\n",
            "        accuracy                           0.83       708\n",
            "       macro avg       0.92      0.51      0.48       708\n",
            "    weighted avg       0.86      0.83      0.76       708\n",
            "\n"
          ]
        }
      ],
      "source": [
        "# prompt: fine tune the parameter to check whether the model perfomance will improve\n",
        "\n",
        "# Initialize CountVectorizer\n",
        "count_vectorizer = CountVectorizer(max_features=5000)\n",
        "\n",
        "# Fit and transform the training data\n",
        "X_train_bow = count_vectorizer.fit_transform(X_train_filtered)\n",
        "X_test_bow = count_vectorizer.transform(X_test_filtered)\n",
        "\n",
        "# Initialize SVM classifier with tuned parameters\n",
        "clf_svm = SVC(C=1.0, kernel='rbf', gamma='scale')\n",
        "\n",
        "# Train the model\n",
        "clf_svm.fit(X_train_bow, y_train_filtered)\n",
        "\n",
        "# Predict on the testing data\n",
        "y_pred_svm = clf_svm.predict(X_test_bow)\n",
        "\n",
        "# Calculate accuracy\n",
        "accuracy_svm = accuracy_score(y_test_filtered, y_pred_svm)\n",
        "print(\"SVM Accuracy:\", accuracy_svm)\n",
        "\n",
        "# Print classification report\n",
        "print(\"SVM Classification Report:\")\n",
        "print(classification_report(y_test_filtered, y_pred_svm))\n",
        "\n",
        "# Initialize Naive Bayes classifier with tuned parameters\n",
        "clf_nb = MultinomialNB(alpha=0.1)\n",
        "\n",
        "# Train the model\n",
        "clf_nb.fit(X_train_bow, y_train_filtered)\n",
        "\n",
        "# Predict on the testing data\n",
        "y_pred_nb = clf_nb.predict(X_test_bow)\n",
        "\n",
        "# Calculate accuracy\n",
        "accuracy_nb = accuracy_score(y_test_filtered, y_pred_nb)\n",
        "print(\"Naive Bayes Accuracy:\", accuracy_nb)\n",
        "\n",
        "# Print classification report\n",
        "print(\"Naive Bayes Classification Report:\")\n",
        "print(classification_report(y_test_filtered, y_pred_nb))\n",
        "\n",
        "# Initialize Random Forest classifier with tuned parameters\n",
        "clf_rf = RandomForestClassifier(n_estimators=100, max_depth=20, random_state=42)\n",
        "\n",
        "# Train the model\n",
        "clf_rf.fit(X_train_bow, y_train_filtered)\n",
        "\n",
        "# Predict on the testing data\n",
        "y_pred_rf = clf_rf.predict(X_test_bow)\n",
        "\n",
        "# Calculate accuracy\n",
        "accuracy_rf = accuracy_score(y_test_filtered, y_pred_rf)\n",
        "print(\"Random Forest Accuracy:\", accuracy_rf)\n",
        "\n",
        "# Print classification report\n",
        "print(\"Random Forest Classification Report:\")\n",
        "print(classification_report(y_test_filtered, y_pred_rf))\n"
      ]
    },
    {
      "cell_type": "markdown",
      "metadata": {
        "id": "T85eAHcgcCCX"
      },
      "source": [
        "### Multiclass Classification"
      ]
    },
    {
      "cell_type": "code",
      "execution_count": null,
      "metadata": {
        "colab": {
          "base_uri": "https://localhost:8080/",
          "height": 1000
        },
        "id": "7ZgrCG--FADJ",
        "outputId": "dbd57ffd-488d-4a8a-c448-29e268506bb6"
      },
      "outputs": [
        {
          "name": "stdout",
          "output_type": "stream",
          "text": [
            "\n",
            "SVM:\n",
            "Validation Accuracy: 0.8681732580037664\n",
            "Validation Precision: 0.8860221398988077\n",
            "Validation Recall: 0.8681732580037664\n",
            "Validation F1-score: 0.8258785193520408\n",
            "Validation AUC: 0.8578619367209972\n"
          ]
        },
        {
          "data": {
            "image/png": "[encoded data removed]",
            "text/plain": [
              "<Figure size 640x480 with 1 Axes>"
            ]
          },
          "metadata": {},
          "output_type": "display_data"
        },
        {
          "name": "stdout",
          "output_type": "stream",
          "text": [
            "\n",
            "Naive Bayes:\n",
            "Validation Accuracy: 0.8775894538606404\n",
            "Validation Precision: 0.8700488427191544\n",
            "Validation Recall: 0.8775894538606404\n",
            "Validation F1-score: 0.8528072333815017\n",
            "Validation AUC: 0.8213220411206988\n"
          ]
        },
        {
          "data": {
            "image/png": "[encoded data removed]",
            "text/plain": [
              "<Figure size 640x480 with 1 Axes>"
            ]
          },
          "metadata": {},
          "output_type": "display_data"
        },
        {
          "name": "stdout",
          "output_type": "stream",
          "text": [
            "\n",
            "Random Forest:\n",
            "Validation Accuracy: 0.8888888888888888\n",
            "Validation Precision: 0.9018445322793148\n",
            "Validation Recall: 0.8888888888888888\n",
            "Validation F1-score: 0.8622569641659527\n",
            "Validation AUC: 0.8661846170235432\n"
          ]
        },
        {
          "data": {
            "image/png": "[encoded data removed]",
            "text/plain": [
              "<Figure size 640x480 with 1 Axes>"
            ]
          },
          "metadata": {},
          "output_type": "display_data"
        }
      ],
      "source": [
        "from sklearn.svm import SVC\n",
        "from sklearn.naive_bayes import MultinomialNB\n",
        "from sklearn.ensemble import RandomForestClassifier\n",
        "from sklearn.metrics import accuracy_score, precision_score, recall_score, f1_score, roc_auc_score, roc_curve\n",
        "from sklearn.feature_extraction.text import CountVectorizer\n",
        "from sklearn.model_selection import train_test_split\n",
        "\n",
        "# Split the filtered dataset into features (X) and target variable (y)\n",
        "X_filtered = filtered_data['tweet']\n",
        "y_filtered = filtered_data['sentiment']\n",
        "\n",
        "# Split the filtered dataset into training, validation, and testing sets\n",
        "# 70% training, 15% validation, 15% testing\n",
        "X_train_filtered, X_temp_filtered, y_train_filtered, y_temp_filtered = train_test_split(X_filtered, y_filtered, test_size=0.3, random_state=42)\n",
        "X_val_filtered, X_test_filtered, y_val_filtered, y_test_filtered = train_test_split(X_temp_filtered, y_temp_filtered, test_size=0.5, random_state=42)\n",
        "\n",
        "# Convert the target variable to binary format\n",
        "y_val_binary = y_val_filtered.map({'Positive emotion': 1, 'Negative emotion': 0})\n",
        "\n",
        "# Initialize CountVectorizer\n",
        "count_vectorizer_filtered = CountVectorizer()\n",
        "\n",
        "# Fit and transform the training data\n",
        "X_train_bow_filtered = count_vectorizer_filtered.fit_transform(X_train_filtered)\n",
        "X_val_bow_filtered = count_vectorizer_filtered.transform(X_val_filtered)\n",
        "X_test_bow_filtered = count_vectorizer_filtered.transform(X_test_filtered)\n",
        "\n",
        "# Initialize classifiers\n",
        "classifiers = {\n",
        "    \"SVM\": SVC(probability=True),  # Set probability=True to enable predict_proba\n",
        "    \"Naive Bayes\": MultinomialNB(),\n",
        "    \"Random Forest\": RandomForestClassifier()\n",
        "}\n",
        "\n",
        "# Train and evaluate classifiers\n",
        "for name, clf in classifiers.items():\n",
        "    print(f\"\\n{name}:\")\n",
        "    clf.fit(X_train_bow_filtered, y_train_filtered)\n",
        "    y_val_pred = clf.predict(X_val_bow_filtered)\n",
        "\n",
        "    # Calculate evaluation metrics on the validation set\n",
        "    accuracy_val = accuracy_score(y_val_filtered, y_val_pred)\n",
        "    precision_val = precision_score(y_val_filtered, y_val_pred, average='weighted')\n",
        "    recall_val = recall_score(y_val_filtered, y_val_pred, average='weighted')\n",
        "    f1_val = f1_score(y_val_filtered, y_val_pred, average='weighted')\n",
        "    auc_val = roc_auc_score(y_val_binary, clf.predict_proba(X_val_bow_filtered)[:, 1])\n",
        "\n",
        "    # Print evaluation metrics\n",
        "    print(\"Validation Accuracy:\", accuracy_val)\n",
        "    print(\"Validation Precision:\", precision_val)\n",
        "    print(\"Validation Recall:\", recall_val)\n",
        "    print(\"Validation F1-score:\", f1_val)\n",
        "    print(\"Validation AUC:\", auc_val)\n",
        "\n",
        "    # Plot ROC curve\n",
        "    fpr, tpr, _ = roc_curve(y_val_binary, clf.predict_proba(X_val_bow_filtered)[:, 1])\n",
        "    plt.figure()\n",
        "    plt.plot(fpr, tpr, color='darkorange', lw=2, label='ROC curve')\n",
        "    plt.plot([0, 1], [0, 1], color='navy', lw=2, linestyle='--')\n",
        "    plt.xlim([0.0, 1.0])\n",
        "    plt.ylim([0.0, 1.05])\n",
        "    plt.xlabel('False Positive Rate')\n",
        "    plt.ylabel('True Positive Rate')\n",
        "    plt.title('Receiver Operating Characteristic (ROC)')\n",
        "    plt.legend(loc=\"lower right\")\n",
        "    plt.show()\n"
      ]
    },
    {
      "cell_type": "markdown",
      "metadata": {
        "id": "jetdVdDCFObQ"
      },
      "source": [
        "**DO NOT RUN NOTEBOOK BEYOND THIS CELL**"
      ]
    },
    {
      "cell_type": "code",
      "execution_count": null,
      "metadata": {
        "id": "OZbP-hEEcasg"
      },
      "outputs": [],
      "source": [
        "from sklearn.ensemble import RandomForestClassifier, GradientBoostingClassifier\n",
        "from sklearn.neural_network import MLPClassifier\n",
        "from sklearn.metrics import accuracy_score, classification_report\n",
        "from sklearn.feature_extraction.text import CountVectorizer\n",
        "\n",
        "# Initialize CountVectorizer\n",
        "count_vectorizer = CountVectorizer()\n",
        "\n",
        "# Fit and transform the training data\n",
        "X_train_bow = count_vectorizer.fit_transform(X_train)\n",
        "X_test_bow = count_vectorizer.transform(X_test)\n",
        "\n",
        "# Initialize classifiers\n",
        "classifiers = {\n",
        "    \"Random Forest\": RandomForestClassifier(),\n",
        "    \"Gradient Boosting\": GradientBoostingClassifier(),\n",
        "    \"Neural Network\": MLPClassifier(max_iter=1000)\n",
        "}\n",
        "\n",
        "# Train and evaluate classifiers\n",
        "for name, clf in classifiers.items():\n",
        "    print(f\"\\n{name}:\")\n",
        "    clf.fit(X_train_bow, y_train)\n",
        "    y_pred = clf.predict(X_test_bow)\n",
        "\n",
        "    # Calculate accuracy\n",
        "    accuracy = accuracy_score(y_test, y_pred)\n",
        "    print(\"Accuracy:\", accuracy)\n",
        "\n",
        "    # Print classification report\n",
        "    print(\"Classification Report:\")\n",
        "    print(classification_report(y_test, y_pred))\n"
      ]
    },
    {
      "cell_type": "markdown",
      "metadata": {
        "id": "ujnCtmFf8l_K"
      },
      "source": [
        "# Data visualization"
      ]
    },
    {
      "cell_type": "markdown",
      "metadata": {
        "id": "PP3rKWHQ8l_K"
      },
      "source": [
        "# Overall sentiment distribution"
      ]
    },
    {
      "cell_type": "code",
      "execution_count": null,
      "metadata": {
        "id": "UqGXu5DZ8l_K"
      },
      "outputs": [],
      "source": [
        " #Calculate overall sentiment distribution\n",
        "sentiment_distribution = data['is_there_an_emotion_directed_at_a_brand_or_product'].value_counts()\n",
        "print(\"Overall Sentiment Distribution:\")\n",
        "print(sentiment_distribution)"
      ]
    },
    {
      "cell_type": "markdown",
      "metadata": {
        "id": "u5Ly8JY68l_L"
      },
      "source": [
        "This is the general overview of sentiment trends"
      ]
    },
    {
      "cell_type": "markdown",
      "metadata": {
        "id": "hg6EufZR8l_L"
      },
      "source": [
        "# Most mentioned brand or product"
      ]
    },
    {
      "cell_type": "code",
      "execution_count": null,
      "metadata": {
        "id": "h7-MGQe88l_L"
      },
      "outputs": [],
      "source": [
        "#Identify most mentioned brands/products\n",
        "most_mentioned = data['emotion_in_tweet_is_directed_at'].value_counts().head(10)\n",
        "print(\"\\nTop 10 Mentioned Brands/Products:\")\n",
        "print(most_mentioned)"
      ]
    },
    {
      "cell_type": "markdown",
      "metadata": {
        "id": "tAMnA_Gq8l_L"
      },
      "source": [
        "By examining the top 10 most mentioned brands or products, businesses can identify which ones are receiving the most attention or discussion on social media platforms."
      ]
    },
    {
      "cell_type": "markdown",
      "metadata": {
        "id": "edbuthWe8l_L"
      },
      "source": [
        "# Sentiment distribution for each brand or product"
      ]
    },
    {
      "cell_type": "code",
      "execution_count": null,
      "metadata": {
        "id": "oRF5fFRS8l_L"
      },
      "outputs": [],
      "source": [
        "# Sentiment distribution for each brand/product\n",
        "brand_sentiment = data.groupby(['emotion_in_tweet_is_directed_at', 'is_there_an_emotion_directed_at_a_brand_or_product']).size().unstack(fill_value=0)\n",
        "brand_sentiment.plot(kind='bar', stacked=True, figsize=(10, 6))\n",
        "plt.title(\"Sentiment Distribution for Brands/Products\")\n",
        "plt.xlabel(\"Brand/Product\")\n",
        "plt.ylabel(\"Count\")\n",
        "plt.xticks(rotation=45)\n",
        "plt.legend(title='Sentiment')\n",
        "plt.show()"
      ]
    },
    {
      "cell_type": "markdown",
      "metadata": {
        "id": "qhMuXvI18l_M"
      },
      "source": [
        "The plot provides a visual representation of the sentiment distribution across different brands or products to allow us grasp sentiment trends across the brands or products."
      ]
    },
    {
      "cell_type": "code",
      "execution_count": null,
      "metadata": {
        "id": "bzQMc4w08l_M"
      },
      "outputs": [],
      "source": [
        "#loading dataset\n",
        "df = pd.read_csv('judge-1377884607_tweet_product_company.csv', encoding='latin1')\n",
        "df.head()"
      ]
    },
    {
      "cell_type": "code",
      "execution_count": null,
      "metadata": {
        "id": "9Nq9p8sx8l_M"
      },
      "outputs": [],
      "source": [
        "df['emotion_in_tweet_is_directed_at'].value_counts()"
      ]
    },
    {
      "cell_type": "code",
      "execution_count": null,
      "metadata": {
        "id": "Ola_fn8f8l_M"
      },
      "outputs": [],
      "source": [
        "apple_keywords = ['apple', 'iphone', 'ipad', 'mac', 'ios','itunes']\n",
        "google_keywords = ['google', 'android', 'pixel', 'chromebook','android','samsung']\n",
        "\n",
        "# Function to check if a tweet contains keywords related to Apple or Google\n",
        "def check_product(tweet):\n",
        "    if isinstance(tweet, str):\n",
        "        tweet_lower = tweet.lower()\n",
        "        if any(keyword in tweet_lower for keyword in apple_keywords):\n",
        "            return 'Apple'\n",
        "        elif any(keyword in tweet_lower for keyword in google_keywords):\n",
        "            return 'Google'\n",
        "    return None\n",
        "\n",
        "null_rows = df[df['emotion_in_tweet_is_directed_at'].isnull()]\n",
        "null_rows['emotion_in_tweet_is_directed_at'] = null_rows['tweet_text'].apply(check_product)\n",
        "df.update(null_rows)\n",
        "df['emotion_in_tweet_is_directed_at'].isnull().sum()"
      ]
    },
    {
      "cell_type": "code",
      "execution_count": null,
      "metadata": {
        "id": "e2vv5jUQ8l_M"
      },
      "outputs": [],
      "source": [
        "# Successfully renamed the column for our convenience.\n",
        "df.rename(columns={'emotion_in_tweet_is_directed_at':'emotion_towards','is_there_an_emotion_directed_at_a_brand_or_product':'emotion_reaction'},inplace=True)"
      ]
    },
    {
      "cell_type": "code",
      "execution_count": null,
      "metadata": {
        "id": "AjJT-CoT8l_N"
      },
      "outputs": [],
      "source": [
        "df.head()"
      ]
    },
    {
      "cell_type": "code",
      "execution_count": null,
      "metadata": {
        "id": "Sot4JgaR8l_N"
      },
      "outputs": [],
      "source": [
        "#explore the data\n",
        "df.info()"
      ]
    },
    {
      "cell_type": "code",
      "execution_count": null,
      "metadata": {
        "id": "V5OAGD4o8l_N"
      },
      "outputs": [],
      "source": [
        "df.isnull().sum()  # check missing values"
      ]
    },
    {
      "cell_type": "markdown",
      "metadata": {
        "id": "1JIfYoQx8l_O"
      },
      "source": [
        "tweet_text: There is 1 missing value in the \"tweet_text\" column.\n",
        "emotion_towards: There are 5802 missing values in the \"emotion_towards\" column.\n",
        "emotion_reaction: There are no missing values (0) in the \"emotion_reaction\" column."
      ]
    },
    {
      "cell_type": "code",
      "execution_count": null,
      "metadata": {
        "id": "UfndAtah8l_Z"
      },
      "outputs": [],
      "source": [
        "product_counts = df['emotion_towards'].value_counts()\n",
        "print(\"\\nProduct counts:\")\n",
        "print(product_counts)"
      ]
    },
    {
      "cell_type": "code",
      "execution_count": null,
      "metadata": {
        "id": "21sHAYdZ8l_Z"
      },
      "outputs": [],
      "source": [
        "# filling the null values\n",
        "df.dropna(inplace=True)"
      ]
    },
    {
      "cell_type": "code",
      "execution_count": null,
      "metadata": {
        "id": "nYd_6gur8l_Z"
      },
      "outputs": [],
      "source": [
        "# check if there is any missing values\n",
        "df.isnull().sum()"
      ]
    },
    {
      "cell_type": "code",
      "execution_count": null,
      "metadata": {
        "id": "Sx706Z_k8l_a"
      },
      "outputs": [],
      "source": [
        "# Sort the DataFrame by the count of 'emotion_towards' in ascending order\n",
        "sorted_df = df['emotion_towards'].value_counts().reset_index(name='count').sort_values(by='count', ascending=False)\n",
        "\n",
        "# Plot\n",
        "plt.figure(figsize=(20, 15))\n",
        "ax = sns.countplot(x='emotion_towards', data=df, order=sorted_df['emotion_towards'], color='skyblue')\n",
        "\n",
        "# Add data labels\n",
        "for p in ax.patches:\n",
        "    ax.annotate(format(p.get_height(), '.0f'),\n",
        "                (p.get_x() + p.get_width() / 2., p.get_height()),\n",
        "                ha = 'center', va = 'center',\n",
        "                xytext = (0, 10),\n",
        "                textcoords = 'offset points')"
      ]
    },
    {
      "cell_type": "code",
      "execution_count": null,
      "metadata": {
        "id": "Yu9xbV3b8l_a"
      },
      "outputs": [],
      "source": [
        "# Sort the DataFrame by the count of 'emotion_reaction' in descending order\n",
        "sorted_df = df['emotion_reaction'].value_counts().reset_index(name='count').sort_values(by='count', ascending=False)\n",
        "\n",
        "# Plot\n",
        "plt.figure(figsize=(15, 8))\n",
        "sns.countplot(x='emotion_reaction', data=df, order=sorted_df['emotion_reaction'], color='skyblue')\n",
        "plt.show()"
      ]
    },
    {
      "cell_type": "code",
      "execution_count": null,
      "metadata": {
        "id": "C6VP_dAK8l_a"
      },
      "outputs": [],
      "source": [
        "#  The count of 'emotion_reaction' in descending order\n",
        "sorted_df = df['emotion_reaction'].value_counts().reset_index(name='count').sort_values(by='count', ascending=False)\n",
        "\n",
        "# Plot\n",
        "plt.figure(figsize=(15, 8))\n",
        "ax = sns.countplot(x='emotion_reaction', data=df, order=sorted_df['emotion_reaction'], color='skyblue')\n",
        "\n",
        "# Add data labels\n",
        "for p in ax.patches:\n",
        "    ax.annotate(format(p.get_height(), '.0f'),\n",
        "                (p.get_x() + p.get_width() / 2., p.get_height()),\n",
        "                ha = 'center', va = 'center',\n",
        "                xytext = (0, 10),\n",
        "                textcoords = 'offset points')\n",
        "\n",
        "plt.show()"
      ]
    },
    {
      "cell_type": "code",
      "execution_count": null,
      "metadata": {
        "id": "lLXxBK0v8l_b"
      },
      "outputs": [],
      "source": [
        "# Sort the DataFrame by the count of 'emotion_towards' in descending order\n",
        "sorted_df = df['emotion_towards'].value_counts().reset_index(name='count').sort_values(by='count', ascending=False)\n",
        "\n",
        "# Plot\n",
        "plt.figure(figsize=(25, 20))\n",
        "g = sns.FacetGrid(df, col=\"emotion_towards\", col_order=sorted_df['emotion_towards'])\n",
        "g.map(sns.countplot, \"emotion_reaction\", order=df['emotion_reaction'].value_counts().index, color='skyblue')\n",
        "plt.show()"
      ]
    },
    {
      "cell_type": "code",
      "execution_count": null,
      "metadata": {
        "id": "HaWNDLGE8l_b"
      },
      "outputs": [],
      "source": [
        "df.describe()"
      ]
    },
    {
      "cell_type": "code",
      "execution_count": null,
      "metadata": {
        "id": "K689IIJd8l_b"
      },
      "outputs": [],
      "source": [
        "no_emotion_tweets = df[df['emotion_reaction'] == 'emotion_towards']['tweet_text']\n",
        "no_emotion_tweets.count()"
      ]
    },
    {
      "cell_type": "code",
      "execution_count": null,
      "metadata": {
        "id": "3-z9YA3k8l_c"
      },
      "outputs": [],
      "source": [
        "# Get unique emotions\n",
        "unique_emotions = df['emotion_reaction'].unique()\n",
        "unique_emotions"
      ]
    },
    {
      "cell_type": "code",
      "execution_count": null,
      "metadata": {
        "id": "pd5oEgCj8l_c"
      },
      "outputs": [],
      "source": [
        "# Get counts of each emotion\n",
        "emotion_counts = df['emotion_reaction'].value_counts()\n",
        "# Sort emotions from highest to lowest\n",
        "sorted_emotions = emotion_counts.sort_values(ascending=False)\n",
        "sorted_emotions"
      ]
    },
    {
      "cell_type": "code",
      "execution_count": null,
      "metadata": {
        "id": "fEOm-tPV8l_c"
      },
      "outputs": [],
      "source": [
        "df.columns"
      ]
    },
    {
      "cell_type": "code",
      "execution_count": null,
      "metadata": {
        "id": "lrbwm8-K8l_c"
      },
      "outputs": [],
      "source": [
        "unique_products = df['emotion_towards'].unique()\n",
        "print(\"Unique products mentioned:\")\n",
        "print(unique_products)"
      ]
    },
    {
      "cell_type": "code",
      "execution_count": null,
      "metadata": {
        "id": "_-z0x1OV8l_d"
      },
      "outputs": [],
      "source": [
        "product_counts = df['emotion_towards'].value_counts()\n",
        "print(\"\\nProduct counts:\")\n",
        "print(product_counts)"
      ]
    },
    {
      "cell_type": "code",
      "execution_count": null,
      "metadata": {
        "id": "rGR2owz_8l_d"
      },
      "outputs": [],
      "source": [
        "ipad_tweets = df[df['emotion_towards'] == 'iPad']['tweet_text']\n",
        "print(\"\\nRelevant tweets mentioning iPad:\")\n",
        "print(ipad_tweets.head())"
      ]
    },
    {
      "cell_type": "code",
      "execution_count": null,
      "metadata": {
        "id": "g1J_orpx8l_e"
      },
      "outputs": [],
      "source": [
        "ipad_tweets = df[df['emotion_towards'] == 'iPad']['tweet_text']\n",
        "ipad_tweets"
      ]
    },
    {
      "cell_type": "markdown",
      "metadata": {
        "id": "RKsor4p78l_e"
      },
      "source": [
        "The dataframe has 9093 rows and 3 columns.\n",
        "All the data is of the object type which normally represents text or categorical data\n",
        "\n",
        "The columns are named:\n",
        "tweet_text\n",
        "    -contains 9092 non-null entries of text data (ie tweets)\n",
        "emotion_in_tweet_is_directed_at\n",
        "    - Represents the emotion attached to a specific brand or product (e.g., “iPad”).\n",
        "    - There are 3291 non-null entries.\n",
        "    - The most frequent value is “iPad” (appears 946 times)\n",
        "is_there_an_emotion_directed_at_a_brand_or_product\n",
        "    -Indicates whether there is an emotion directed at a brand or product.\n",
        "    -Four possible values:\n",
        "        “Positive emotion”, “Negative emotion”,“No emotion toward brand or product” (appears 5389 times),“I can’t tell”\n",
        "        \n"
      ]
    },
    {
      "cell_type": "code",
      "execution_count": null,
      "metadata": {
        "id": "7zbT-31g8l_f"
      },
      "outputs": [],
      "source": [
        "import re\n",
        "from nltk.corpus import stopwords\n",
        "from nltk.tokenize import word_tokenize\n",
        "\n",
        "def clean_text(text):\n",
        "\n",
        "    text = text.lower()\n",
        "\n",
        "    # Remove punctuation\n",
        "    text = re.sub(r'[^\\w\\s]', '', text)\n",
        "\n",
        "    # Tokenize the text into words\n",
        "    words = word_tokenize(text)\n",
        "\n",
        "    # Remove stopwords and numbers\n",
        "    stop_words = set(stopwords.words('english'))\n",
        "    clean_words = [word for word in words if word not in stop_words and not word.isdigit()]\n",
        "\n",
        "    # Join the cleaned words back into a single string\n",
        "    cleaned_text = ' '.join(clean_words)\n",
        "\n",
        "    return cleaned_text\n"
      ]
    },
    {
      "cell_type": "code",
      "execution_count": null,
      "metadata": {
        "id": "qIXPM9dX8l_f"
      },
      "outputs": [],
      "source": [
        "nltk.download('stopwords')\n",
        "stopwords_list = stopwords.words('english')\n",
        "import string\n",
        "stopwords_list += string.punctuation\n",
        "st = nltk.PorterStemmer()\n",
        "def stemming(content):\n",
        "    stemmed_content = re.sub('[^a-zA-z]',' ',content)\n",
        "    stemmed_content = stemmed_content.lower()\n",
        "    stemmed_content = stemmed_content.split()\n",
        "    stemmed_content = [st.stem(word) for word in stemmed_content if word not in stopwords_list]\n",
        "    stemmed_content = ' '.join(stemmed_content)\n",
        "    return stemmed_content\n",
        "df['stemmed_tweets'] = df['tweet_text'].apply(stemming)\n",
        "df['stemmed_tweets'].head()\n",
        "\n"
      ]
    },
    {
      "cell_type": "code",
      "execution_count": null,
      "metadata": {
        "id": "1RTs77r18l_f"
      },
      "outputs": [],
      "source": [
        "df['emotion_reaction'].value_counts()"
      ]
    },
    {
      "cell_type": "markdown",
      "metadata": {
        "id": "oFAzIfOT8l_f"
      },
      "source": [
        "Lets drop 'I cant tell'"
      ]
    },
    {
      "cell_type": "code",
      "execution_count": null,
      "metadata": {
        "id": "4FXlO7Lu8l_g"
      },
      "outputs": [],
      "source": [
        "# Create a boolean mask to identify rows where the 'emotion' column contains 'I can't tell'\n",
        "mask = df['emotion_reaction'] != \"I can't tell\"\n",
        "\n",
        "# Apply the mask to filter out rows where the 'emotion' column contains 'I can't tell'\n",
        "df_filtered = df[mask]\n",
        "\n",
        "df_filtered.reset_index(drop=True, inplace=True)\n"
      ]
    },
    {
      "cell_type": "code",
      "execution_count": null,
      "metadata": {
        "id": "sDR58uQn8l_g"
      },
      "outputs": [],
      "source": [
        "df_filtered['emotion_reaction'].value_counts()"
      ]
    },
    {
      "cell_type": "markdown",
      "metadata": {
        "id": "KzNhhN4B8l_g"
      },
      "source": [
        "we remove no emotion too"
      ]
    },
    {
      "cell_type": "code",
      "execution_count": null,
      "metadata": {
        "id": "w9TsymEq8l_g"
      },
      "outputs": [],
      "source": [
        "df_filtered['emotion_reaction'] = df_filtered['emotion_reaction'].replace({'Positive emotion':1,'Negative emotion':0})\n",
        "df_filtered['emotion_reaction'].value_counts()"
      ]
    },
    {
      "cell_type": "markdown",
      "metadata": {
        "id": "VzboKsih8l_g"
      },
      "source": [
        "Split Data to X and Y for modelling"
      ]
    },
    {
      "cell_type": "code",
      "execution_count": null,
      "metadata": {
        "id": "mA0yolcD8l_h"
      },
      "outputs": [],
      "source": [
        "\n",
        "# List of Apple products and apps\n",
        "apple_products_and_apps = ['Apple', 'iPad', 'iPhone', 'iPad or iPhone App', 'Other Apple product or service']\n",
        "\n",
        "# List of Google products and apps\n",
        "google_products_and_apps = ['Google', 'Android', 'Android App', 'Other Google product or service']\n",
        "\n",
        "# Combine both lists\n",
        "products_and_apps_to_include = apple_products_and_apps + google_products_and_apps\n",
        "\n",
        "# Create a regular expression pattern from the combined list\n",
        "pattern = '|'.join(products_and_apps_to_include)\n",
        "\n",
        "# Filter rows where the 'emotion_towards' column contains the specified products and apps\n",
        "df_filtered = df_filtered[df_filtered['emotion_towards'].str.contains(pattern)]\n",
        "\n",
        "# Display the filtered DataFrame\n",
        "df_filtered.head()\n"
      ]
    },
    {
      "cell_type": "markdown",
      "metadata": {
        "id": "tsIemwKP8l_h"
      },
      "source": [
        "Clean text"
      ]
    },
    {
      "cell_type": "code",
      "execution_count": null,
      "metadata": {
        "id": "ji2rbiFh8l_h"
      },
      "outputs": [],
      "source": [
        "df_filtered['stemmed_tweets'] = df_filtered['stemmed_tweets'].apply(clean_text)\n",
        "df_filtered.head()"
      ]
    },
    {
      "cell_type": "code",
      "execution_count": null,
      "metadata": {
        "id": "XMhTzuq88l_h"
      },
      "outputs": [],
      "source": [
        "null_rows = df_filtered.copy()"
      ]
    },
    {
      "cell_type": "code",
      "execution_count": null,
      "metadata": {
        "id": "ceTWEJqP8l_h"
      },
      "outputs": [],
      "source": [
        "# Create a boolean mask to identify rows where the 'emotion' column contains 'I can't tell'\n",
        "mask = df_filtered['emotion_reaction'] != \"No emotion toward brand or product\"\n",
        "\n",
        "df_filtered.drop(df_filtered[~mask].index, inplace=True)\n",
        "\n",
        "df_filtered['emotion_reaction'].value_counts()"
      ]
    },
    {
      "cell_type": "code",
      "execution_count": null,
      "metadata": {
        "id": "Uu4CiRL78l_i"
      },
      "outputs": [],
      "source": [
        "X = df['stemmed_tweets'].values\n",
        "Y = df['emotion_reaction'].values\n",
        "X_train,X_test,y_train,y_test = train_test_split(X,Y,test_size=0.2,stratify=Y,random_state=42)"
      ]
    },
    {
      "cell_type": "code",
      "execution_count": null,
      "metadata": {
        "id": "FfweCXkk8l_i"
      },
      "outputs": [],
      "source": [
        "print(X_test)"
      ]
    },
    {
      "cell_type": "markdown",
      "metadata": {
        "id": "HAUm5ap-8l_i"
      },
      "source": [
        "Convert to numerical data"
      ]
    },
    {
      "cell_type": "code",
      "execution_count": null,
      "metadata": {
        "id": "jQMJKam28l_i"
      },
      "outputs": [],
      "source": [
        "vectorizer = TfidfVectorizer()\n",
        "X_train = vectorizer.fit_transform(X_train)\n",
        "X_test = vectorizer.transform(X_test)\n"
      ]
    },
    {
      "cell_type": "code",
      "execution_count": null,
      "metadata": {
        "id": "3Ntxh0-S8l_i"
      },
      "outputs": [],
      "source": [
        "print(X_train)"
      ]
    },
    {
      "cell_type": "markdown",
      "metadata": {
        "id": "nc0zPZLs8l_j"
      },
      "source": [
        "Training the LogReg model"
      ]
    },
    {
      "cell_type": "code",
      "execution_count": null,
      "metadata": {
        "id": "JBsCS4pj8l_j"
      },
      "outputs": [],
      "source": [
        "from sklearn.linear_model import LogisticRegression\n",
        "model = LogisticRegression(max_iter=1000)\n",
        "model.fit(X_train,y_train)\n"
      ]
    },
    {
      "cell_type": "code",
      "execution_count": null,
      "metadata": {
        "id": "V99fNdjZ8l_j"
      },
      "outputs": [],
      "source": [
        "df_filtered['emotion_reaction'].value_counts()"
      ]
    },
    {
      "cell_type": "code",
      "execution_count": null,
      "metadata": {
        "id": "VI8imwE08l_j"
      },
      "outputs": [],
      "source": [
        "y_pred = model.predict(X_train)\n",
        "train_data_accuracy = accuracy_score(y_train,y_pred)\n",
        "y_pred_test = model.predict(X_test)\n",
        "test_data_accuracy = accuracy_score(y_test,y_pred_test)\n",
        "print(f'Test Data Accuracy Score: {test_data_accuracy * 100} % \\n Train Data Accuracy Score: {train_data_accuracy*100} %')"
      ]
    },
    {
      "cell_type": "code",
      "execution_count": null,
      "metadata": {
        "id": "Ykmm04sh8l_j"
      },
      "outputs": [],
      "source": [
        "# Example tweet text\n",
        "tweet_text = \".@wesley83 I have a 3G iPhone. After 3 hrs twe...\"\n",
        "\n",
        "# Print original tweet text\n",
        "print(\"Original Text:\", tweet_text)\n",
        "\n",
        "# Clean the tweet text\n",
        "cleaned_text = clean_text(tweet_text)\n",
        "\n",
        "# Print cleaned tweet text\n",
        "print(\"Cleaned Text:\", cleaned_text)"
      ]
    },
    {
      "cell_type": "code",
      "execution_count": null,
      "metadata": {
        "id": "kjNU0z4C8l_k"
      },
      "outputs": [],
      "source": [
        "null_rows['emotion_reaction'] = null_rows['emotion_reaction'].replace({'No emotion toward brand or product':2})\n",
        "null_rows['emotion_reaction'].value_counts()\n",
        "logreg_multi = LogisticRegression(multi_class='multinomial',solver='lbfgs',max_iter=1000)\n",
        "X_m = null_rows['stemmed_tweets'].values\n",
        "Y_m = null_rows['emotion_reaction'].values\n",
        "x_ttrain,x_ttest,y_ttrain,y_ttest = train_test_split(X_m,Y_m,test_size=0.2,stratify=Y_m)\n",
        "x_ttrain = vectorizer.fit_transform(x_ttrain)\n",
        "x_ttest = vectorizer.transform(x_ttest)\n",
        "logreg_multi.fit(x_ttrain,y_ttrain)\n",
        "y_mtrain_pred = logreg_multi.predict(x_ttrain)\n",
        "y_mtest_pred = logreg_multi.predict(x_ttest)\n",
        "multi_accuracy_score_train = accuracy_score(y_ttrain,y_mtrain_pred)\n",
        "multi_accuracy_score_test = accuracy_score(y_ttest,y_mtest_pred)\n",
        "print(f'Multi Train Accuracy: {multi_accuracy_score_train*100} % \\nMulti Test Accuracy: {multi_accuracy_score_test*100} %')\n",
        "# null_rows_X = null_rows['stemmed_tweets']\n",
        "# no_reaction_pred = model.predict(null_rows_X)\n"
      ]
    },
    {
      "cell_type": "code",
      "execution_count": null,
      "metadata": {
        "id": "Mpjrz4NH8l_k"
      },
      "outputs": [],
      "source": []
    }
  ],
  "metadata": {
    "accelerator": "GPU",
    "colab": {
      "gpuType": "T4",
      "provenance": []
    },
    "kernelspec": {
      "display_name": "Python 3",
      "name": "python3"
    },
    "language_info": {
      "codemirror_mode": {
        "name": "ipython",
        "version": 3
      },
      "file_extension": ".py",
      "mimetype": "text/x-python",
      "name": "python",
      "nbconvert_exporter": "python",
      "pygments_lexer": "ipython3",
      "version": "3.12.2"
    }
  },
  "nbformat": 4,
  "nbformat_minor": 0
}
