{
  "cells": [
    {
      "cell_type": "markdown",
      "metadata": {
        "id": "view-in-github",
        "colab_type": "text"
      },
      "source": [
        "<a href=\"https://colab.research.google.com/github/Aachiko/NLP-Sentiment-Analysis-Apple-Google/blob/main/index_(11).ipynb\" target=\"_parent\"><img src=\"https://colab.research.google.com/assets/colab-badge.svg\" alt=\"Open In Colab\"/></a>"
      ]
    },
    {
      "cell_type": "markdown",
      "metadata": {
        "id": "2uXMrgMj8l_B"
      },
      "source": [
        "# Overview\n",
        "The project involves contributors evaluating tweets related to various brands and products. The crowd is tasked with determining whether each tweet expresses positive, negative, or neutral emotions towards a brand and/or product mentioned. Additionally, if there is emotional content, contributors are asked to identify which specific brand or product is being targeted."
      ]
    },
    {
      "cell_type": "markdown",
      "metadata": {
        "id": "P4CmGfu48l_D"
      },
      "source": [
        "# Business Understanding\n",
        "Understanding public sentiment towards brands and products is crucial for businesses to gauge their reputation, assess customer satisfaction, and identify areas for improvement. Analyzing social media data like tweets provides valuable insights into consumer opinions and preferences."
      ]
    },
    {
      "cell_type": "markdown",
      "metadata": {
        "id": "016D4pD48l_E"
      },
      "source": [
        "# Data Understanding\n",
        "The dataset contains 9093 rows of tweets related to multiple brands and products. Each tweet is annotated by contributors to indicate the sentiment expressed (positive, negative, or neutral) and specify the brand or product targeted by the emotion."
      ]
    },
    {
      "cell_type": "markdown",
      "metadata": {
        "id": "eZpX-44v8l_E"
      },
      "source": [
        "# Main Objective\n",
        "The main objective of the project is to analyze the sentiment of tweets towards various brands and products. By categorizing the sentiment as positive, negative, or neutral and identifying the specific targets of emotions, the aim is to gain insights into consumer perceptions and attitudes."
      ]
    },
    {
      "cell_type": "markdown",
      "metadata": {
        "id": "OeoazfBm8l_F"
      },
      "source": [
        "## Specific Objectives:\n",
        "\n",
        "1.Classify each tweet as expressing positive, negative, or neutral sentiment towards brands and products.\n",
        "\n",
        "2.Identify the specific brands or products targeted by the emotional content in each tweet.\n",
        "\n",
        "3.Analyze the overall sentiment distribution across brands and products.\n",
        "\n",
        "4.Explore patterns and trends in consumer sentiment over time or in response to specific events or marketing campaigns.\n"
      ]
    },
    {
      "cell_type": "code",
      "source": [],
      "metadata": {
        "id": "GrWM75RO-1iB"
      },
      "execution_count": null,
      "outputs": []
    },
    {
      "cell_type": "markdown",
      "source": [
        "## Import Relevant Libraries"
      ],
      "metadata": {
        "id": "iWrBE-MY-2CV"
      }
    },
    {
      "cell_type": "code",
      "execution_count": 1,
      "metadata": {
        "colab": {
          "base_uri": "https://localhost:8080/"
        },
        "id": "fMqHLkHV8l_F",
        "outputId": "6696e025-4c3e-4cf8-f5b7-e3110361014d"
      },
      "outputs": [
        {
          "output_type": "stream",
          "name": "stderr",
          "text": [
            "[nltk_data] Downloading package stopwords to /root/nltk_data...\n",
            "[nltk_data]   Unzipping corpora/stopwords.zip.\n",
            "[nltk_data] Downloading package punkt to /root/nltk_data...\n",
            "[nltk_data]   Unzipping tokenizers/punkt.zip.\n"
          ]
        }
      ],
      "source": [
        "#import libraries\n",
        "import pandas as pd\n",
        "import nltk\n",
        "from nltk.corpus import stopwords\n",
        "from nltk.tokenize import word_tokenize\n",
        "nltk.download('stopwords')\n",
        "nltk.download('punkt')\n",
        "import matplotlib.pyplot as plt\n",
        "import seaborn as sns\n",
        "import numpy as np\n",
        "import pandas as pd\n",
        "import seaborn as sns\n",
        "import matplotlib.pyplot as plt\n",
        "plt.style.use('ggplot')\n",
        "from sklearn.metrics import roc_curve, auc\n",
        "from sklearn.metrics import classification_report, confusion_matrix, accuracy_score\n",
        "import nltk\n",
        "from nltk.corpus import stopwords\n",
        "from nltk.stem import PorterStemmer\n",
        "from sklearn.model_selection import train_test_split\n",
        "# from mlxtend.plotting import plot_confusion_matrix\n",
        "import matplotlib.cm as cm\n",
        "from matplotlib import rcParams\n",
        "from collections import Counter\n",
        "from nltk.tokenize import RegexpTokenizer\n",
        "import re\n",
        "import string\n",
        "from tensorflow.keras.layers import LSTM, Activation, Dense, Dropout, Input, Embedding\n",
        "from tensorflow.keras.models import Model\n",
        "from tensorflow.keras.optimizers import RMSprop\n",
        "from tensorflow.keras.preprocessing.text import Tokenizer\n",
        "from tensorflow.keras.preprocessing import sequence\n",
        "from sklearn.feature_extraction.text import TfidfVectorizer\n",
        "%matplotlib inline\n",
        "\n",
        "import warnings\n",
        "warnings.filterwarnings(\"ignore\")\n"
      ]
    },
    {
      "cell_type": "markdown",
      "source": [
        "## Load Dataset"
      ],
      "metadata": {
        "id": "uZfz1ixf-53v"
      }
    },
    {
      "cell_type": "code",
      "execution_count": 2,
      "metadata": {
        "colab": {
          "base_uri": "https://localhost:8080/",
          "height": 379
        },
        "id": "Jni9OpJz8l_G",
        "outputId": "847a583e-d99d-44f4-e458-d6ad801b2e05"
      },
      "outputs": [
        {
          "output_type": "execute_result",
          "data": {
            "text/plain": [
              "                                          tweet_text  \\\n",
              "0  .@wesley83 I have a 3G iPhone. After 3 hrs twe...   \n",
              "1  @jessedee Know about @fludapp ? Awesome iPad/i...   \n",
              "2  @swonderlin Can not wait for #iPad 2 also. The...   \n",
              "3  @sxsw I hope this year's festival isn't as cra...   \n",
              "4  @sxtxstate great stuff on Fri #SXSW: Marissa M...   \n",
              "\n",
              "  emotion_in_tweet_is_directed_at  \\\n",
              "0                          iPhone   \n",
              "1              iPad or iPhone App   \n",
              "2                            iPad   \n",
              "3              iPad or iPhone App   \n",
              "4                          Google   \n",
              "\n",
              "  is_there_an_emotion_directed_at_a_brand_or_product  \n",
              "0                                   Negative emotion  \n",
              "1                                   Positive emotion  \n",
              "2                                   Positive emotion  \n",
              "3                                   Negative emotion  \n",
              "4                                   Positive emotion  "
            ],
            "text/html": [
              "\n",
              "  <div id=\"df-5295d157-7677-4b65-a7ba-d0517b6c1366\" class=\"colab-df-container\">\n",
              "    <div>\n",
              "<style scoped>\n",
              "    .dataframe tbody tr th:only-of-type {\n",
              "        vertical-align: middle;\n",
              "    }\n",
              "\n",
              "    .dataframe tbody tr th {\n",
              "        vertical-align: top;\n",
              "    }\n",
              "\n",
              "    .dataframe thead th {\n",
              "        text-align: right;\n",
              "    }\n",
              "</style>\n",
              "<table border=\"1\" class=\"dataframe\">\n",
              "  <thead>\n",
              "    <tr style=\"text-align: right;\">\n",
              "      <th></th>\n",
              "      <th>tweet_text</th>\n",
              "      <th>emotion_in_tweet_is_directed_at</th>\n",
              "      <th>is_there_an_emotion_directed_at_a_brand_or_product</th>\n",
              "    </tr>\n",
              "  </thead>\n",
              "  <tbody>\n",
              "    <tr>\n",
              "      <th>0</th>\n",
              "      <td>.@wesley83 I have a 3G iPhone. After 3 hrs twe...</td>\n",
              "      <td>iPhone</td>\n",
              "      <td>Negative emotion</td>\n",
              "    </tr>\n",
              "    <tr>\n",
              "      <th>1</th>\n",
              "      <td>@jessedee Know about @fludapp ? Awesome iPad/i...</td>\n",
              "      <td>iPad or iPhone App</td>\n",
              "      <td>Positive emotion</td>\n",
              "    </tr>\n",
              "    <tr>\n",
              "      <th>2</th>\n",
              "      <td>@swonderlin Can not wait for #iPad 2 also. The...</td>\n",
              "      <td>iPad</td>\n",
              "      <td>Positive emotion</td>\n",
              "    </tr>\n",
              "    <tr>\n",
              "      <th>3</th>\n",
              "      <td>@sxsw I hope this year's festival isn't as cra...</td>\n",
              "      <td>iPad or iPhone App</td>\n",
              "      <td>Negative emotion</td>\n",
              "    </tr>\n",
              "    <tr>\n",
              "      <th>4</th>\n",
              "      <td>@sxtxstate great stuff on Fri #SXSW: Marissa M...</td>\n",
              "      <td>Google</td>\n",
              "      <td>Positive emotion</td>\n",
              "    </tr>\n",
              "  </tbody>\n",
              "</table>\n",
              "</div>\n",
              "    <div class=\"colab-df-buttons\">\n",
              "\n",
              "  <div class=\"colab-df-container\">\n",
              "    <button class=\"colab-df-convert\" onclick=\"convertToInteractive('df-5295d157-7677-4b65-a7ba-d0517b6c1366')\"\n",
              "            title=\"Convert this dataframe to an interactive table.\"\n",
              "            style=\"display:none;\">\n",
              "\n",
              "  <svg xmlns=\"http://www.w3.org/2000/svg\" height=\"24px\" viewBox=\"0 -960 960 960\">\n",
              "    <path d=\"M120-120v-720h720v720H120Zm60-500h600v-160H180v160Zm220 220h160v-160H400v160Zm0 220h160v-160H400v160ZM180-400h160v-160H180v160Zm440 0h160v-160H620v160ZM180-180h160v-160H180v160Zm440 0h160v-160H620v160Z\"/>\n",
              "  </svg>\n",
              "    </button>\n",
              "\n",
              "  <style>\n",
              "    .colab-df-container {\n",
              "      display:flex;\n",
              "      gap: 12px;\n",
              "    }\n",
              "\n",
              "    .colab-df-convert {\n",
              "      background-color: #E8F0FE;\n",
              "      border: none;\n",
              "      border-radius: 50%;\n",
              "      cursor: pointer;\n",
              "      display: none;\n",
              "      fill: #1967D2;\n",
              "      height: 32px;\n",
              "      padding: 0 0 0 0;\n",
              "      width: 32px;\n",
              "    }\n",
              "\n",
              "    .colab-df-convert:hover {\n",
              "      background-color: #E2EBFA;\n",
              "      box-shadow: 0px 1px 2px rgba(60, 64, 67, 0.3), 0px 1px 3px 1px rgba(60, 64, 67, 0.15);\n",
              "      fill: #174EA6;\n",
              "    }\n",
              "\n",
              "    .colab-df-buttons div {\n",
              "      margin-bottom: 4px;\n",
              "    }\n",
              "\n",
              "    [theme=dark] .colab-df-convert {\n",
              "      background-color: #3B4455;\n",
              "      fill: #D2E3FC;\n",
              "    }\n",
              "\n",
              "    [theme=dark] .colab-df-convert:hover {\n",
              "      background-color: #434B5C;\n",
              "      box-shadow: 0px 1px 3px 1px rgba(0, 0, 0, 0.15);\n",
              "      filter: drop-shadow(0px 1px 2px rgba(0, 0, 0, 0.3));\n",
              "      fill: #FFFFFF;\n",
              "    }\n",
              "  </style>\n",
              "\n",
              "    <script>\n",
              "      const buttonEl =\n",
              "        document.querySelector('#df-5295d157-7677-4b65-a7ba-d0517b6c1366 button.colab-df-convert');\n",
              "      buttonEl.style.display =\n",
              "        google.colab.kernel.accessAllowed ? 'block' : 'none';\n",
              "\n",
              "      async function convertToInteractive(key) {\n",
              "        const element = document.querySelector('#df-5295d157-7677-4b65-a7ba-d0517b6c1366');\n",
              "        const dataTable =\n",
              "          await google.colab.kernel.invokeFunction('convertToInteractive',\n",
              "                                                    [key], {});\n",
              "        if (!dataTable) return;\n",
              "\n",
              "        const docLinkHtml = 'Like what you see? Visit the ' +\n",
              "          '<a target=\"_blank\" href=https://colab.research.google.com/notebooks/data_table.ipynb>data table notebook</a>'\n",
              "          + ' to learn more about interactive tables.';\n",
              "        element.innerHTML = '';\n",
              "        dataTable['output_type'] = 'display_data';\n",
              "        await google.colab.output.renderOutput(dataTable, element);\n",
              "        const docLink = document.createElement('div');\n",
              "        docLink.innerHTML = docLinkHtml;\n",
              "        element.appendChild(docLink);\n",
              "      }\n",
              "    </script>\n",
              "  </div>\n",
              "\n",
              "\n",
              "<div id=\"df-0ce0c96f-b0bc-4598-961b-8f4ae1d714dc\">\n",
              "  <button class=\"colab-df-quickchart\" onclick=\"quickchart('df-0ce0c96f-b0bc-4598-961b-8f4ae1d714dc')\"\n",
              "            title=\"Suggest charts\"\n",
              "            style=\"display:none;\">\n",
              "\n",
              "<svg xmlns=\"http://www.w3.org/2000/svg\" height=\"24px\"viewBox=\"0 0 24 24\"\n",
              "     width=\"24px\">\n",
              "    <g>\n",
              "        <path d=\"M19 3H5c-1.1 0-2 .9-2 2v14c0 1.1.9 2 2 2h14c1.1 0 2-.9 2-2V5c0-1.1-.9-2-2-2zM9 17H7v-7h2v7zm4 0h-2V7h2v10zm4 0h-2v-4h2v4z\"/>\n",
              "    </g>\n",
              "</svg>\n",
              "  </button>\n",
              "\n",
              "<style>\n",
              "  .colab-df-quickchart {\n",
              "      --bg-color: #E8F0FE;\n",
              "      --fill-color: #1967D2;\n",
              "      --hover-bg-color: #E2EBFA;\n",
              "      --hover-fill-color: #174EA6;\n",
              "      --disabled-fill-color: #AAA;\n",
              "      --disabled-bg-color: #DDD;\n",
              "  }\n",
              "\n",
              "  [theme=dark] .colab-df-quickchart {\n",
              "      --bg-color: #3B4455;\n",
              "      --fill-color: #D2E3FC;\n",
              "      --hover-bg-color: #434B5C;\n",
              "      --hover-fill-color: #FFFFFF;\n",
              "      --disabled-bg-color: #3B4455;\n",
              "      --disabled-fill-color: #666;\n",
              "  }\n",
              "\n",
              "  .colab-df-quickchart {\n",
              "    background-color: var(--bg-color);\n",
              "    border: none;\n",
              "    border-radius: 50%;\n",
              "    cursor: pointer;\n",
              "    display: none;\n",
              "    fill: var(--fill-color);\n",
              "    height: 32px;\n",
              "    padding: 0;\n",
              "    width: 32px;\n",
              "  }\n",
              "\n",
              "  .colab-df-quickchart:hover {\n",
              "    background-color: var(--hover-bg-color);\n",
              "    box-shadow: 0 1px 2px rgba(60, 64, 67, 0.3), 0 1px 3px 1px rgba(60, 64, 67, 0.15);\n",
              "    fill: var(--button-hover-fill-color);\n",
              "  }\n",
              "\n",
              "  .colab-df-quickchart-complete:disabled,\n",
              "  .colab-df-quickchart-complete:disabled:hover {\n",
              "    background-color: var(--disabled-bg-color);\n",
              "    fill: var(--disabled-fill-color);\n",
              "    box-shadow: none;\n",
              "  }\n",
              "\n",
              "  .colab-df-spinner {\n",
              "    border: 2px solid var(--fill-color);\n",
              "    border-color: transparent;\n",
              "    border-bottom-color: var(--fill-color);\n",
              "    animation:\n",
              "      spin 1s steps(1) infinite;\n",
              "  }\n",
              "\n",
              "  @keyframes spin {\n",
              "    0% {\n",
              "      border-color: transparent;\n",
              "      border-bottom-color: var(--fill-color);\n",
              "      border-left-color: var(--fill-color);\n",
              "    }\n",
              "    20% {\n",
              "      border-color: transparent;\n",
              "      border-left-color: var(--fill-color);\n",
              "      border-top-color: var(--fill-color);\n",
              "    }\n",
              "    30% {\n",
              "      border-color: transparent;\n",
              "      border-left-color: var(--fill-color);\n",
              "      border-top-color: var(--fill-color);\n",
              "      border-right-color: var(--fill-color);\n",
              "    }\n",
              "    40% {\n",
              "      border-color: transparent;\n",
              "      border-right-color: var(--fill-color);\n",
              "      border-top-color: var(--fill-color);\n",
              "    }\n",
              "    60% {\n",
              "      border-color: transparent;\n",
              "      border-right-color: var(--fill-color);\n",
              "    }\n",
              "    80% {\n",
              "      border-color: transparent;\n",
              "      border-right-color: var(--fill-color);\n",
              "      border-bottom-color: var(--fill-color);\n",
              "    }\n",
              "    90% {\n",
              "      border-color: transparent;\n",
              "      border-bottom-color: var(--fill-color);\n",
              "    }\n",
              "  }\n",
              "</style>\n",
              "\n",
              "  <script>\n",
              "    async function quickchart(key) {\n",
              "      const quickchartButtonEl =\n",
              "        document.querySelector('#' + key + ' button');\n",
              "      quickchartButtonEl.disabled = true;  // To prevent multiple clicks.\n",
              "      quickchartButtonEl.classList.add('colab-df-spinner');\n",
              "      try {\n",
              "        const charts = await google.colab.kernel.invokeFunction(\n",
              "            'suggestCharts', [key], {});\n",
              "      } catch (error) {\n",
              "        console.error('Error during call to suggestCharts:', error);\n",
              "      }\n",
              "      quickchartButtonEl.classList.remove('colab-df-spinner');\n",
              "      quickchartButtonEl.classList.add('colab-df-quickchart-complete');\n",
              "    }\n",
              "    (() => {\n",
              "      let quickchartButtonEl =\n",
              "        document.querySelector('#df-0ce0c96f-b0bc-4598-961b-8f4ae1d714dc button');\n",
              "      quickchartButtonEl.style.display =\n",
              "        google.colab.kernel.accessAllowed ? 'block' : 'none';\n",
              "    })();\n",
              "  </script>\n",
              "</div>\n",
              "    </div>\n",
              "  </div>\n"
            ],
            "application/vnd.google.colaboratory.intrinsic+json": {
              "type": "dataframe",
              "variable_name": "data",
              "summary": "{\n  \"name\": \"data\",\n  \"rows\": 9093,\n  \"fields\": [\n    {\n      \"column\": \"tweet_text\",\n      \"properties\": {\n        \"dtype\": \"string\",\n        \"num_unique_values\": 9065,\n        \"samples\": [\n          \"RT @mention @mention shows #Apple 's position in the tablet wars. #tapworthy #sxsw  {link}\",\n          \"My first #SXSW survival kit. iPhone not in the shot because I'm using it to take the picture.  {link} I might be ready.\",\n          \"RT@mention by parabolico_bh MARAVILHA, APROVEITEM!\\r\\n{link} \\u00ef\\u00bf\\u00bd\\u00ef\\u00bf\\u00bd_ #edchat #musedchat #sxsw #sxswi #classical\"\n        ],\n        \"semantic_type\": \"\",\n        \"description\": \"\"\n      }\n    },\n    {\n      \"column\": \"emotion_in_tweet_is_directed_at\",\n      \"properties\": {\n        \"dtype\": \"category\",\n        \"num_unique_values\": 9,\n        \"samples\": [\n          \"Other Google product or service\",\n          \"iPad or iPhone App\",\n          \"Apple\"\n        ],\n        \"semantic_type\": \"\",\n        \"description\": \"\"\n      }\n    },\n    {\n      \"column\": \"is_there_an_emotion_directed_at_a_brand_or_product\",\n      \"properties\": {\n        \"dtype\": \"category\",\n        \"num_unique_values\": 4,\n        \"samples\": [\n          \"Positive emotion\",\n          \"I can't tell\",\n          \"Negative emotion\"\n        ],\n        \"semantic_type\": \"\",\n        \"description\": \"\"\n      }\n    }\n  ]\n}"
            }
          },
          "metadata": {},
          "execution_count": 2
        }
      ],
      "source": [
        "# load the dataset\n",
        "data = pd.read_csv('judge-1377884607_tweet_product_company.csv', encoding='ISO-8859-1')\n",
        "\n",
        "data.head(5)"
      ]
    },
    {
      "cell_type": "markdown",
      "metadata": {
        "id": "ERXL5rR88l_G"
      },
      "source": [
        "## EXPLORE THE DATASET"
      ]
    },
    {
      "cell_type": "code",
      "source": [
        "# explore the data\n",
        "print('The dataset has {} rows and {} columns'.format(data.shape[0], data.shape[1]))\n",
        "print('\\nFeatures:')\n",
        "print(data.columns.values)\n",
        "print('\\nFirst 5 rows:')\n",
        "print(data.head())\n",
        "print('\\nInfo:')\n",
        "print(data.info())\n"
      ],
      "metadata": {
        "colab": {
          "base_uri": "https://localhost:8080/"
        },
        "id": "XNMBRB1cBQcD",
        "outputId": "513cbcbb-1cdc-4e14-cd5a-2d9f543be5ae"
      },
      "execution_count": 3,
      "outputs": [
        {
          "output_type": "stream",
          "name": "stdout",
          "text": [
            "The dataset has 9093 rows and 3 columns\n",
            "\n",
            "Features:\n",
            "['tweet_text' 'emotion_in_tweet_is_directed_at'\n",
            " 'is_there_an_emotion_directed_at_a_brand_or_product']\n",
            "\n",
            "First 5 rows:\n",
            "                                          tweet_text  \\\n",
            "0  .@wesley83 I have a 3G iPhone. After 3 hrs twe...   \n",
            "1  @jessedee Know about @fludapp ? Awesome iPad/i...   \n",
            "2  @swonderlin Can not wait for #iPad 2 also. The...   \n",
            "3  @sxsw I hope this year's festival isn't as cra...   \n",
            "4  @sxtxstate great stuff on Fri #SXSW: Marissa M...   \n",
            "\n",
            "  emotion_in_tweet_is_directed_at  \\\n",
            "0                          iPhone   \n",
            "1              iPad or iPhone App   \n",
            "2                            iPad   \n",
            "3              iPad or iPhone App   \n",
            "4                          Google   \n",
            "\n",
            "  is_there_an_emotion_directed_at_a_brand_or_product  \n",
            "0                                   Negative emotion  \n",
            "1                                   Positive emotion  \n",
            "2                                   Positive emotion  \n",
            "3                                   Negative emotion  \n",
            "4                                   Positive emotion  \n",
            "\n",
            "Info:\n",
            "<class 'pandas.core.frame.DataFrame'>\n",
            "RangeIndex: 9093 entries, 0 to 9092\n",
            "Data columns (total 3 columns):\n",
            " #   Column                                              Non-Null Count  Dtype \n",
            "---  ------                                              --------------  ----- \n",
            " 0   tweet_text                                          9092 non-null   object\n",
            " 1   emotion_in_tweet_is_directed_at                     3291 non-null   object\n",
            " 2   is_there_an_emotion_directed_at_a_brand_or_product  9093 non-null   object\n",
            "dtypes: object(3)\n",
            "memory usage: 213.2+ KB\n",
            "None\n"
          ]
        }
      ]
    },
    {
      "cell_type": "code",
      "source": [],
      "metadata": {
        "id": "3sy2UbjPngp8"
      },
      "execution_count": null,
      "outputs": []
    },
    {
      "cell_type": "code",
      "source": [
        "# Rename the columns\n",
        "data.rename(columns={\n",
        "    'tweet_text': 'tweet',\n",
        "    'emotion_in_tweet_is_directed_at': 'product',\n",
        "    'is_there_an_emotion_directed_at_a_brand_or_product': 'sentiment'\n",
        "}, inplace=True)\n",
        "\n",
        "# Check the updated df\n",
        "data.head()"
      ],
      "metadata": {
        "colab": {
          "base_uri": "https://localhost:8080/",
          "height": 206
        },
        "id": "qvN8XDWO_VCW",
        "outputId": "ca3dfd09-538d-4b84-b471-40642c51e8d0"
      },
      "execution_count": 5,
      "outputs": [
        {
          "output_type": "execute_result",
          "data": {
            "text/plain": [
              "                                               tweet             product  \\\n",
              "0  .@wesley83 I have a 3G iPhone. After 3 hrs twe...              iPhone   \n",
              "1  @jessedee Know about @fludapp ? Awesome iPad/i...  iPad or iPhone App   \n",
              "2  @swonderlin Can not wait for #iPad 2 also. The...                iPad   \n",
              "3  @sxsw I hope this year's festival isn't as cra...  iPad or iPhone App   \n",
              "4  @sxtxstate great stuff on Fri #SXSW: Marissa M...              Google   \n",
              "\n",
              "          sentiment  \n",
              "0  Negative emotion  \n",
              "1  Positive emotion  \n",
              "2  Positive emotion  \n",
              "3  Negative emotion  \n",
              "4  Positive emotion  "
            ],
            "text/html": [
              "\n",
              "  <div id=\"df-e88a2829-bbc4-4c5a-aac9-bafe3dc5e8ef\" class=\"colab-df-container\">\n",
              "    <div>\n",
              "<style scoped>\n",
              "    .dataframe tbody tr th:only-of-type {\n",
              "        vertical-align: middle;\n",
              "    }\n",
              "\n",
              "    .dataframe tbody tr th {\n",
              "        vertical-align: top;\n",
              "    }\n",
              "\n",
              "    .dataframe thead th {\n",
              "        text-align: right;\n",
              "    }\n",
              "</style>\n",
              "<table border=\"1\" class=\"dataframe\">\n",
              "  <thead>\n",
              "    <tr style=\"text-align: right;\">\n",
              "      <th></th>\n",
              "      <th>tweet</th>\n",
              "      <th>product</th>\n",
              "      <th>sentiment</th>\n",
              "    </tr>\n",
              "  </thead>\n",
              "  <tbody>\n",
              "    <tr>\n",
              "      <th>0</th>\n",
              "      <td>.@wesley83 I have a 3G iPhone. After 3 hrs twe...</td>\n",
              "      <td>iPhone</td>\n",
              "      <td>Negative emotion</td>\n",
              "    </tr>\n",
              "    <tr>\n",
              "      <th>1</th>\n",
              "      <td>@jessedee Know about @fludapp ? Awesome iPad/i...</td>\n",
              "      <td>iPad or iPhone App</td>\n",
              "      <td>Positive emotion</td>\n",
              "    </tr>\n",
              "    <tr>\n",
              "      <th>2</th>\n",
              "      <td>@swonderlin Can not wait for #iPad 2 also. The...</td>\n",
              "      <td>iPad</td>\n",
              "      <td>Positive emotion</td>\n",
              "    </tr>\n",
              "    <tr>\n",
              "      <th>3</th>\n",
              "      <td>@sxsw I hope this year's festival isn't as cra...</td>\n",
              "      <td>iPad or iPhone App</td>\n",
              "      <td>Negative emotion</td>\n",
              "    </tr>\n",
              "    <tr>\n",
              "      <th>4</th>\n",
              "      <td>@sxtxstate great stuff on Fri #SXSW: Marissa M...</td>\n",
              "      <td>Google</td>\n",
              "      <td>Positive emotion</td>\n",
              "    </tr>\n",
              "  </tbody>\n",
              "</table>\n",
              "</div>\n",
              "    <div class=\"colab-df-buttons\">\n",
              "\n",
              "  <div class=\"colab-df-container\">\n",
              "    <button class=\"colab-df-convert\" onclick=\"convertToInteractive('df-e88a2829-bbc4-4c5a-aac9-bafe3dc5e8ef')\"\n",
              "            title=\"Convert this dataframe to an interactive table.\"\n",
              "            style=\"display:none;\">\n",
              "\n",
              "  <svg xmlns=\"http://www.w3.org/2000/svg\" height=\"24px\" viewBox=\"0 -960 960 960\">\n",
              "    <path d=\"M120-120v-720h720v720H120Zm60-500h600v-160H180v160Zm220 220h160v-160H400v160Zm0 220h160v-160H400v160ZM180-400h160v-160H180v160Zm440 0h160v-160H620v160ZM180-180h160v-160H180v160Zm440 0h160v-160H620v160Z\"/>\n",
              "  </svg>\n",
              "    </button>\n",
              "\n",
              "  <style>\n",
              "    .colab-df-container {\n",
              "      display:flex;\n",
              "      gap: 12px;\n",
              "    }\n",
              "\n",
              "    .colab-df-convert {\n",
              "      background-color: #E8F0FE;\n",
              "      border: none;\n",
              "      border-radius: 50%;\n",
              "      cursor: pointer;\n",
              "      display: none;\n",
              "      fill: #1967D2;\n",
              "      height: 32px;\n",
              "      padding: 0 0 0 0;\n",
              "      width: 32px;\n",
              "    }\n",
              "\n",
              "    .colab-df-convert:hover {\n",
              "      background-color: #E2EBFA;\n",
              "      box-shadow: 0px 1px 2px rgba(60, 64, 67, 0.3), 0px 1px 3px 1px rgba(60, 64, 67, 0.15);\n",
              "      fill: #174EA6;\n",
              "    }\n",
              "\n",
              "    .colab-df-buttons div {\n",
              "      margin-bottom: 4px;\n",
              "    }\n",
              "\n",
              "    [theme=dark] .colab-df-convert {\n",
              "      background-color: #3B4455;\n",
              "      fill: #D2E3FC;\n",
              "    }\n",
              "\n",
              "    [theme=dark] .colab-df-convert:hover {\n",
              "      background-color: #434B5C;\n",
              "      box-shadow: 0px 1px 3px 1px rgba(0, 0, 0, 0.15);\n",
              "      filter: drop-shadow(0px 1px 2px rgba(0, 0, 0, 0.3));\n",
              "      fill: #FFFFFF;\n",
              "    }\n",
              "  </style>\n",
              "\n",
              "    <script>\n",
              "      const buttonEl =\n",
              "        document.querySelector('#df-e88a2829-bbc4-4c5a-aac9-bafe3dc5e8ef button.colab-df-convert');\n",
              "      buttonEl.style.display =\n",
              "        google.colab.kernel.accessAllowed ? 'block' : 'none';\n",
              "\n",
              "      async function convertToInteractive(key) {\n",
              "        const element = document.querySelector('#df-e88a2829-bbc4-4c5a-aac9-bafe3dc5e8ef');\n",
              "        const dataTable =\n",
              "          await google.colab.kernel.invokeFunction('convertToInteractive',\n",
              "                                                    [key], {});\n",
              "        if (!dataTable) return;\n",
              "\n",
              "        const docLinkHtml = 'Like what you see? Visit the ' +\n",
              "          '<a target=\"_blank\" href=https://colab.research.google.com/notebooks/data_table.ipynb>data table notebook</a>'\n",
              "          + ' to learn more about interactive tables.';\n",
              "        element.innerHTML = '';\n",
              "        dataTable['output_type'] = 'display_data';\n",
              "        await google.colab.output.renderOutput(dataTable, element);\n",
              "        const docLink = document.createElement('div');\n",
              "        docLink.innerHTML = docLinkHtml;\n",
              "        element.appendChild(docLink);\n",
              "      }\n",
              "    </script>\n",
              "  </div>\n",
              "\n",
              "\n",
              "<div id=\"df-bbe56e12-cdb1-4c85-b6c7-343dd310f893\">\n",
              "  <button class=\"colab-df-quickchart\" onclick=\"quickchart('df-bbe56e12-cdb1-4c85-b6c7-343dd310f893')\"\n",
              "            title=\"Suggest charts\"\n",
              "            style=\"display:none;\">\n",
              "\n",
              "<svg xmlns=\"http://www.w3.org/2000/svg\" height=\"24px\"viewBox=\"0 0 24 24\"\n",
              "     width=\"24px\">\n",
              "    <g>\n",
              "        <path d=\"M19 3H5c-1.1 0-2 .9-2 2v14c0 1.1.9 2 2 2h14c1.1 0 2-.9 2-2V5c0-1.1-.9-2-2-2zM9 17H7v-7h2v7zm4 0h-2V7h2v10zm4 0h-2v-4h2v4z\"/>\n",
              "    </g>\n",
              "</svg>\n",
              "  </button>\n",
              "\n",
              "<style>\n",
              "  .colab-df-quickchart {\n",
              "      --bg-color: #E8F0FE;\n",
              "      --fill-color: #1967D2;\n",
              "      --hover-bg-color: #E2EBFA;\n",
              "      --hover-fill-color: #174EA6;\n",
              "      --disabled-fill-color: #AAA;\n",
              "      --disabled-bg-color: #DDD;\n",
              "  }\n",
              "\n",
              "  [theme=dark] .colab-df-quickchart {\n",
              "      --bg-color: #3B4455;\n",
              "      --fill-color: #D2E3FC;\n",
              "      --hover-bg-color: #434B5C;\n",
              "      --hover-fill-color: #FFFFFF;\n",
              "      --disabled-bg-color: #3B4455;\n",
              "      --disabled-fill-color: #666;\n",
              "  }\n",
              "\n",
              "  .colab-df-quickchart {\n",
              "    background-color: var(--bg-color);\n",
              "    border: none;\n",
              "    border-radius: 50%;\n",
              "    cursor: pointer;\n",
              "    display: none;\n",
              "    fill: var(--fill-color);\n",
              "    height: 32px;\n",
              "    padding: 0;\n",
              "    width: 32px;\n",
              "  }\n",
              "\n",
              "  .colab-df-quickchart:hover {\n",
              "    background-color: var(--hover-bg-color);\n",
              "    box-shadow: 0 1px 2px rgba(60, 64, 67, 0.3), 0 1px 3px 1px rgba(60, 64, 67, 0.15);\n",
              "    fill: var(--button-hover-fill-color);\n",
              "  }\n",
              "\n",
              "  .colab-df-quickchart-complete:disabled,\n",
              "  .colab-df-quickchart-complete:disabled:hover {\n",
              "    background-color: var(--disabled-bg-color);\n",
              "    fill: var(--disabled-fill-color);\n",
              "    box-shadow: none;\n",
              "  }\n",
              "\n",
              "  .colab-df-spinner {\n",
              "    border: 2px solid var(--fill-color);\n",
              "    border-color: transparent;\n",
              "    border-bottom-color: var(--fill-color);\n",
              "    animation:\n",
              "      spin 1s steps(1) infinite;\n",
              "  }\n",
              "\n",
              "  @keyframes spin {\n",
              "    0% {\n",
              "      border-color: transparent;\n",
              "      border-bottom-color: var(--fill-color);\n",
              "      border-left-color: var(--fill-color);\n",
              "    }\n",
              "    20% {\n",
              "      border-color: transparent;\n",
              "      border-left-color: var(--fill-color);\n",
              "      border-top-color: var(--fill-color);\n",
              "    }\n",
              "    30% {\n",
              "      border-color: transparent;\n",
              "      border-left-color: var(--fill-color);\n",
              "      border-top-color: var(--fill-color);\n",
              "      border-right-color: var(--fill-color);\n",
              "    }\n",
              "    40% {\n",
              "      border-color: transparent;\n",
              "      border-right-color: var(--fill-color);\n",
              "      border-top-color: var(--fill-color);\n",
              "    }\n",
              "    60% {\n",
              "      border-color: transparent;\n",
              "      border-right-color: var(--fill-color);\n",
              "    }\n",
              "    80% {\n",
              "      border-color: transparent;\n",
              "      border-right-color: var(--fill-color);\n",
              "      border-bottom-color: var(--fill-color);\n",
              "    }\n",
              "    90% {\n",
              "      border-color: transparent;\n",
              "      border-bottom-color: var(--fill-color);\n",
              "    }\n",
              "  }\n",
              "</style>\n",
              "\n",
              "  <script>\n",
              "    async function quickchart(key) {\n",
              "      const quickchartButtonEl =\n",
              "        document.querySelector('#' + key + ' button');\n",
              "      quickchartButtonEl.disabled = true;  // To prevent multiple clicks.\n",
              "      quickchartButtonEl.classList.add('colab-df-spinner');\n",
              "      try {\n",
              "        const charts = await google.colab.kernel.invokeFunction(\n",
              "            'suggestCharts', [key], {});\n",
              "      } catch (error) {\n",
              "        console.error('Error during call to suggestCharts:', error);\n",
              "      }\n",
              "      quickchartButtonEl.classList.remove('colab-df-spinner');\n",
              "      quickchartButtonEl.classList.add('colab-df-quickchart-complete');\n",
              "    }\n",
              "    (() => {\n",
              "      let quickchartButtonEl =\n",
              "        document.querySelector('#df-bbe56e12-cdb1-4c85-b6c7-343dd310f893 button');\n",
              "      quickchartButtonEl.style.display =\n",
              "        google.colab.kernel.accessAllowed ? 'block' : 'none';\n",
              "    })();\n",
              "  </script>\n",
              "</div>\n",
              "    </div>\n",
              "  </div>\n"
            ],
            "application/vnd.google.colaboratory.intrinsic+json": {
              "type": "dataframe",
              "variable_name": "data",
              "summary": "{\n  \"name\": \"data\",\n  \"rows\": 9093,\n  \"fields\": [\n    {\n      \"column\": \"tweet\",\n      \"properties\": {\n        \"dtype\": \"string\",\n        \"num_unique_values\": 9065,\n        \"samples\": [\n          \"RT @mention @mention shows #Apple 's position in the tablet wars. #tapworthy #sxsw  {link}\",\n          \"My first #SXSW survival kit. iPhone not in the shot because I'm using it to take the picture.  {link} I might be ready.\",\n          \"RT@mention by parabolico_bh MARAVILHA, APROVEITEM!\\r\\n{link} \\u00ef\\u00bf\\u00bd\\u00ef\\u00bf\\u00bd_ #edchat #musedchat #sxsw #sxswi #classical\"\n        ],\n        \"semantic_type\": \"\",\n        \"description\": \"\"\n      }\n    },\n    {\n      \"column\": \"product\",\n      \"properties\": {\n        \"dtype\": \"category\",\n        \"num_unique_values\": 9,\n        \"samples\": [\n          \"Other Google product or service\",\n          \"iPad or iPhone App\",\n          \"Apple\"\n        ],\n        \"semantic_type\": \"\",\n        \"description\": \"\"\n      }\n    },\n    {\n      \"column\": \"sentiment\",\n      \"properties\": {\n        \"dtype\": \"category\",\n        \"num_unique_values\": 4,\n        \"samples\": [\n          \"Positive emotion\",\n          \"I can't tell\",\n          \"Negative emotion\"\n        ],\n        \"semantic_type\": \"\",\n        \"description\": \"\"\n      }\n    }\n  ]\n}"
            }
          },
          "metadata": {},
          "execution_count": 5
        }
      ]
    },
    {
      "cell_type": "markdown",
      "source": [
        "## Distribution of the Sentiments\n"
      ],
      "metadata": {
        "id": "wXkfMBYgD38R"
      }
    },
    {
      "cell_type": "code",
      "source": [
        "# distribution of the sentiment libraries\n",
        "data.groupby('sentiment').size().plot(kind='barh', color=sns.palettes.mpl_palette('Dark2'))\n",
        "plt.gca().spines[['top', 'right',]].set_visible(False)"
      ],
      "metadata": {
        "colab": {
          "base_uri": "https://localhost:8080/",
          "height": 430
        },
        "id": "ptLZuX5MD1_5",
        "outputId": "e4c19203-9026-4dab-a917-56bc0386216e"
      },
      "execution_count": 7,
      "outputs": [
        {
          "output_type": "display_data",
          "data": {
            "text/plain": [
              "<Figure size 640x480 with 1 Axes>"
            ],
            "image/png": "[encoded data removed]"
          },
          "metadata": {}
        }
      ]
    },
    {
      "cell_type": "markdown",
      "source": [
        "## Missing Values"
      ],
      "metadata": {
        "id": "RBu5HFTDEOnU"
      }
    },
    {
      "cell_type": "code",
      "source": [
        "# Explore the data\n",
        "# Data types of columns\n",
        "data_types = data.dtypes\n",
        "print(\"Data types of columns:\")\n",
        "print(data_types)\n",
        "\n",
        "# Missing values\n",
        "missing_values = data.isnull().sum()\n",
        "print(\"\\nMissing values:\")\n",
        "print(missing_values)"
      ],
      "metadata": {
        "colab": {
          "base_uri": "https://localhost:8080/"
        },
        "id": "9x8ATnWQENHj",
        "outputId": "560add55-552a-4c0d-d9db-7e5533df1a42"
      },
      "execution_count": 8,
      "outputs": [
        {
          "output_type": "stream",
          "name": "stdout",
          "text": [
            "Data types of columns:\n",
            "tweet        object\n",
            "product      object\n",
            "sentiment    object\n",
            "dtype: object\n",
            "\n",
            "Missing values:\n",
            "tweet           1\n",
            "product      5802\n",
            "sentiment       0\n",
            "dtype: int64\n"
          ]
        }
      ]
    },
    {
      "cell_type": "code",
      "source": [
        "# Function to extract related words to Apple and Google Products\n",
        "def extract_product(tweet):\n",
        "    # Dictionary mapping keywords to products\n",
        "    tweet_lower = str(tweet).lower()\n",
        "    product_keywords = {\n",
        "        'Apple': ['apple', 'iphone', 'ipad', 'macbook', 'apple watch',\n",
        "                  'airpods', 'ios', 'macos', 'app store', 'icloud', 'itunes'],\n",
        "        'Google': ['google', 'pixel', 'pixelbook', 'chromebook', 'google home',\n",
        "                   'nest', 'android', 'google play store',\n",
        "                   'google maps', 'gmail', 'goog']\n",
        "    }\n",
        "\n",
        "    # Check if tweet is a valid string\n",
        "    if isinstance(tweet, str):\n",
        "        # Iterate through the dictionary to find a match\n",
        "        for product, keywords in product_keywords.items():\n",
        "            if any(keyword in tweet_lower for keyword in keywords):\n",
        "                return product\n",
        "    return None\n",
        "\n",
        "# Replace NaN values in 'product' column with appropriate match\n",
        "data['product'] = data.apply(lambda row: extract_product(row['tweet']) if pd.isna(row['product']) else row['product'], axis=1)\n"
      ],
      "metadata": {
        "id": "cA3XgbCnEbTc"
      },
      "execution_count": 9,
      "outputs": []
    },
    {
      "cell_type": "markdown",
      "source": [
        "## Check Missing Values in the entire Dataset"
      ],
      "metadata": {
        "id": "bRehjLbqE2Z0"
      }
    },
    {
      "cell_type": "code",
      "source": [
        "# Check for missing values\n",
        "missing_values = data.isnull().sum()\n",
        "\n",
        "print(\"Missing values per column:\")\n",
        "print(missing_values)\n"
      ],
      "metadata": {
        "colab": {
          "base_uri": "https://localhost:8080/"
        },
        "id": "gSgp2oPfEycW",
        "outputId": "70b5a288-ae25-486e-b76d-56f2803d973a"
      },
      "execution_count": 10,
      "outputs": [
        {
          "output_type": "stream",
          "name": "stdout",
          "text": [
            "Missing values per column:\n",
            "tweet          1\n",
            "product      703\n",
            "sentiment      0\n",
            "dtype: int64\n"
          ]
        }
      ]
    },
    {
      "cell_type": "markdown",
      "source": [
        "## Drop Missing Values in Tweet and Product Column"
      ],
      "metadata": {
        "id": "SDilgacFFWpS"
      }
    },
    {
      "cell_type": "code",
      "source": [
        "#Drop missing values in tweet and product column\n",
        "data.dropna(subset=['tweet','product'], inplace=True)\n",
        "data.info()"
      ],
      "metadata": {
        "colab": {
          "base_uri": "https://localhost:8080/"
        },
        "id": "BW9kBomSFQK9",
        "outputId": "df668400-9f62-4a80-8145-32cf1d390cd6"
      },
      "execution_count": 11,
      "outputs": [
        {
          "output_type": "stream",
          "name": "stdout",
          "text": [
            "<class 'pandas.core.frame.DataFrame'>\n",
            "Index: 8390 entries, 0 to 9092\n",
            "Data columns (total 3 columns):\n",
            " #   Column     Non-Null Count  Dtype \n",
            "---  ------     --------------  ----- \n",
            " 0   tweet      8390 non-null   object\n",
            " 1   product    8390 non-null   object\n",
            " 2   sentiment  8390 non-null   object\n",
            "dtypes: object(3)\n",
            "memory usage: 262.2+ KB\n"
          ]
        }
      ]
    },
    {
      "cell_type": "code",
      "source": [
        "# prompt: drop the rows in the sentiment that have \"I can't tell' words\n",
        "\n",
        "data = data[data['sentiment'] != \"I can't tell\"]\n",
        "\n",
        "# Replace 'No emotion toward brand or product' with 'Neutral'\n",
        "data['sentiment'] = data['sentiment'].replace('No emotion toward brand or product', 'Neutral')\n",
        "\n",
        "# Print unique sentiment values after changes\n",
        "print(\"Unique sentiment values after changes:\", data['sentiment'].unique())\n",
        "\n"
      ],
      "metadata": {
        "colab": {
          "base_uri": "https://localhost:8080/"
        },
        "id": "5Kx_4yD3S08E",
        "outputId": "59dc546f-2e3b-4190-f5a0-425be25d9cfd"
      },
      "execution_count": 12,
      "outputs": [
        {
          "output_type": "stream",
          "name": "stdout",
          "text": [
            "Unique sentiment values after changes: ['Negative emotion' 'Positive emotion' 'Neutral']\n"
          ]
        }
      ]
    },
    {
      "cell_type": "markdown",
      "source": [
        "## Data Pre-processing"
      ],
      "metadata": {
        "id": "4wkwu8nXFwMm"
      }
    },
    {
      "cell_type": "code",
      "source": [
        "import pandas as pd\n",
        "import re\n",
        "import nltk\n",
        "from nltk.corpus import stopwords\n",
        "from nltk.tokenize import word_tokenize\n",
        "from sklearn.feature_extraction.text import CountVectorizer, TfidfVectorizer\n",
        "\n",
        "# Preprocess the text data\n",
        "def preprocess_text(text):\n",
        "    # Remove URLs\n",
        "    text = re.sub(r'http\\S+|www\\S+', '', text)\n",
        "    # Remove emails\n",
        "    text = re.sub(r'\\b[A-Za-z0-9._%+-]+@[A-Za-z0-9.-]+\\.[A-Z|a-z]{2,}\\b', '', text)\n",
        "    # Remove special characters and numbers\n",
        "    text = re.sub(r'[^a-zA-Z\\s]', '', text)\n",
        "    # Remove extra whitespaces\n",
        "    text = re.sub(r'\\s+', ' ', text)\n",
        "    return text\n",
        "\n",
        "# Apply preprocessing to the 'tweet' column\n",
        "data['tweet'] = data['tweet'].apply(preprocess_text)\n",
        "\n",
        "# Tokenize the text data\n",
        "nltk.download('punkt')\n",
        "data['tokenized_tweet'] = data['tweet'].apply(word_tokenize)\n",
        "\n",
        "# Remove stopwords\n",
        "nltk.download('stopwords')\n",
        "stop_words = set(stopwords.words('english'))\n",
        "data['filtered_tweet'] = data['tokenized_tweet'].apply(lambda tokens: [token for token in tokens if token not in stop_words])\n",
        "\n",
        "# Convert tokenized text into numerical representation using Bag-of-Words\n",
        "count_vectorizer = CountVectorizer()\n",
        "bow_representation = count_vectorizer.fit_transform(data['filtered_tweet'].apply(lambda tokens: ' '.join(tokens)))\n",
        "\n",
        "# Convert tokenized text into numerical representation using TF-IDF\n",
        "tfidf_vectorizer = TfidfVectorizer()\n",
        "tfidf_representation = tfidf_vectorizer.fit_transform(data['filtered_tweet'].apply(lambda tokens: ' '.join(tokens)))\n",
        "\n",
        "# Print the first few rows of the preprocessed data\n",
        "print(data.head())\n"
      ],
      "metadata": {
        "colab": {
          "base_uri": "https://localhost:8080/"
        },
        "id": "1ecxIwYeFmpG",
        "outputId": "7d72a12c-6d96-4dd0-8d9a-12fca403dd13"
      },
      "execution_count": 13,
      "outputs": [
        {
          "output_type": "stream",
          "name": "stderr",
          "text": [
            "[nltk_data] Downloading package punkt to /root/nltk_data...\n",
            "[nltk_data]   Package punkt is already up-to-date!\n",
            "[nltk_data] Downloading package stopwords to /root/nltk_data...\n",
            "[nltk_data]   Package stopwords is already up-to-date!\n"
          ]
        },
        {
          "output_type": "stream",
          "name": "stdout",
          "text": [
            "                                               tweet             product  \\\n",
            "0  wesley I have a G iPhone After hrs tweeting at...              iPhone   \n",
            "1  jessedee Know about fludapp Awesome iPadiPhone...  iPad or iPhone App   \n",
            "2  swonderlin Can not wait for iPad also They sho...                iPad   \n",
            "3  sxsw I hope this years festival isnt as crashy...  iPad or iPhone App   \n",
            "4  sxtxstate great stuff on Fri SXSW Marissa Maye...              Google   \n",
            "\n",
            "          sentiment                                    tokenized_tweet  \\\n",
            "0  Negative emotion  [wesley, I, have, a, G, iPhone, After, hrs, tw...   \n",
            "1  Positive emotion  [jessedee, Know, about, fludapp, Awesome, iPad...   \n",
            "2  Positive emotion  [swonderlin, Can, not, wait, for, iPad, also, ...   \n",
            "3  Negative emotion  [sxsw, I, hope, this, years, festival, isnt, a...   \n",
            "4  Positive emotion  [sxtxstate, great, stuff, on, Fri, SXSW, Maris...   \n",
            "\n",
            "                                      filtered_tweet  \n",
            "0  [wesley, I, G, iPhone, After, hrs, tweeting, R...  \n",
            "1  [jessedee, Know, fludapp, Awesome, iPadiPhone,...  \n",
            "2  [swonderlin, Can, wait, iPad, also, They, sale...  \n",
            "3  [sxsw, I, hope, years, festival, isnt, crashy,...  \n",
            "4  [sxtxstate, great, stuff, Fri, SXSW, Marissa, ...  \n"
          ]
        }
      ]
    },
    {
      "cell_type": "code",
      "source": [
        "from textblob import TextBlob\n",
        "\n",
        "# Function for sentiment analysis\n",
        "def analyze_sentiment(text):\n",
        "    analysis = TextBlob(text)\n",
        "    return analysis.sentiment.polarity\n",
        "\n",
        "# Apply sentiment analysis to the preprocessed tweets\n",
        "data['sentiment_score'] = data['tweet'].apply(analyze_sentiment)\n",
        "\n",
        "# Categorize sentiment into positive, negative, or neutral\n",
        "def categorize_sentiment(score):\n",
        "    if score > 0:\n",
        "        return 'Positive'\n",
        "    elif score < 0:\n",
        "        return 'Negative'\n",
        "    else:\n",
        "        return 'Neutral'"
      ],
      "metadata": {
        "id": "IRtBOahrLcWT"
      },
      "execution_count": 14,
      "outputs": []
    },
    {
      "cell_type": "code",
      "source": [
        "import matplotlib.pyplot as plt\n",
        "# Count the number of tweets in each sentiment class\n",
        "sentiment_counts = data['sentiment'].value_counts()\n",
        "\n",
        "# Create a bar chart of the sentiment distribution\n",
        "plt.figure(figsize=(8, 6))\n",
        "plt.bar(sentiment_counts.index, sentiment_counts.values, color='skyblue')\n",
        "\n",
        "# Set the chart title and labels\n",
        "plt.title('Distribution of Sentiment Classes')\n",
        "plt.xlabel('Sentiment')\n",
        "plt.ylabel('Number of Tweets')\n",
        "\n",
        "# Display the chart\n",
        "plt.show()\n"
      ],
      "metadata": {
        "colab": {
          "base_uri": "https://localhost:8080/",
          "height": 569
        },
        "id": "u1X20JpcC0dY",
        "outputId": "dfb581ae-cf81-4fcb-8f9f-efa2c2c4ea47"
      },
      "execution_count": 15,
      "outputs": [
        {
          "output_type": "display_data",
          "data": {
            "text/plain": [
              "<Figure size 800x600 with 1 Axes>"
            ],
            "image/png": "[encoded data removed]"
          },
          "metadata": {}
        }
      ]
    },
    {
      "cell_type": "markdown",
      "source": [
        "## Check Class Imbalance in the Dataset"
      ],
      "metadata": {
        "id": "Qt-lusVEI5B-"
      }
    },
    {
      "cell_type": "code",
      "source": [
        "\n",
        "# Calculate the proportion of each sentiment class\n",
        "sentiment_proportions = data['sentiment'].value_counts(normalize=True)\n",
        "\n",
        "# Print the sentiment proportions\n",
        "print(sentiment_proportions)\n",
        "\n",
        "# Check for class imbalance by comparing the proportions\n",
        "if sentiment_proportions.max() / sentiment_proportions.min() > 2:\n",
        "  print('There is class imbalance in the dataset.')\n",
        "else:\n",
        "  print('The dataset is balanced.')\n"
      ],
      "metadata": {
        "colab": {
          "base_uri": "https://localhost:8080/"
        },
        "id": "BgVwBntoIgyZ",
        "outputId": "b8103f67-a570-413c-8ea8-a17081d5d9e2"
      },
      "execution_count": 16,
      "outputs": [
        {
          "output_type": "stream",
          "name": "stdout",
          "text": [
            "sentiment\n",
            "Neutral             0.570752\n",
            "Positive emotion    0.360194\n",
            "Negative emotion    0.069053\n",
            "Name: proportion, dtype: float64\n",
            "There is class imbalance in the dataset.\n"
          ]
        }
      ]
    },
    {
      "cell_type": "code",
      "source": [
        "\n",
        "import pandas as pd\n",
        "# Handle class imbalance using oversampling\n",
        "from imblearn.over_sampling import SMOTE\n",
        "\n",
        "# Split the data into training and testing sets\n",
        "X_train, X_test, y_train, y_test = train_test_split(bow_representation, data['sentiment'], test_size=0.2, random_state=42)\n",
        "\n",
        "# Apply SMOTE to the training data\n",
        "smote = SMOTE(random_state=42)\n",
        "X_train_resampled, y_train_resampled = smote.fit_resample(X_train, y_train)\n",
        "\n",
        "# Check the class distribution after oversampling\n",
        "print(pd.Series(y_train_resampled).value_counts())\n"
      ],
      "metadata": {
        "colab": {
          "base_uri": "https://localhost:8080/"
        },
        "id": "KlKJMDsfQ11a",
        "outputId": "454b6e41-b11c-4613-a0e1-533698e90d69"
      },
      "execution_count": 17,
      "outputs": [
        {
          "output_type": "stream",
          "name": "stdout",
          "text": [
            "sentiment\n",
            "Neutral             3791\n",
            "Positive emotion    3791\n",
            "Negative emotion    3791\n",
            "Name: count, dtype: int64\n"
          ]
        }
      ]
    },
    {
      "cell_type": "markdown",
      "source": [
        "## Modelling"
      ],
      "metadata": {
        "id": "KmD2QC0qK3Rd"
      }
    },
    {
      "cell_type": "markdown",
      "source": [
        "### Split the Data Features to train the Model"
      ],
      "metadata": {
        "id": "6O3DPyggK7OU"
      }
    },
    {
      "cell_type": "code",
      "source": [
        "from sklearn.model_selection import train_test_split\n",
        "\n",
        "# Split the dataset into features (X) and target variable (y)\n",
        "X = data['tweet']\n",
        "y = data['sentiment']\n",
        "\n",
        "# Split the dataset into training and testing sets\n",
        "X_train, X_test, y_train, y_test = train_test_split(X, y, test_size=0.2, random_state=42)\n",
        "\n",
        "# Print the shapes of the training and testing sets\n",
        "print(\"Training set shape:\", X_train.shape, y_train.shape)\n",
        "print(\"Testing set shape:\", X_test.shape, y_test.shape)"
      ],
      "metadata": {
        "colab": {
          "base_uri": "https://localhost:8080/"
        },
        "id": "ZHxPiQZjKoLc",
        "outputId": "57773a87-cdff-43e7-9abe-5b1be3a2489c"
      },
      "execution_count": 18,
      "outputs": [
        {
          "output_type": "stream",
          "name": "stdout",
          "text": [
            "Training set shape: (6592,) (6592,)\n",
            "Testing set shape: (1648,) (1648,)\n"
          ]
        }
      ]
    },
    {
      "cell_type": "markdown",
      "source": [
        "# Binary Classification Models"
      ],
      "metadata": {
        "id": "eyvr33d8XgV6"
      }
    },
    {
      "cell_type": "markdown",
      "source": [
        "## Base Line Model\n",
        "### Logistic Regression Model\n",
        "\n",
        "\n"
      ],
      "metadata": {
        "id": "8HyuLE7kXclu"
      }
    },
    {
      "cell_type": "code",
      "source": [
        "from sklearn.linear_model import LogisticRegression\n",
        "from sklearn.metrics import accuracy_score, classification_report\n",
        "# Filter the dataset to include only positive and negative sentiment\n",
        "filtered_data = data[data['sentiment'].isin(['Positive emotion', 'Negative emotion'])]\n",
        "\n",
        "# Split the filtered dataset into features (X) and target variable (y)\n",
        "X_filtered = filtered_data['tweet']\n",
        "y_filtered = filtered_data['sentiment']\n",
        "\n",
        "# Split the filtered dataset into training and testing sets\n",
        "X_train_filtered, X_test_filtered, y_train_filtered, y_test_filtered = train_test_split(X_filtered, y_filtered, test_size=0.2, random_state=42)\n",
        "\n",
        "# Initialize the CountVectorizer\n",
        "count_vectorizer_filtered = CountVectorizer()\n",
        "\n",
        "# Fit and transform the training data\n",
        "X_train_bow_filtered = count_vectorizer_filtered.fit_transform(X_train_filtered)\n",
        "\n",
        "# Transform the testing data\n",
        "X_test_bow_filtered = count_vectorizer_filtered.transform(X_test_filtered)\n",
        "\n",
        "# Initialize the Logistic Regression model\n",
        "clf_filtered = LogisticRegression(max_iter=1000)\n",
        "\n",
        "# Train the model\n",
        "clf_filtered.fit(X_train_bow_filtered, y_train_filtered)\n",
        "\n",
        "# Predict on the testing data\n",
        "y_pred_filtered = clf_filtered.predict(X_test_bow_filtered)\n",
        "\n",
        "# Calculate accuracy\n",
        "accuracy_filtered = accuracy_score(y_test_filtered, y_pred_filtered)\n",
        "print(\"Accuracy:\", accuracy_filtered)\n",
        "\n",
        "# Print classification report\n",
        "print(\"Classification Report:\")\n",
        "print(classification_report(y_test_filtered, y_pred_filtered))\n"
      ],
      "metadata": {
        "colab": {
          "base_uri": "https://localhost:8080/"
        },
        "id": "-syEmjHgdju3",
        "outputId": "acc68f31-1420-4dc9-d186-708c1bc68ca5"
      },
      "execution_count": 19,
      "outputs": [
        {
          "output_type": "stream",
          "name": "stdout",
          "text": [
            "Accuracy: 0.8757062146892656\n",
            "Classification Report:\n",
            "                  precision    recall  f1-score   support\n",
            "\n",
            "Negative emotion       0.75      0.40      0.53       121\n",
            "Positive emotion       0.89      0.97      0.93       587\n",
            "\n",
            "        accuracy                           0.88       708\n",
            "       macro avg       0.82      0.69      0.73       708\n",
            "    weighted avg       0.87      0.88      0.86       708\n",
            "\n"
          ]
        }
      ]
    },
    {
      "cell_type": "markdown",
      "source": [
        "## SVM , Naive Bayes Classification, Random Forest Models"
      ],
      "metadata": {
        "id": "yDqyLZUheC1G"
      }
    },
    {
      "cell_type": "code",
      "source": [
        "from sklearn.svm import SVC\n",
        "from sklearn.naive_bayes import MultinomialNB\n",
        "from sklearn.ensemble import RandomForestClassifier\n",
        "from sklearn.metrics import accuracy_score, precision_score, recall_score, f1_score, classification_report\n",
        "from sklearn.feature_extraction.text import CountVectorizer\n",
        "\n",
        "# Initialize CountVectorizer\n",
        "count_vectorizer = CountVectorizer()\n",
        "\n",
        "# Fit and transform the training data\n",
        "X_train_bow = count_vectorizer.fit_transform(X_train_filtered)\n",
        "X_test_bow = count_vectorizer.transform(X_test_filtered)\n",
        "\n",
        "# Initialize classifiers\n",
        "classifiers = {\n",
        "    \"SVM\": SVC(),\n",
        "    \"Naive Bayes\": MultinomialNB(),\n",
        "    \"Random Forest\": RandomForestClassifier()\n",
        "}\n",
        "\n",
        "# Train and evaluate classifiers\n",
        "for name, clf in classifiers.items():\n",
        "    print(f\"\\n{name}:\")\n",
        "    clf.fit(X_train_bow, y_train_filtered)\n",
        "    y_pred = clf.predict(X_test_bow)\n",
        "\n",
        "    # Calculate evaluation metrics\n",
        "    accuracy = accuracy_score(y_test_filtered, y_pred)\n",
        "    precision = precision_score(y_test_filtered, y_pred, average='weighted')\n",
        "    recall = recall_score(y_test_filtered, y_pred, average='weighted')\n",
        "    f1 = f1_score(y_test_filtered, y_pred, average='weighted')\n",
        "\n",
        "    # Print evaluation metrics\n",
        "    print(\"Accuracy:\", accuracy)\n",
        "    print(\"Precision:\", precision)\n",
        "    print(\"Recall:\", recall)\n",
        "    print(\"F1-score:\", f1)\n",
        "\n"
      ],
      "metadata": {
        "colab": {
          "base_uri": "https://localhost:8080/"
        },
        "id": "ETQoSMYsYixx",
        "outputId": "4d51cb17-a725-4465-8bba-79585669531a"
      },
      "execution_count": 20,
      "outputs": [
        {
          "output_type": "stream",
          "name": "stdout",
          "text": [
            "\n",
            "SVM:\n",
            "Accuracy: 0.8545197740112994\n",
            "Precision: 0.8762363874559896\n",
            "Recall: 0.8545197740112994\n",
            "F1-score: 0.8064858838544019\n",
            "\n",
            "Naive Bayes:\n",
            "Accuracy: 0.864406779661017\n",
            "Precision: 0.8572669018942368\n",
            "Recall: 0.864406779661017\n",
            "F1-score: 0.8352521147644549\n",
            "\n",
            "Random Forest:\n",
            "Accuracy: 0.867231638418079\n",
            "Precision: 0.8726888470391296\n",
            "Recall: 0.867231638418079\n",
            "F1-score: 0.833926828675546\n"
          ]
        }
      ]
    },
    {
      "cell_type": "code",
      "source": [
        "# Convert the target variable to binary format\n",
        "y_test_binary = y_test_filtered.map({'Positive emotion': 1, 'Negative emotion': 0})\n",
        "\n",
        "# Train and evaluate classifiers\n",
        "for name, clf in classifiers.items():\n",
        "    print(f\"\\n{name}:\")\n",
        "    clf.fit(X_train_bow, y_train_filtered)\n",
        "    y_pred = clf.predict(X_test_bow)\n",
        "\n",
        "    # Calculate evaluation metrics\n",
        "    accuracy = accuracy_score(y_test_filtered, y_pred)\n",
        "    precision = precision_score(y_test_filtered, y_pred, average='weighted')\n",
        "    recall = recall_score(y_test_filtered, y_pred, average='weighted')\n",
        "    f1 = f1_score(y_test_filtered, y_pred, average='weighted')\n",
        "    auc = roc_auc_score(y_test_binary, clf.predict_proba(X_test_bow)[:, 1])\n",
        "\n",
        "    # Print evaluation metrics\n",
        "    print(\"Accuracy:\", accuracy)\n",
        "    print(\"Precision:\", precision)\n",
        "    print(\"Recall:\", recall)\n",
        "    print(\"F1-score:\", f1)\n",
        "    print(\"AUC:\", auc)\n",
        "\n",
        "    # Plot ROC curve\n",
        "    if hasattr(clf, \"predict_proba\"):\n",
        "        fpr, tpr, _ = roc_curve(y_test_binary, clf.predict_proba(X_test_bow)[:, 1])\n",
        "        plt.figure()\n",
        "        plt.plot(fpr, tpr, color='darkorange', lw=2, label='ROC curve')\n",
        "        plt.plot([0, 1], [0, 1], color='navy', lw=2, linestyle='--')\n",
        "        plt.xlim([0.0, 1.0])\n",
        "        plt.ylim([0.0, 1.05])\n",
        "        plt.xlabel('False Positive Rate')\n",
        "        plt.ylabel('True Positive Rate')\n",
        "        plt.title('Receiver Operating Characteristic (ROC)')\n",
        "        plt.legend(loc=\"lower right\")\n",
        "        plt.show()\n"
      ],
      "metadata": {
        "colab": {
          "base_uri": "https://localhost:8080/",
          "height": 245
        },
        "id": "gGQ-NGtVfZQm",
        "outputId": "2dc298d3-aac9-40eb-b1d5-ec07a47d711d"
      },
      "execution_count": 21,
      "outputs": [
        {
          "output_type": "stream",
          "name": "stdout",
          "text": [
            "\n",
            "SVM:\n"
          ]
        },
        {
          "output_type": "error",
          "ename": "NameError",
          "evalue": "name 'roc_auc_score' is not defined",
          "traceback": [
            "\u001b[0;31m---------------------------------------------------------------------------\u001b[0m",
            "\u001b[0;31mNameError\u001b[0m                                 Traceback (most recent call last)",
            "\u001b[0;32m<ipython-input-21-0fdba4b33e43>\u001b[0m in \u001b[0;36m<cell line: 5>\u001b[0;34m()\u001b[0m\n\u001b[1;32m     13\u001b[0m     \u001b[0mrecall\u001b[0m \u001b[0;34m=\u001b[0m \u001b[0mrecall_score\u001b[0m\u001b[0;34m(\u001b[0m\u001b[0my_test_filtered\u001b[0m\u001b[0;34m,\u001b[0m \u001b[0my_pred\u001b[0m\u001b[0;34m,\u001b[0m \u001b[0maverage\u001b[0m\u001b[0;34m=\u001b[0m\u001b[0;34m'weighted'\u001b[0m\u001b[0;34m)\u001b[0m\u001b[0;34m\u001b[0m\u001b[0;34m\u001b[0m\u001b[0m\n\u001b[1;32m     14\u001b[0m     \u001b[0mf1\u001b[0m \u001b[0;34m=\u001b[0m \u001b[0mf1_score\u001b[0m\u001b[0;34m(\u001b[0m\u001b[0my_test_filtered\u001b[0m\u001b[0;34m,\u001b[0m \u001b[0my_pred\u001b[0m\u001b[0;34m,\u001b[0m \u001b[0maverage\u001b[0m\u001b[0;34m=\u001b[0m\u001b[0;34m'weighted'\u001b[0m\u001b[0;34m)\u001b[0m\u001b[0;34m\u001b[0m\u001b[0;34m\u001b[0m\u001b[0m\n\u001b[0;32m---> 15\u001b[0;31m     \u001b[0mauc\u001b[0m \u001b[0;34m=\u001b[0m \u001b[0mroc_auc_score\u001b[0m\u001b[0;34m(\u001b[0m\u001b[0my_test_binary\u001b[0m\u001b[0;34m,\u001b[0m \u001b[0mclf\u001b[0m\u001b[0;34m.\u001b[0m\u001b[0mpredict_proba\u001b[0m\u001b[0;34m(\u001b[0m\u001b[0mX_test_bow\u001b[0m\u001b[0;34m)\u001b[0m\u001b[0;34m[\u001b[0m\u001b[0;34m:\u001b[0m\u001b[0;34m,\u001b[0m \u001b[0;36m1\u001b[0m\u001b[0;34m]\u001b[0m\u001b[0;34m)\u001b[0m\u001b[0;34m\u001b[0m\u001b[0;34m\u001b[0m\u001b[0m\n\u001b[0m\u001b[1;32m     16\u001b[0m \u001b[0;34m\u001b[0m\u001b[0m\n\u001b[1;32m     17\u001b[0m     \u001b[0;31m# Print evaluation metrics\u001b[0m\u001b[0;34m\u001b[0m\u001b[0;34m\u001b[0m\u001b[0m\n",
            "\u001b[0;31mNameError\u001b[0m: name 'roc_auc_score' is not defined"
          ]
        }
      ]
    },
    {
      "cell_type": "code",
      "source": [
        "# prompt: fine tune the parameter to check whether the model perfomance will improve\n",
        "\n",
        "# Initialize CountVectorizer\n",
        "count_vectorizer = CountVectorizer(max_features=5000)\n",
        "\n",
        "# Fit and transform the training data\n",
        "X_train_bow = count_vectorizer.fit_transform(X_train_filtered)\n",
        "X_test_bow = count_vectorizer.transform(X_test_filtered)\n",
        "\n",
        "# Initialize SVM classifier with tuned parameters\n",
        "clf_svm = SVC(C=1.0, kernel='rbf', gamma='scale')\n",
        "\n",
        "# Train the model\n",
        "clf_svm.fit(X_train_bow, y_train_filtered)\n",
        "\n",
        "# Predict on the testing data\n",
        "y_pred_svm = clf_svm.predict(X_test_bow)\n",
        "\n",
        "# Calculate accuracy\n",
        "accuracy_svm = accuracy_score(y_test_filtered, y_pred_svm)\n",
        "print(\"SVM Accuracy:\", accuracy_svm)\n",
        "\n",
        "# Print classification report\n",
        "print(\"SVM Classification Report:\")\n",
        "print(classification_report(y_test_filtered, y_pred_svm))\n",
        "\n",
        "# Initialize Naive Bayes classifier with tuned parameters\n",
        "clf_nb = MultinomialNB(alpha=0.1)\n",
        "\n",
        "# Train the model\n",
        "clf_nb.fit(X_train_bow, y_train_filtered)\n",
        "\n",
        "# Predict on the testing data\n",
        "y_pred_nb = clf_nb.predict(X_test_bow)\n",
        "\n",
        "# Calculate accuracy\n",
        "accuracy_nb = accuracy_score(y_test_filtered, y_pred_nb)\n",
        "print(\"Naive Bayes Accuracy:\", accuracy_nb)\n",
        "\n",
        "# Print classification report\n",
        "print(\"Naive Bayes Classification Report:\")\n",
        "print(classification_report(y_test_filtered, y_pred_nb))\n",
        "\n",
        "# Initialize Random Forest classifier with tuned parameters\n",
        "clf_rf = RandomForestClassifier(n_estimators=100, max_depth=20, random_state=42)\n",
        "\n",
        "# Train the model\n",
        "clf_rf.fit(X_train_bow, y_train_filtered)\n",
        "\n",
        "# Predict on the testing data\n",
        "y_pred_rf = clf_rf.predict(X_test_bow)\n",
        "\n",
        "# Calculate accuracy\n",
        "accuracy_rf = accuracy_score(y_test_filtered, y_pred_rf)\n",
        "print(\"Random Forest Accuracy:\", accuracy_rf)\n",
        "\n",
        "# Print classification report\n",
        "print(\"Random Forest Classification Report:\")\n",
        "print(classification_report(y_test_filtered, y_pred_rf))\n"
      ],
      "metadata": {
        "colab": {
          "base_uri": "https://localhost:8080/"
        },
        "id": "oDxILxvDfChP",
        "outputId": "35c5474f-df91-4233-ebe4-f880f6f2bcb6"
      },
      "execution_count": null,
      "outputs": [
        {
          "output_type": "stream",
          "name": "stdout",
          "text": [
            "SVM Accuracy: 0.8531073446327684\n",
            "SVM Classification Report:\n",
            "                  precision    recall  f1-score   support\n",
            "\n",
            "Negative emotion       1.00      0.14      0.25       121\n",
            "Positive emotion       0.85      1.00      0.92       587\n",
            "\n",
            "        accuracy                           0.85       708\n",
            "       macro avg       0.92      0.57      0.58       708\n",
            "    weighted avg       0.88      0.85      0.80       708\n",
            "\n",
            "Naive Bayes Accuracy: 0.8728813559322034\n",
            "Naive Bayes Classification Report:\n",
            "                  precision    recall  f1-score   support\n",
            "\n",
            "Negative emotion       0.66      0.52      0.58       121\n",
            "Positive emotion       0.91      0.95      0.92       587\n",
            "\n",
            "        accuracy                           0.87       708\n",
            "       macro avg       0.78      0.73      0.75       708\n",
            "    weighted avg       0.86      0.87      0.87       708\n",
            "\n",
            "Random Forest Accuracy: 0.8333333333333334\n",
            "Random Forest Classification Report:\n",
            "                  precision    recall  f1-score   support\n",
            "\n",
            "Negative emotion       1.00      0.02      0.05       121\n",
            "Positive emotion       0.83      1.00      0.91       587\n",
            "\n",
            "        accuracy                           0.83       708\n",
            "       macro avg       0.92      0.51      0.48       708\n",
            "    weighted avg       0.86      0.83      0.76       708\n",
            "\n"
          ]
        }
      ]
    },
    {
      "cell_type": "markdown",
      "source": [
        "### Multiclass Classification"
      ],
      "metadata": {
        "id": "T85eAHcgcCCX"
      }
    },
    {
      "cell_type": "code",
      "source": [],
      "metadata": {
        "id": "jXNELhC-e48r"
      },
      "execution_count": null,
      "outputs": []
    },
    {
      "cell_type": "code",
      "source": [
        "from sklearn.ensemble import RandomForestClassifier\n",
        "from sklearn.metrics import accuracy_score, classification_report\n",
        "from sklearn.feature_extraction.text import CountVectorizer\n",
        "\n",
        "# Initialize CountVectorizer\n",
        "count_vectorizer = CountVectorizer()\n",
        "\n",
        "# Fit and transform the training data\n",
        "X_train_bow = count_vectorizer.fit_transform(X_train)\n",
        "X_test_bow = count_vectorizer.transform(X_test)\n",
        "\n",
        "# Initialize the Random Forest classifier\n",
        "rf_classifier = RandomForestClassifier()\n",
        "\n",
        "# Train the classifier\n",
        "rf_classifier.fit(X_train_bow, y_train)\n",
        "\n",
        "# Predict on the testing data\n",
        "y_pred = rf_classifier.predict(X_test_bow)\n",
        "\n",
        "# Calculate accuracy\n",
        "accuracy = accuracy_score(y_test, y_pred)\n",
        "print(\"Accuracy:\", accuracy)\n",
        "\n",
        "# Print classification report\n",
        "print(\"Classification Report:\")\n",
        "print(classification_report(y_test, y_pred))\n"
      ],
      "metadata": {
        "colab": {
          "base_uri": "https://localhost:8080/"
        },
        "id": "izqRdgMIcFhm",
        "outputId": "55fe02e5-e82d-428a-da2d-33e5847ec423"
      },
      "execution_count": null,
      "outputs": [
        {
          "output_type": "stream",
          "name": "stdout",
          "text": [
            "Accuracy: 0.6474514563106796\n",
            "Classification Report:\n",
            "                  precision    recall  f1-score   support\n",
            "\n",
            "Negative emotion       0.71      0.27      0.39       109\n",
            "         Neutral       0.64      0.85      0.73       912\n",
            "Positive emotion       0.65      0.42      0.51       627\n",
            "\n",
            "        accuracy                           0.65      1648\n",
            "       macro avg       0.67      0.51      0.54      1648\n",
            "    weighted avg       0.65      0.65      0.62      1648\n",
            "\n"
          ]
        }
      ]
    },
    {
      "cell_type": "code",
      "source": [
        "from sklearn.ensemble import RandomForestClassifier, GradientBoostingClassifier\n",
        "from sklearn.neural_network import MLPClassifier\n",
        "from sklearn.metrics import accuracy_score, classification_report\n",
        "from sklearn.feature_extraction.text import CountVectorizer\n",
        "\n",
        "# Initialize CountVectorizer\n",
        "count_vectorizer = CountVectorizer()\n",
        "\n",
        "# Fit and transform the training data\n",
        "X_train_bow = count_vectorizer.fit_transform(X_train)\n",
        "X_test_bow = count_vectorizer.transform(X_test)\n",
        "\n",
        "# Initialize classifiers\n",
        "classifiers = {\n",
        "    \"Random Forest\": RandomForestClassifier(),\n",
        "    \"Gradient Boosting\": GradientBoostingClassifier(),\n",
        "    \"Neural Network\": MLPClassifier(max_iter=1000)\n",
        "}\n",
        "\n",
        "# Train and evaluate classifiers\n",
        "for name, clf in classifiers.items():\n",
        "    print(f\"\\n{name}:\")\n",
        "    clf.fit(X_train_bow, y_train)\n",
        "    y_pred = clf.predict(X_test_bow)\n",
        "\n",
        "    # Calculate accuracy\n",
        "    accuracy = accuracy_score(y_test, y_pred)\n",
        "    print(\"Accuracy:\", accuracy)\n",
        "\n",
        "    # Print classification report\n",
        "    print(\"Classification Report:\")\n",
        "    print(classification_report(y_test, y_pred))\n"
      ],
      "metadata": {
        "id": "OZbP-hEEcasg"
      },
      "execution_count": null,
      "outputs": []
    },
    {
      "cell_type": "markdown",
      "metadata": {
        "id": "ujnCtmFf8l_K"
      },
      "source": [
        "# Data visualization"
      ]
    },
    {
      "cell_type": "markdown",
      "metadata": {
        "id": "PP3rKWHQ8l_K"
      },
      "source": [
        "# Overall sentiment distribution"
      ]
    },
    {
      "cell_type": "code",
      "execution_count": null,
      "metadata": {
        "id": "UqGXu5DZ8l_K"
      },
      "outputs": [],
      "source": [
        " #Calculate overall sentiment distribution\n",
        "sentiment_distribution = data['is_there_an_emotion_directed_at_a_brand_or_product'].value_counts()\n",
        "print(\"Overall Sentiment Distribution:\")\n",
        "print(sentiment_distribution)"
      ]
    },
    {
      "cell_type": "markdown",
      "metadata": {
        "id": "u5Ly8JY68l_L"
      },
      "source": [
        "This is the general overview of sentiment trends"
      ]
    },
    {
      "cell_type": "markdown",
      "metadata": {
        "id": "hg6EufZR8l_L"
      },
      "source": [
        "# Most mentioned brand or product"
      ]
    },
    {
      "cell_type": "code",
      "execution_count": null,
      "metadata": {
        "id": "h7-MGQe88l_L"
      },
      "outputs": [],
      "source": [
        "#Identify most mentioned brands/products\n",
        "most_mentioned = data['emotion_in_tweet_is_directed_at'].value_counts().head(10)\n",
        "print(\"\\nTop 10 Mentioned Brands/Products:\")\n",
        "print(most_mentioned)"
      ]
    },
    {
      "cell_type": "markdown",
      "metadata": {
        "id": "tAMnA_Gq8l_L"
      },
      "source": [
        "By examining the top 10 most mentioned brands or products, businesses can identify which ones are receiving the most attention or discussion on social media platforms."
      ]
    },
    {
      "cell_type": "markdown",
      "metadata": {
        "id": "edbuthWe8l_L"
      },
      "source": [
        "# Sentiment distribution for each brand or product"
      ]
    },
    {
      "cell_type": "code",
      "execution_count": null,
      "metadata": {
        "id": "oRF5fFRS8l_L"
      },
      "outputs": [],
      "source": [
        "# Sentiment distribution for each brand/product\n",
        "brand_sentiment = data.groupby(['emotion_in_tweet_is_directed_at', 'is_there_an_emotion_directed_at_a_brand_or_product']).size().unstack(fill_value=0)\n",
        "brand_sentiment.plot(kind='bar', stacked=True, figsize=(10, 6))\n",
        "plt.title(\"Sentiment Distribution for Brands/Products\")\n",
        "plt.xlabel(\"Brand/Product\")\n",
        "plt.ylabel(\"Count\")\n",
        "plt.xticks(rotation=45)\n",
        "plt.legend(title='Sentiment')\n",
        "plt.show()"
      ]
    },
    {
      "cell_type": "markdown",
      "metadata": {
        "id": "qhMuXvI18l_M"
      },
      "source": [
        "The plot provides a visual representation of the sentiment distribution across different brands or products to allow us grasp sentiment trends across the brands or products."
      ]
    },
    {
      "cell_type": "code",
      "execution_count": null,
      "metadata": {
        "id": "bzQMc4w08l_M"
      },
      "outputs": [],
      "source": [
        "#loading dataset\n",
        "df = pd.read_csv('judge-1377884607_tweet_product_company.csv', encoding='latin1')\n",
        "df.head()"
      ]
    },
    {
      "cell_type": "code",
      "execution_count": null,
      "metadata": {
        "id": "9Nq9p8sx8l_M"
      },
      "outputs": [],
      "source": [
        "df['emotion_in_tweet_is_directed_at'].value_counts()"
      ]
    },
    {
      "cell_type": "code",
      "execution_count": null,
      "metadata": {
        "id": "Ola_fn8f8l_M"
      },
      "outputs": [],
      "source": [
        "apple_keywords = ['apple', 'iphone', 'ipad', 'mac', 'ios','itunes']\n",
        "google_keywords = ['google', 'android', 'pixel', 'chromebook','android','samsung']\n",
        "\n",
        "# Function to check if a tweet contains keywords related to Apple or Google\n",
        "def check_product(tweet):\n",
        "    if isinstance(tweet, str):\n",
        "        tweet_lower = tweet.lower()\n",
        "        if any(keyword in tweet_lower for keyword in apple_keywords):\n",
        "            return 'Apple'\n",
        "        elif any(keyword in tweet_lower for keyword in google_keywords):\n",
        "            return 'Google'\n",
        "    return None\n",
        "\n",
        "null_rows = df[df['emotion_in_tweet_is_directed_at'].isnull()]\n",
        "null_rows['emotion_in_tweet_is_directed_at'] = null_rows['tweet_text'].apply(check_product)\n",
        "df.update(null_rows)\n",
        "df['emotion_in_tweet_is_directed_at'].isnull().sum()"
      ]
    },
    {
      "cell_type": "code",
      "execution_count": null,
      "metadata": {
        "id": "e2vv5jUQ8l_M"
      },
      "outputs": [],
      "source": [
        "# Successfully renamed the column for our convenience.\n",
        "df.rename(columns={'emotion_in_tweet_is_directed_at':'emotion_towards','is_there_an_emotion_directed_at_a_brand_or_product':'emotion_reaction'},inplace=True)"
      ]
    },
    {
      "cell_type": "code",
      "execution_count": null,
      "metadata": {
        "id": "AjJT-CoT8l_N"
      },
      "outputs": [],
      "source": [
        "df.head()"
      ]
    },
    {
      "cell_type": "code",
      "execution_count": null,
      "metadata": {
        "id": "Sot4JgaR8l_N"
      },
      "outputs": [],
      "source": [
        "#explore the data\n",
        "df.info()"
      ]
    },
    {
      "cell_type": "code",
      "execution_count": null,
      "metadata": {
        "id": "V5OAGD4o8l_N"
      },
      "outputs": [],
      "source": [
        "df.isnull().sum()  # check missing values"
      ]
    },
    {
      "cell_type": "markdown",
      "metadata": {
        "id": "1JIfYoQx8l_O"
      },
      "source": [
        "tweet_text: There is 1 missing value in the \"tweet_text\" column.\n",
        "emotion_towards: There are 5802 missing values in the \"emotion_towards\" column.\n",
        "emotion_reaction: There are no missing values (0) in the \"emotion_reaction\" column."
      ]
    },
    {
      "cell_type": "code",
      "execution_count": null,
      "metadata": {
        "id": "UfndAtah8l_Z"
      },
      "outputs": [],
      "source": [
        "product_counts = df['emotion_towards'].value_counts()\n",
        "print(\"\\nProduct counts:\")\n",
        "print(product_counts)"
      ]
    },
    {
      "cell_type": "code",
      "execution_count": null,
      "metadata": {
        "id": "21sHAYdZ8l_Z"
      },
      "outputs": [],
      "source": [
        "# filling the null values\n",
        "df.dropna(inplace=True)"
      ]
    },
    {
      "cell_type": "code",
      "execution_count": null,
      "metadata": {
        "id": "nYd_6gur8l_Z"
      },
      "outputs": [],
      "source": [
        "# check if there is any missing values\n",
        "df.isnull().sum()"
      ]
    },
    {
      "cell_type": "code",
      "execution_count": null,
      "metadata": {
        "id": "Sx706Z_k8l_a"
      },
      "outputs": [],
      "source": [
        "# Sort the DataFrame by the count of 'emotion_towards' in ascending order\n",
        "sorted_df = df['emotion_towards'].value_counts().reset_index(name='count').sort_values(by='count', ascending=False)\n",
        "\n",
        "# Plot\n",
        "plt.figure(figsize=(20, 15))\n",
        "ax = sns.countplot(x='emotion_towards', data=df, order=sorted_df['emotion_towards'], color='skyblue')\n",
        "\n",
        "# Add data labels\n",
        "for p in ax.patches:\n",
        "    ax.annotate(format(p.get_height(), '.0f'),\n",
        "                (p.get_x() + p.get_width() / 2., p.get_height()),\n",
        "                ha = 'center', va = 'center',\n",
        "                xytext = (0, 10),\n",
        "                textcoords = 'offset points')"
      ]
    },
    {
      "cell_type": "code",
      "execution_count": null,
      "metadata": {
        "id": "Yu9xbV3b8l_a"
      },
      "outputs": [],
      "source": [
        "# Sort the DataFrame by the count of 'emotion_reaction' in descending order\n",
        "sorted_df = df['emotion_reaction'].value_counts().reset_index(name='count').sort_values(by='count', ascending=False)\n",
        "\n",
        "# Plot\n",
        "plt.figure(figsize=(15, 8))\n",
        "sns.countplot(x='emotion_reaction', data=df, order=sorted_df['emotion_reaction'], color='skyblue')\n",
        "plt.show()"
      ]
    },
    {
      "cell_type": "code",
      "execution_count": null,
      "metadata": {
        "id": "C6VP_dAK8l_a"
      },
      "outputs": [],
      "source": [
        "#  The count of 'emotion_reaction' in descending order\n",
        "sorted_df = df['emotion_reaction'].value_counts().reset_index(name='count').sort_values(by='count', ascending=False)\n",
        "\n",
        "# Plot\n",
        "plt.figure(figsize=(15, 8))\n",
        "ax = sns.countplot(x='emotion_reaction', data=df, order=sorted_df['emotion_reaction'], color='skyblue')\n",
        "\n",
        "# Add data labels\n",
        "for p in ax.patches:\n",
        "    ax.annotate(format(p.get_height(), '.0f'),\n",
        "                (p.get_x() + p.get_width() / 2., p.get_height()),\n",
        "                ha = 'center', va = 'center',\n",
        "                xytext = (0, 10),\n",
        "                textcoords = 'offset points')\n",
        "\n",
        "plt.show()"
      ]
    },
    {
      "cell_type": "code",
      "execution_count": null,
      "metadata": {
        "id": "lLXxBK0v8l_b"
      },
      "outputs": [],
      "source": [
        "# Sort the DataFrame by the count of 'emotion_towards' in descending order\n",
        "sorted_df = df['emotion_towards'].value_counts().reset_index(name='count').sort_values(by='count', ascending=False)\n",
        "\n",
        "# Plot\n",
        "plt.figure(figsize=(25, 20))\n",
        "g = sns.FacetGrid(df, col=\"emotion_towards\", col_order=sorted_df['emotion_towards'])\n",
        "g.map(sns.countplot, \"emotion_reaction\", order=df['emotion_reaction'].value_counts().index, color='skyblue')\n",
        "plt.show()"
      ]
    },
    {
      "cell_type": "code",
      "execution_count": null,
      "metadata": {
        "id": "HaWNDLGE8l_b"
      },
      "outputs": [],
      "source": [
        "df.describe()"
      ]
    },
    {
      "cell_type": "code",
      "execution_count": null,
      "metadata": {
        "id": "K689IIJd8l_b"
      },
      "outputs": [],
      "source": [
        "no_emotion_tweets = df[df['emotion_reaction'] == 'emotion_towards']['tweet_text']\n",
        "no_emotion_tweets.count()"
      ]
    },
    {
      "cell_type": "code",
      "execution_count": null,
      "metadata": {
        "id": "3-z9YA3k8l_c"
      },
      "outputs": [],
      "source": [
        "# Get unique emotions\n",
        "unique_emotions = df['emotion_reaction'].unique()\n",
        "unique_emotions"
      ]
    },
    {
      "cell_type": "code",
      "execution_count": null,
      "metadata": {
        "id": "pd5oEgCj8l_c"
      },
      "outputs": [],
      "source": [
        "# Get counts of each emotion\n",
        "emotion_counts = df['emotion_reaction'].value_counts()\n",
        "# Sort emotions from highest to lowest\n",
        "sorted_emotions = emotion_counts.sort_values(ascending=False)\n",
        "sorted_emotions"
      ]
    },
    {
      "cell_type": "code",
      "execution_count": null,
      "metadata": {
        "id": "fEOm-tPV8l_c"
      },
      "outputs": [],
      "source": [
        "df.columns"
      ]
    },
    {
      "cell_type": "code",
      "execution_count": null,
      "metadata": {
        "id": "lrbwm8-K8l_c"
      },
      "outputs": [],
      "source": [
        "unique_products = df['emotion_towards'].unique()\n",
        "print(\"Unique products mentioned:\")\n",
        "print(unique_products)"
      ]
    },
    {
      "cell_type": "code",
      "execution_count": null,
      "metadata": {
        "id": "_-z0x1OV8l_d"
      },
      "outputs": [],
      "source": [
        "product_counts = df['emotion_towards'].value_counts()\n",
        "print(\"\\nProduct counts:\")\n",
        "print(product_counts)"
      ]
    },
    {
      "cell_type": "code",
      "execution_count": null,
      "metadata": {
        "id": "rGR2owz_8l_d"
      },
      "outputs": [],
      "source": [
        "ipad_tweets = df[df['emotion_towards'] == 'iPad']['tweet_text']\n",
        "print(\"\\nRelevant tweets mentioning iPad:\")\n",
        "print(ipad_tweets.head())"
      ]
    },
    {
      "cell_type": "code",
      "execution_count": null,
      "metadata": {
        "id": "g1J_orpx8l_e"
      },
      "outputs": [],
      "source": [
        "ipad_tweets = df[df['emotion_towards'] == 'iPad']['tweet_text']\n",
        "ipad_tweets"
      ]
    },
    {
      "cell_type": "markdown",
      "metadata": {
        "id": "RKsor4p78l_e"
      },
      "source": [
        "The dataframe has 9093 rows and 3 columns.\n",
        "All the data is of the object type which normally represents text or categorical data\n",
        "\n",
        "The columns are named:\n",
        "tweet_text\n",
        "    -contains 9092 non-null entries of text data (ie tweets)\n",
        "emotion_in_tweet_is_directed_at\n",
        "    - Represents the emotion attached to a specific brand or product (e.g., “iPad”).\n",
        "    - There are 3291 non-null entries.\n",
        "    - The most frequent value is “iPad” (appears 946 times)\n",
        "is_there_an_emotion_directed_at_a_brand_or_product\n",
        "    -Indicates whether there is an emotion directed at a brand or product.\n",
        "    -Four possible values:\n",
        "        “Positive emotion”, “Negative emotion”,“No emotion toward brand or product” (appears 5389 times),“I can’t tell”\n",
        "        \n"
      ]
    },
    {
      "cell_type": "code",
      "execution_count": null,
      "metadata": {
        "id": "7zbT-31g8l_f"
      },
      "outputs": [],
      "source": [
        "import re\n",
        "from nltk.corpus import stopwords\n",
        "from nltk.tokenize import word_tokenize\n",
        "\n",
        "def clean_text(text):\n",
        "\n",
        "    text = text.lower()\n",
        "\n",
        "    # Remove punctuation\n",
        "    text = re.sub(r'[^\\w\\s]', '', text)\n",
        "\n",
        "    # Tokenize the text into words\n",
        "    words = word_tokenize(text)\n",
        "\n",
        "    # Remove stopwords and numbers\n",
        "    stop_words = set(stopwords.words('english'))\n",
        "    clean_words = [word for word in words if word not in stop_words and not word.isdigit()]\n",
        "\n",
        "    # Join the cleaned words back into a single string\n",
        "    cleaned_text = ' '.join(clean_words)\n",
        "\n",
        "    return cleaned_text\n"
      ]
    },
    {
      "cell_type": "code",
      "execution_count": null,
      "metadata": {
        "id": "qIXPM9dX8l_f"
      },
      "outputs": [],
      "source": [
        "nltk.download('stopwords')\n",
        "stopwords_list = stopwords.words('english')\n",
        "import string\n",
        "stopwords_list += string.punctuation\n",
        "st = nltk.PorterStemmer()\n",
        "def stemming(content):\n",
        "    stemmed_content = re.sub('[^a-zA-z]',' ',content)\n",
        "    stemmed_content = stemmed_content.lower()\n",
        "    stemmed_content = stemmed_content.split()\n",
        "    stemmed_content = [st.stem(word) for word in stemmed_content if word not in stopwords_list]\n",
        "    stemmed_content = ' '.join(stemmed_content)\n",
        "    return stemmed_content\n",
        "df['stemmed_tweets'] = df['tweet_text'].apply(stemming)\n",
        "df['stemmed_tweets'].head()\n",
        "\n"
      ]
    },
    {
      "cell_type": "code",
      "execution_count": null,
      "metadata": {
        "id": "1RTs77r18l_f"
      },
      "outputs": [],
      "source": [
        "df['emotion_reaction'].value_counts()"
      ]
    },
    {
      "cell_type": "markdown",
      "metadata": {
        "id": "oFAzIfOT8l_f"
      },
      "source": [
        "Lets drop 'I cant tell'"
      ]
    },
    {
      "cell_type": "code",
      "execution_count": null,
      "metadata": {
        "id": "4FXlO7Lu8l_g"
      },
      "outputs": [],
      "source": [
        "# Create a boolean mask to identify rows where the 'emotion' column contains 'I can't tell'\n",
        "mask = df['emotion_reaction'] != \"I can't tell\"\n",
        "\n",
        "# Apply the mask to filter out rows where the 'emotion' column contains 'I can't tell'\n",
        "df_filtered = df[mask]\n",
        "\n",
        "df_filtered.reset_index(drop=True, inplace=True)\n"
      ]
    },
    {
      "cell_type": "code",
      "execution_count": null,
      "metadata": {
        "id": "sDR58uQn8l_g"
      },
      "outputs": [],
      "source": [
        "df_filtered['emotion_reaction'].value_counts()"
      ]
    },
    {
      "cell_type": "markdown",
      "metadata": {
        "id": "KzNhhN4B8l_g"
      },
      "source": [
        "we remove no emotion too"
      ]
    },
    {
      "cell_type": "code",
      "execution_count": null,
      "metadata": {
        "id": "w9TsymEq8l_g"
      },
      "outputs": [],
      "source": [
        "df_filtered['emotion_reaction'] = df_filtered['emotion_reaction'].replace({'Positive emotion':1,'Negative emotion':0})\n",
        "df_filtered['emotion_reaction'].value_counts()"
      ]
    },
    {
      "cell_type": "markdown",
      "metadata": {
        "id": "VzboKsih8l_g"
      },
      "source": [
        "Split Data to X and Y for modelling"
      ]
    },
    {
      "cell_type": "code",
      "execution_count": null,
      "metadata": {
        "id": "mA0yolcD8l_h"
      },
      "outputs": [],
      "source": [
        "\n",
        "# List of Apple products and apps\n",
        "apple_products_and_apps = ['Apple', 'iPad', 'iPhone', 'iPad or iPhone App', 'Other Apple product or service']\n",
        "\n",
        "# List of Google products and apps\n",
        "google_products_and_apps = ['Google', 'Android', 'Android App', 'Other Google product or service']\n",
        "\n",
        "# Combine both lists\n",
        "products_and_apps_to_include = apple_products_and_apps + google_products_and_apps\n",
        "\n",
        "# Create a regular expression pattern from the combined list\n",
        "pattern = '|'.join(products_and_apps_to_include)\n",
        "\n",
        "# Filter rows where the 'emotion_towards' column contains the specified products and apps\n",
        "df_filtered = df_filtered[df_filtered['emotion_towards'].str.contains(pattern)]\n",
        "\n",
        "# Display the filtered DataFrame\n",
        "df_filtered.head()\n"
      ]
    },
    {
      "cell_type": "markdown",
      "metadata": {
        "id": "tsIemwKP8l_h"
      },
      "source": [
        "Clean text"
      ]
    },
    {
      "cell_type": "code",
      "execution_count": null,
      "metadata": {
        "id": "ji2rbiFh8l_h"
      },
      "outputs": [],
      "source": [
        "df_filtered['stemmed_tweets'] = df_filtered['stemmed_tweets'].apply(clean_text)\n",
        "df_filtered.head()"
      ]
    },
    {
      "cell_type": "code",
      "execution_count": null,
      "metadata": {
        "id": "XMhTzuq88l_h"
      },
      "outputs": [],
      "source": [
        "null_rows = df_filtered.copy()"
      ]
    },
    {
      "cell_type": "code",
      "execution_count": null,
      "metadata": {
        "id": "ceTWEJqP8l_h"
      },
      "outputs": [],
      "source": [
        "# Create a boolean mask to identify rows where the 'emotion' column contains 'I can't tell'\n",
        "mask = df_filtered['emotion_reaction'] != \"No emotion toward brand or product\"\n",
        "\n",
        "df_filtered.drop(df_filtered[~mask].index, inplace=True)\n",
        "\n",
        "df_filtered['emotion_reaction'].value_counts()"
      ]
    },
    {
      "cell_type": "code",
      "execution_count": null,
      "metadata": {
        "id": "Uu4CiRL78l_i"
      },
      "outputs": [],
      "source": [
        "X = df['stemmed_tweets'].values\n",
        "Y = df['emotion_reaction'].values\n",
        "X_train,X_test,y_train,y_test = train_test_split(X,Y,test_size=0.2,stratify=Y,random_state=42)"
      ]
    },
    {
      "cell_type": "code",
      "execution_count": null,
      "metadata": {
        "id": "FfweCXkk8l_i"
      },
      "outputs": [],
      "source": [
        "print(X_test)"
      ]
    },
    {
      "cell_type": "markdown",
      "metadata": {
        "id": "HAUm5ap-8l_i"
      },
      "source": [
        "Convert to numerical data"
      ]
    },
    {
      "cell_type": "code",
      "execution_count": null,
      "metadata": {
        "id": "jQMJKam28l_i"
      },
      "outputs": [],
      "source": [
        "vectorizer = TfidfVectorizer()\n",
        "X_train = vectorizer.fit_transform(X_train)\n",
        "X_test = vectorizer.transform(X_test)\n"
      ]
    },
    {
      "cell_type": "code",
      "execution_count": null,
      "metadata": {
        "id": "3Ntxh0-S8l_i"
      },
      "outputs": [],
      "source": [
        "print(X_train)"
      ]
    },
    {
      "cell_type": "markdown",
      "metadata": {
        "id": "nc0zPZLs8l_j"
      },
      "source": [
        "Training the LogReg model"
      ]
    },
    {
      "cell_type": "code",
      "execution_count": null,
      "metadata": {
        "id": "JBsCS4pj8l_j"
      },
      "outputs": [],
      "source": [
        "from sklearn.linear_model import LogisticRegression\n",
        "model = LogisticRegression(max_iter=1000)\n",
        "model.fit(X_train,y_train)\n"
      ]
    },
    {
      "cell_type": "code",
      "execution_count": null,
      "metadata": {
        "id": "V99fNdjZ8l_j"
      },
      "outputs": [],
      "source": [
        "df_filtered['emotion_reaction'].value_counts()"
      ]
    },
    {
      "cell_type": "code",
      "execution_count": null,
      "metadata": {
        "id": "VI8imwE08l_j"
      },
      "outputs": [],
      "source": [
        "y_pred = model.predict(X_train)\n",
        "train_data_accuracy = accuracy_score(y_train,y_pred)\n",
        "y_pred_test = model.predict(X_test)\n",
        "test_data_accuracy = accuracy_score(y_test,y_pred_test)\n",
        "print(f'Test Data Accuracy Score: {test_data_accuracy * 100} % \\n Train Data Accuracy Score: {train_data_accuracy*100} %')"
      ]
    },
    {
      "cell_type": "code",
      "execution_count": null,
      "metadata": {
        "id": "Ykmm04sh8l_j"
      },
      "outputs": [],
      "source": [
        "# Example tweet text\n",
        "tweet_text = \".@wesley83 I have a 3G iPhone. After 3 hrs twe...\"\n",
        "\n",
        "# Print original tweet text\n",
        "print(\"Original Text:\", tweet_text)\n",
        "\n",
        "# Clean the tweet text\n",
        "cleaned_text = clean_text(tweet_text)\n",
        "\n",
        "# Print cleaned tweet text\n",
        "print(\"Cleaned Text:\", cleaned_text)"
      ]
    },
    {
      "cell_type": "code",
      "execution_count": null,
      "metadata": {
        "id": "kjNU0z4C8l_k"
      },
      "outputs": [],
      "source": [
        "null_rows['emotion_reaction'] = null_rows['emotion_reaction'].replace({'No emotion toward brand or product':2})\n",
        "null_rows['emotion_reaction'].value_counts()\n",
        "logreg_multi = LogisticRegression(multi_class='multinomial',solver='lbfgs',max_iter=1000)\n",
        "X_m = null_rows['stemmed_tweets'].values\n",
        "Y_m = null_rows['emotion_reaction'].values\n",
        "x_ttrain,x_ttest,y_ttrain,y_ttest = train_test_split(X_m,Y_m,test_size=0.2,stratify=Y_m)\n",
        "x_ttrain = vectorizer.fit_transform(x_ttrain)\n",
        "x_ttest = vectorizer.transform(x_ttest)\n",
        "logreg_multi.fit(x_ttrain,y_ttrain)\n",
        "y_mtrain_pred = logreg_multi.predict(x_ttrain)\n",
        "y_mtest_pred = logreg_multi.predict(x_ttest)\n",
        "multi_accuracy_score_train = accuracy_score(y_ttrain,y_mtrain_pred)\n",
        "multi_accuracy_score_test = accuracy_score(y_ttest,y_mtest_pred)\n",
        "print(f'Multi Train Accuracy: {multi_accuracy_score_train*100} % \\nMulti Test Accuracy: {multi_accuracy_score_test*100} %')\n",
        "# null_rows_X = null_rows['stemmed_tweets']\n",
        "# no_reaction_pred = model.predict(null_rows_X)\n"
      ]
    },
    {
      "cell_type": "code",
      "execution_count": null,
      "metadata": {
        "id": "Mpjrz4NH8l_k"
      },
      "outputs": [],
      "source": []
    }
  ],
  "metadata": {
    "kernelspec": {
      "display_name": "Python 3",
      "name": "python3"
    },
    "language_info": {
      "codemirror_mode": {
        "name": "ipython",
        "version": 3
      },
      "file_extension": ".py",
      "mimetype": "text/x-python",
      "name": "python",
      "nbconvert_exporter": "python",
      "pygments_lexer": "ipython3",
      "version": "3.12.2"
    },
    "colab": {
      "provenance": [],
      "gpuType": "T4",
      "include_colab_link": true
    },
    "accelerator": "GPU"
  },
  "nbformat": 4,
  "nbformat_minor": 0
}