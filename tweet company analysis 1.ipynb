{
 "cells": [
  {
   "cell_type": "markdown",
   "metadata": {},
   "source": [
    "# OVERVIEW"
   ]
  },
  {
   "cell_type": "code",
   "execution_count": 144,
   "metadata": {},
   "outputs": [],
   "source": [
    "import numpy as np \n",
    "import pandas as pd \n",
    "import seaborn as sns \n",
    "import matplotlib.pyplot as plt\n",
    "plt.style.use('ggplot')\n",
    "from sklearn.metrics import roc_curve, auc\n",
    "from sklearn.metrics import classification_report, confusion_matrix\n",
    "import nltk\n",
    "from nltk.corpus import stopwords\n",
    "from nltk.stem import PorterStemmer \n",
    "from sklearn.model_selection import train_test_split\n",
    "# from mlxtend.plotting import plot_confusion_matrix\n",
    "import matplotlib.cm as cm\n",
    "from matplotlib import rcParams\n",
    "from collections import Counter\n",
    "from nltk.tokenize import RegexpTokenizer\n",
    "import re\n",
    "import string\n",
    "from tensorflow.keras.layers import LSTM, Activation, Dense, Dropout, Input, Embedding\n",
    "from tensorflow.keras.models import Model\n",
    "from tensorflow.keras.optimizers import RMSprop\n",
    "from tensorflow.keras.preprocessing.text import Tokenizer\n",
    "from tensorflow.keras.preprocessing import sequence\n",
    "%matplotlib inline\n",
    "\n",
    "import warnings\n",
    "warnings.filterwarnings(\"ignore\")\n"
   ]
  },
  {
   "cell_type": "code",
   "execution_count": 145,
   "metadata": {},
   "outputs": [
    {
     "data": {
      "text/html": [
       "<div>\n",
       "<style scoped>\n",
       "    .dataframe tbody tr th:only-of-type {\n",
       "        vertical-align: middle;\n",
       "    }\n",
       "\n",
       "    .dataframe tbody tr th {\n",
       "        vertical-align: top;\n",
       "    }\n",
       "\n",
       "    .dataframe thead th {\n",
       "        text-align: right;\n",
       "    }\n",
       "</style>\n",
       "<table border=\"1\" class=\"dataframe\">\n",
       "  <thead>\n",
       "    <tr style=\"text-align: right;\">\n",
       "      <th></th>\n",
       "      <th>tweet_text</th>\n",
       "      <th>emotion_in_tweet_is_directed_at</th>\n",
       "      <th>is_there_an_emotion_directed_at_a_brand_or_product</th>\n",
       "    </tr>\n",
       "  </thead>\n",
       "  <tbody>\n",
       "    <tr>\n",
       "      <th>0</th>\n",
       "      <td>.@wesley83 I have a 3G iPhone. After 3 hrs twe...</td>\n",
       "      <td>iPhone</td>\n",
       "      <td>Negative emotion</td>\n",
       "    </tr>\n",
       "    <tr>\n",
       "      <th>1</th>\n",
       "      <td>@jessedee Know about @fludapp ? Awesome iPad/i...</td>\n",
       "      <td>iPad or iPhone App</td>\n",
       "      <td>Positive emotion</td>\n",
       "    </tr>\n",
       "    <tr>\n",
       "      <th>2</th>\n",
       "      <td>@swonderlin Can not wait for #iPad 2 also. The...</td>\n",
       "      <td>iPad</td>\n",
       "      <td>Positive emotion</td>\n",
       "    </tr>\n",
       "    <tr>\n",
       "      <th>3</th>\n",
       "      <td>@sxsw I hope this year's festival isn't as cra...</td>\n",
       "      <td>iPad or iPhone App</td>\n",
       "      <td>Negative emotion</td>\n",
       "    </tr>\n",
       "    <tr>\n",
       "      <th>4</th>\n",
       "      <td>@sxtxstate great stuff on Fri #SXSW: Marissa M...</td>\n",
       "      <td>Google</td>\n",
       "      <td>Positive emotion</td>\n",
       "    </tr>\n",
       "  </tbody>\n",
       "</table>\n",
       "</div>"
      ],
      "text/plain": [
       "                                          tweet_text  \\\n",
       "0  .@wesley83 I have a 3G iPhone. After 3 hrs twe...   \n",
       "1  @jessedee Know about @fludapp ? Awesome iPad/i...   \n",
       "2  @swonderlin Can not wait for #iPad 2 also. The...   \n",
       "3  @sxsw I hope this year's festival isn't as cra...   \n",
       "4  @sxtxstate great stuff on Fri #SXSW: Marissa M...   \n",
       "\n",
       "  emotion_in_tweet_is_directed_at  \\\n",
       "0                          iPhone   \n",
       "1              iPad or iPhone App   \n",
       "2                            iPad   \n",
       "3              iPad or iPhone App   \n",
       "4                          Google   \n",
       "\n",
       "  is_there_an_emotion_directed_at_a_brand_or_product  \n",
       "0                                   Negative emotion  \n",
       "1                                   Positive emotion  \n",
       "2                                   Positive emotion  \n",
       "3                                   Negative emotion  \n",
       "4                                   Positive emotion  "
      ]
     },
     "execution_count": 145,
     "metadata": {},
     "output_type": "execute_result"
    }
   ],
   "source": [
    "#load the dataset\n",
    "df =pd.read_csv(r'C:\\Users\\PC\\Documents\\moringa\\Phase 4 project\\judge-1377884607_tweet_product_company.csv', encoding='latin1')\n",
    "df.head()"
   ]
  },
  {
   "cell_type": "code",
   "execution_count": 146,
   "metadata": {},
   "outputs": [
    {
     "data": {
      "text/plain": [
       "(9093, 3)"
      ]
     },
     "execution_count": 146,
     "metadata": {},
     "output_type": "execute_result"
    }
   ],
   "source": [
    "#check the number of rows and columns\n",
    "df.shape"
   ]
  },
  {
   "cell_type": "code",
   "execution_count": 147,
   "metadata": {},
   "outputs": [
    {
     "name": "stdout",
     "output_type": "stream",
     "text": [
      "length of data is 9093\n"
     ]
    }
   ],
   "source": [
    "# Length of data\n",
    "print('length of data is', len(df))"
   ]
  },
  {
   "cell_type": "code",
   "execution_count": 148,
   "metadata": {},
   "outputs": [
    {
     "name": "stdout",
     "output_type": "stream",
     "text": [
      "Column names:\n",
      "- tweet_text\n",
      "- emotion_in_tweet_is_directed_at\n",
      "- is_there_an_emotion_directed_at_a_brand_or_product\n"
     ]
    }
   ],
   "source": [
    "#review column names\n",
    "column_names = df.columns.tolist()\n",
    "print(\"Column names:\")\n",
    "for col in column_names:\n",
    "    print(f\"- {col}\")"
   ]
  },
  {
   "cell_type": "code",
   "execution_count": 149,
   "metadata": {},
   "outputs": [
    {
     "data": {
      "text/html": [
       "<div>\n",
       "<style scoped>\n",
       "    .dataframe tbody tr th:only-of-type {\n",
       "        vertical-align: middle;\n",
       "    }\n",
       "\n",
       "    .dataframe tbody tr th {\n",
       "        vertical-align: top;\n",
       "    }\n",
       "\n",
       "    .dataframe thead th {\n",
       "        text-align: right;\n",
       "    }\n",
       "</style>\n",
       "<table border=\"1\" class=\"dataframe\">\n",
       "  <thead>\n",
       "    <tr style=\"text-align: right;\">\n",
       "      <th></th>\n",
       "      <th>tweet</th>\n",
       "      <th>product</th>\n",
       "      <th>sentiment</th>\n",
       "    </tr>\n",
       "  </thead>\n",
       "  <tbody>\n",
       "    <tr>\n",
       "      <th>0</th>\n",
       "      <td>.@wesley83 I have a 3G iPhone. After 3 hrs twe...</td>\n",
       "      <td>iPhone</td>\n",
       "      <td>Negative emotion</td>\n",
       "    </tr>\n",
       "    <tr>\n",
       "      <th>1</th>\n",
       "      <td>@jessedee Know about @fludapp ? Awesome iPad/i...</td>\n",
       "      <td>iPad or iPhone App</td>\n",
       "      <td>Positive emotion</td>\n",
       "    </tr>\n",
       "    <tr>\n",
       "      <th>2</th>\n",
       "      <td>@swonderlin Can not wait for #iPad 2 also. The...</td>\n",
       "      <td>iPad</td>\n",
       "      <td>Positive emotion</td>\n",
       "    </tr>\n",
       "    <tr>\n",
       "      <th>3</th>\n",
       "      <td>@sxsw I hope this year's festival isn't as cra...</td>\n",
       "      <td>iPad or iPhone App</td>\n",
       "      <td>Negative emotion</td>\n",
       "    </tr>\n",
       "    <tr>\n",
       "      <th>4</th>\n",
       "      <td>@sxtxstate great stuff on Fri #SXSW: Marissa M...</td>\n",
       "      <td>Google</td>\n",
       "      <td>Positive emotion</td>\n",
       "    </tr>\n",
       "    <tr>\n",
       "      <th>5</th>\n",
       "      <td>@teachntech00 New iPad Apps For #SpeechTherapy...</td>\n",
       "      <td>NaN</td>\n",
       "      <td>No emotion toward brand or product</td>\n",
       "    </tr>\n",
       "    <tr>\n",
       "      <th>6</th>\n",
       "      <td>NaN</td>\n",
       "      <td>NaN</td>\n",
       "      <td>No emotion toward brand or product</td>\n",
       "    </tr>\n",
       "    <tr>\n",
       "      <th>7</th>\n",
       "      <td>#SXSW is just starting, #CTIA is around the co...</td>\n",
       "      <td>Android</td>\n",
       "      <td>Positive emotion</td>\n",
       "    </tr>\n",
       "    <tr>\n",
       "      <th>8</th>\n",
       "      <td>Beautifully smart and simple idea RT @madebyma...</td>\n",
       "      <td>iPad or iPhone App</td>\n",
       "      <td>Positive emotion</td>\n",
       "    </tr>\n",
       "    <tr>\n",
       "      <th>9</th>\n",
       "      <td>Counting down the days to #sxsw plus strong Ca...</td>\n",
       "      <td>Apple</td>\n",
       "      <td>Positive emotion</td>\n",
       "    </tr>\n",
       "  </tbody>\n",
       "</table>\n",
       "</div>"
      ],
      "text/plain": [
       "                                               tweet             product  \\\n",
       "0  .@wesley83 I have a 3G iPhone. After 3 hrs twe...              iPhone   \n",
       "1  @jessedee Know about @fludapp ? Awesome iPad/i...  iPad or iPhone App   \n",
       "2  @swonderlin Can not wait for #iPad 2 also. The...                iPad   \n",
       "3  @sxsw I hope this year's festival isn't as cra...  iPad or iPhone App   \n",
       "4  @sxtxstate great stuff on Fri #SXSW: Marissa M...              Google   \n",
       "5  @teachntech00 New iPad Apps For #SpeechTherapy...                 NaN   \n",
       "6                                                NaN                 NaN   \n",
       "7  #SXSW is just starting, #CTIA is around the co...             Android   \n",
       "8  Beautifully smart and simple idea RT @madebyma...  iPad or iPhone App   \n",
       "9  Counting down the days to #sxsw plus strong Ca...               Apple   \n",
       "\n",
       "                            sentiment  \n",
       "0                    Negative emotion  \n",
       "1                    Positive emotion  \n",
       "2                    Positive emotion  \n",
       "3                    Negative emotion  \n",
       "4                    Positive emotion  \n",
       "5  No emotion toward brand or product  \n",
       "6  No emotion toward brand or product  \n",
       "7                    Positive emotion  \n",
       "8                    Positive emotion  \n",
       "9                    Positive emotion  "
      ]
     },
     "execution_count": 149,
     "metadata": {},
     "output_type": "execute_result"
    }
   ],
   "source": [
    "# Rename the columns\n",
    "df.rename(columns={\n",
    "    'tweet_text': 'tweet',\n",
    "    'emotion_in_tweet_is_directed_at': 'product',\n",
    "    'is_there_an_emotion_directed_at_a_brand_or_product': 'sentiment'\n",
    "}, inplace=True)\n",
    "\n",
    "# Check the updated df\n",
    "df.head(10)"
   ]
  },
  {
   "cell_type": "code",
   "execution_count": 150,
   "metadata": {},
   "outputs": [
    {
     "name": "stdout",
     "output_type": "stream",
     "text": [
      "                                                  tweet  \\\n",
      "0     .@wesley83 I have a 3G iPhone. After 3 hrs twe...   \n",
      "1     @jessedee Know about @fludapp ? Awesome iPad/i...   \n",
      "2     @swonderlin Can not wait for #iPad 2 also. The...   \n",
      "3     @sxsw I hope this year's festival isn't as cra...   \n",
      "4     @sxtxstate great stuff on Fri #SXSW: Marissa M...   \n",
      "...                                                 ...   \n",
      "9077  @mention your PR guy just convinced me to swit...   \n",
      "9079  &quot;papyrus...sort of like the ipad&quot; - ...   \n",
      "9080  Diller says Google TV &quot;might be run over ...   \n",
      "9085  I've always used Camera+ for my iPhone b/c it ...   \n",
      "9088                      Ipad everywhere. #SXSW {link}   \n",
      "\n",
      "                              product         sentiment  \n",
      "0                              iPhone  Negative emotion  \n",
      "1                  iPad or iPhone App  Positive emotion  \n",
      "2                                iPad  Positive emotion  \n",
      "3                  iPad or iPhone App  Negative emotion  \n",
      "4                              Google  Positive emotion  \n",
      "...                               ...               ...  \n",
      "9077                           iPhone  Positive emotion  \n",
      "9079                             iPad  Positive emotion  \n",
      "9080  Other Google product or service  Negative emotion  \n",
      "9085               iPad or iPhone App  Positive emotion  \n",
      "9088                             iPad  Positive emotion  \n",
      "\n",
      "[3548 rows x 3 columns]\n"
     ]
    }
   ],
   "source": [
    "# Keep only rows where the sentiment is either 'Positive emotion' or 'Negative emotion'\n",
    "df_filtered = df[df['sentiment'].isin(['Positive emotion', 'Negative emotion'])]\n",
    "\n",
    "# Print the filtered DataFrame\n",
    "print(df_filtered)\n"
   ]
  },
  {
   "cell_type": "code",
   "execution_count": 151,
   "metadata": {},
   "outputs": [
    {
     "name": "stdout",
     "output_type": "stream",
     "text": [
      "['Negative emotion' 'Positive emotion']\n"
     ]
    }
   ],
   "source": [
    "# Check unique values in the 'sentiment' column\n",
    "unique_sentiments = df_filtered['sentiment'].unique()\n",
    "\n",
    "# Display the unique sentiments\n",
    "print(unique_sentiments)"
   ]
  },
  {
   "cell_type": "code",
   "execution_count": 152,
   "metadata": {},
   "outputs": [
    {
     "data": {
      "text/html": [
       "<div>\n",
       "<style scoped>\n",
       "    .dataframe tbody tr th:only-of-type {\n",
       "        vertical-align: middle;\n",
       "    }\n",
       "\n",
       "    .dataframe tbody tr th {\n",
       "        vertical-align: top;\n",
       "    }\n",
       "\n",
       "    .dataframe thead th {\n",
       "        text-align: right;\n",
       "    }\n",
       "</style>\n",
       "<table border=\"1\" class=\"dataframe\">\n",
       "  <thead>\n",
       "    <tr style=\"text-align: right;\">\n",
       "      <th></th>\n",
       "      <th>tweet</th>\n",
       "      <th>product</th>\n",
       "      <th>sentiment</th>\n",
       "    </tr>\n",
       "  </thead>\n",
       "  <tbody>\n",
       "    <tr>\n",
       "      <th>count</th>\n",
       "      <td>3548</td>\n",
       "      <td>3191</td>\n",
       "      <td>3548</td>\n",
       "    </tr>\n",
       "    <tr>\n",
       "      <th>unique</th>\n",
       "      <td>3539</td>\n",
       "      <td>9</td>\n",
       "      <td>2</td>\n",
       "    </tr>\n",
       "    <tr>\n",
       "      <th>top</th>\n",
       "      <td>RT @mention Marissa Mayer: Google Will Connect...</td>\n",
       "      <td>iPad</td>\n",
       "      <td>Positive emotion</td>\n",
       "    </tr>\n",
       "    <tr>\n",
       "      <th>freq</th>\n",
       "      <td>3</td>\n",
       "      <td>918</td>\n",
       "      <td>2978</td>\n",
       "    </tr>\n",
       "  </tbody>\n",
       "</table>\n",
       "</div>"
      ],
      "text/plain": [
       "                                                    tweet product  \\\n",
       "count                                                3548    3191   \n",
       "unique                                               3539       9   \n",
       "top     RT @mention Marissa Mayer: Google Will Connect...    iPad   \n",
       "freq                                                    3     918   \n",
       "\n",
       "               sentiment  \n",
       "count               3548  \n",
       "unique                 2  \n",
       "top     Positive emotion  \n",
       "freq                2978  "
      ]
     },
     "execution_count": 152,
     "metadata": {},
     "output_type": "execute_result"
    }
   ],
   "source": [
    "#Get summary statistics\n",
    "df_filtered.describe()"
   ]
  },
  {
   "cell_type": "code",
   "execution_count": 153,
   "metadata": {},
   "outputs": [
    {
     "name": "stdout",
     "output_type": "stream",
     "text": [
      "\n",
      "Product counts:\n",
      "product\n",
      "iPad                               946\n",
      "Apple                              661\n",
      "iPad or iPhone App                 470\n",
      "Google                             430\n",
      "iPhone                             297\n",
      "Other Google product or service    293\n",
      "Android App                         81\n",
      "Android                             78\n",
      "Other Apple product or service      35\n",
      "Name: count, dtype: int64\n"
     ]
    }
   ],
   "source": [
    "product_counts = df['product'].value_counts()\n",
    "print(\"\\nProduct counts:\")\n",
    "print(product_counts)"
   ]
  },
  {
   "cell_type": "code",
   "execution_count": 154,
   "metadata": {},
   "outputs": [
    {
     "data": {
      "text/plain": [
       "tweet          0\n",
       "product      357\n",
       "sentiment      0\n",
       "dtype: int64"
      ]
     },
     "execution_count": 154,
     "metadata": {},
     "output_type": "execute_result"
    }
   ],
   "source": [
    "# check missing values\n",
    "df_filtered.isnull().sum()  "
   ]
  },
  {
   "cell_type": "markdown",
   "metadata": {},
   "source": [
    "The dataframe has **9093 rows and 3 columns**\n",
    " \n",
    "All the data is of the object type which normally represents text or categorical data\n",
    "\n",
    "The columns are named:\n",
    "**tweet**\n",
    "    *-contains 9092 non-null entries of text data and has 1 missing value*\n",
    "    *-The top Tweet is a retweeted 5 times*\n",
    "\n",
    "**product**\n",
    "    *- Represents the emotion attached to a specific brand or product*\n",
    "    *- There are 3291 non-null entries and has 5802 missing values*\n",
    "    *- The most frequent value is “iPad” (appears 946 times)*\n",
    "\n",
    "**sentiment**\n",
    "    *-Indicates whether there is an emotion directed at a brand or product*\n",
    "    *-Four possible values:*\n",
    "        *“Positive emotion”, “Negative emotion”,“No emotion toward brand or product” (appears 5389 times),“I can’t tell”*\n",
    "    *- The most common emotion is \"No emotion toward brand or product\"*"
   ]
  },
  {
   "cell_type": "code",
   "execution_count": 155,
   "metadata": {},
   "outputs": [
    {
     "name": "stdout",
     "output_type": "stream",
     "text": [
      "tweet        0\n",
      "product      0\n",
      "sentiment    0\n",
      "dtype: int64\n"
     ]
    }
   ],
   "source": [
    "# Fill missing values in the 'product' column with the mode\n",
    "mode_value = df_filtered['product'].mode()[0]  # Calculate the mode value\n",
    "\n",
    "# Create a copy of the DataFrame\n",
    "df_filtered_copy = df_filtered.copy()\n",
    "\n",
    "# Fill missing values in the 'product' column of the copied DataFrame\n",
    "df_filtered_copy['product'].fillna(mode_value, inplace=True)\n",
    "\n",
    "# Check missing values after handling\n",
    "print(df_filtered_copy.isnull().sum())"
   ]
  },
  {
   "cell_type": "code",
   "execution_count": null,
   "metadata": {},
   "outputs": [],
   "source": [
    "import pandas as pd\n",
    "\n",
    "# Assuming df is your DataFrame with 'tweet' and 'product' columns\n",
    "# Replace 'tweet' with the name of your tweet column and 'product' with the name of your product column\n",
    "\n",
    "# List of keywords related to Apple and Google\n",
    "apple_keywords = ['apple', 'iphone', 'ipad', 'mac', 'ios','itunes']\n",
    "google_keywords = ['google', 'android', 'pixel', 'chromebook','android','samsung']\n",
    "\n",
    "# Function to check if a tweet contains keywords related to Apple or Google\n",
    "def check_product(tweet):\n",
    "    if isinstance(tweet, str):\n",
    "        tweet_lower = tweet.lower()\n",
    "        if any(keyword in tweet_lower for keyword in apple_keywords):\n",
    "            return 'Apple'\n",
    "        elif any(keyword in tweet_lower for keyword in google_keywords):\n",
    "            return 'Google'\n",
    "    return None\n",
    "\n",
    "# Apply the function to each row in the DataFrame\n",
    "# Apply the function to each row in the DataFrame\n",
    "df_filtered_copy['product'] = df_filtered_copy['product'].apply(check_product)\n",
    "\n",
    "# Print the DataFrame to see the updated 'product' column\n",
    "df_filtered_copy.isna().sum()\n"
   ]
  },
  {
   "cell_type": "code",
   "execution_count": 156,
   "metadata": {},
   "outputs": [
    {
     "name": "stdout",
     "output_type": "stream",
     "text": [
      "<class 'pandas.core.frame.DataFrame'>\n",
      "Index: 3548 entries, 0 to 9088\n",
      "Data columns (total 3 columns):\n",
      " #   Column     Non-Null Count  Dtype \n",
      "---  ------     --------------  ----- \n",
      " 0   tweet      3548 non-null   object\n",
      " 1   product    3548 non-null   object\n",
      " 2   sentiment  3548 non-null   object\n",
      "dtypes: object(3)\n",
      "memory usage: 110.9+ KB\n"
     ]
    }
   ],
   "source": [
    "df_filtered_copy.info()"
   ]
  },
  {
   "cell_type": "code",
   "execution_count": 157,
   "metadata": {},
   "outputs": [
    {
     "data": {
      "text/html": [
       "<div>\n",
       "<style scoped>\n",
       "    .dataframe tbody tr th:only-of-type {\n",
       "        vertical-align: middle;\n",
       "    }\n",
       "\n",
       "    .dataframe tbody tr th {\n",
       "        vertical-align: top;\n",
       "    }\n",
       "\n",
       "    .dataframe thead th {\n",
       "        text-align: right;\n",
       "    }\n",
       "</style>\n",
       "<table border=\"1\" class=\"dataframe\">\n",
       "  <thead>\n",
       "    <tr style=\"text-align: right;\">\n",
       "      <th></th>\n",
       "      <th>tweet</th>\n",
       "      <th>product</th>\n",
       "      <th>sentiment</th>\n",
       "    </tr>\n",
       "  </thead>\n",
       "  <tbody>\n",
       "    <tr>\n",
       "      <th>9077</th>\n",
       "      <td>@mention your PR guy just convinced me to swit...</td>\n",
       "      <td>iPhone</td>\n",
       "      <td>Positive emotion</td>\n",
       "    </tr>\n",
       "    <tr>\n",
       "      <th>9079</th>\n",
       "      <td>&amp;quot;papyrus...sort of like the ipad&amp;quot; - ...</td>\n",
       "      <td>iPad</td>\n",
       "      <td>Positive emotion</td>\n",
       "    </tr>\n",
       "    <tr>\n",
       "      <th>9080</th>\n",
       "      <td>Diller says Google TV &amp;quot;might be run over ...</td>\n",
       "      <td>Other Google product or service</td>\n",
       "      <td>Negative emotion</td>\n",
       "    </tr>\n",
       "    <tr>\n",
       "      <th>9085</th>\n",
       "      <td>I've always used Camera+ for my iPhone b/c it ...</td>\n",
       "      <td>iPad or iPhone App</td>\n",
       "      <td>Positive emotion</td>\n",
       "    </tr>\n",
       "    <tr>\n",
       "      <th>9088</th>\n",
       "      <td>Ipad everywhere. #SXSW {link}</td>\n",
       "      <td>iPad</td>\n",
       "      <td>Positive emotion</td>\n",
       "    </tr>\n",
       "  </tbody>\n",
       "</table>\n",
       "</div>"
      ],
      "text/plain": [
       "                                                  tweet  \\\n",
       "9077  @mention your PR guy just convinced me to swit...   \n",
       "9079  &quot;papyrus...sort of like the ipad&quot; - ...   \n",
       "9080  Diller says Google TV &quot;might be run over ...   \n",
       "9085  I've always used Camera+ for my iPhone b/c it ...   \n",
       "9088                      Ipad everywhere. #SXSW {link}   \n",
       "\n",
       "                              product         sentiment  \n",
       "9077                           iPhone  Positive emotion  \n",
       "9079                             iPad  Positive emotion  \n",
       "9080  Other Google product or service  Negative emotion  \n",
       "9085               iPad or iPhone App  Positive emotion  \n",
       "9088                             iPad  Positive emotion  "
      ]
     },
     "execution_count": 157,
     "metadata": {},
     "output_type": "execute_result"
    }
   ],
   "source": [
    "df_filtered_copy.tail()"
   ]
  },
  {
   "cell_type": "code",
   "execution_count": 158,
   "metadata": {},
   "outputs": [],
   "source": [
    "# Save the cleaned DataFrame to a CSV file\n",
    "df.to_csv('cleaned_judge-1377884607_tweet_product_company.csv', index=False)"
   ]
  },
  {
   "cell_type": "code",
   "execution_count": 159,
   "metadata": {},
   "outputs": [
    {
     "name": "stdout",
     "output_type": "stream",
     "text": [
      "                                                  tweet  \\\n",
      "0     .@wesley83 I have a 3G iPhone. After 3 hrs twe...   \n",
      "1     @jessedee Know about @fludapp ? Awesome iPad/i...   \n",
      "2     @swonderlin Can not wait for #iPad 2 also. The...   \n",
      "3     @sxsw I hope this year's festival isn't as cra...   \n",
      "4     @sxtxstate great stuff on Fri #SXSW: Marissa M...   \n",
      "...                                                 ...   \n",
      "9077  @mention your PR guy just convinced me to swit...   \n",
      "9079  &quot;papyrus...sort of like the ipad&quot; - ...   \n",
      "9080  Diller says Google TV &quot;might be run over ...   \n",
      "9085  I've always used Camera+ for my iPhone b/c it ...   \n",
      "9088                      Ipad everywhere. #SXSW {link}   \n",
      "\n",
      "                              product  sentiment  \n",
      "0                              iPhone          0  \n",
      "1                  iPad or iPhone App          1  \n",
      "2                                iPad          1  \n",
      "3                  iPad or iPhone App          0  \n",
      "4                              Google          1  \n",
      "...                               ...        ...  \n",
      "9077                           iPhone          1  \n",
      "9079                             iPad          1  \n",
      "9080  Other Google product or service          0  \n",
      "9085               iPad or iPhone App          1  \n",
      "9088                             iPad          1  \n",
      "\n",
      "[3548 rows x 3 columns]\n"
     ]
    }
   ],
   "source": [
    "# Define mapping for sentiment\n",
    "sentiment_mapping = {'Negative emotion': 0, 'Positive emotion': 1}\n",
    "\n",
    "# Convert sentiment to binary using mapping\n",
    "df_filtered_copy['sentiment'] = df_filtered_copy['sentiment'].map(sentiment_mapping)\n",
    "\n",
    "# Display the DataFrame with the updated sentiment column\n",
    "print(df_filtered_copy)"
   ]
  },
  {
   "cell_type": "markdown",
   "metadata": {},
   "source": [
    "# Data preparation"
   ]
  },
  {
   "cell_type": "code",
   "execution_count": 160,
   "metadata": {},
   "outputs": [],
   "source": [
    "#### Making statement text in lower case\n",
    "df_filtered_copy['tweet']=df_filtered_copy['tweet'].str.lower()\n"
   ]
  },
  {
   "cell_type": "code",
   "execution_count": 161,
   "metadata": {},
   "outputs": [
    {
     "data": {
      "text/plain": [
       "9077    @mention your pr guy just convinced me to swit...\n",
       "9079    &quot;papyrus...sort of like the ipad&quot; - ...\n",
       "9080    diller says google tv &quot;might be run over ...\n",
       "9085    i've always used camera+ for my iphone b/c it ...\n",
       "9088                        ipad everywhere. #sxsw {link}\n",
       "Name: tweet, dtype: object"
      ]
     },
     "execution_count": 161,
     "metadata": {},
     "output_type": "execute_result"
    }
   ],
   "source": [
    "df_filtered_copy['tweet'].tail()"
   ]
  },
  {
   "cell_type": "code",
   "execution_count": 162,
   "metadata": {},
   "outputs": [],
   "source": [
    "#### Cleaning and removing Stop words of english\n",
    "stopwords_list = stopwords.words('english')"
   ]
  },
  {
   "cell_type": "code",
   "execution_count": 163,
   "metadata": {},
   "outputs": [
    {
     "data": {
      "text/plain": [
       "\"i, me, my, myself, we, our, ours, ourselves, you, you're, you've, you'll, you'd, your, yours, yourself, yourselves, he, him, his, himself, she, she's, her, hers, herself, it, it's, its, itself, they, them, their, theirs, themselves, what, which, who, whom, this, that, that'll, these, those, am, is, are, was, were, be, been, being, have, has, had, having, do, does, did, doing, a, an, the, and, but, if, or, because, as, until, while, of, at, by, for, with, about, against, between, into, through, during, before, after, above, below, to, from, up, down, in, out, on, off, over, under, again, further, then, once, here, there, when, where, why, how, all, any, both, each, few, more, most, other, some, such, no, nor, not, only, own, same, so, than, too, very, s, t, can, will, just, don, don't, should, should've, now, d, ll, m, o, re, ve, y, ain, aren, aren't, couldn, couldn't, didn, didn't, doesn, doesn't, hadn, hadn't, hasn, hasn't, haven, haven't, isn, isn't, ma, mightn, mightn't, mustn, mustn't, needn, needn't, shan, shan't, shouldn, shouldn't, wasn, wasn't, weren, weren't, won, won't, wouldn, wouldn't\""
      ]
     },
     "execution_count": 163,
     "metadata": {},
     "output_type": "execute_result"
    }
   ],
   "source": [
    "# Get the list of stopwords in English\n",
    "\", \".join(stopwords.words('english'))"
   ]
  },
  {
   "cell_type": "code",
   "execution_count": 164,
   "metadata": {},
   "outputs": [
    {
     "data": {
      "text/plain": [
       "0    .@wesley83 3g iphone. 3 hrs tweeting #rise_aus...\n",
       "1    @jessedee know @fludapp ? awesome ipad/iphone ...\n",
       "2           @swonderlin wait #ipad 2 also. sale #sxsw.\n",
       "3    @sxsw hope year's festival crashy year's iphon...\n",
       "4    @sxtxstate great stuff fri #sxsw: marissa maye...\n",
       "Name: tweet, dtype: object"
      ]
     },
     "execution_count": 164,
     "metadata": {},
     "output_type": "execute_result"
    }
   ],
   "source": [
    "#### Cleaning and removing the above stop words list from the tweet text\n",
    "STOPWORDS = set(stopwords.words('english'))\n",
    "def cleaning_stopwords(tweet):\n",
    "    return \" \".join([word for word in str(tweet).split() if word not in STOPWORDS])\n",
    "df_filtered_copy['tweet'] = df_filtered_copy['tweet'].apply(lambda tweet: cleaning_stopwords(tweet))\n",
    "df_filtered_copy['tweet'].head()"
   ]
  },
  {
   "cell_type": "code",
   "execution_count": 165,
   "metadata": {},
   "outputs": [],
   "source": [
    "#### Cleaning and removing punctuations \n",
    "english_punctuations = string.punctuation\n",
    "punctuations_list = english_punctuations\n",
    "def cleaning_punctuations(tweet):\n",
    "    translator = str.maketrans('', '', punctuations_list)\n",
    "    return tweet.translate(translator)"
   ]
  },
  {
   "cell_type": "code",
   "execution_count": 166,
   "metadata": {},
   "outputs": [
    {
     "data": {
      "text/plain": [
       "9077    mention pr guy convinced switch back iphone gr...\n",
       "9079    quotpapyrussort like ipadquot  nice lol sxsw l...\n",
       "9080    diller says google tv quotmight run playstatio...\n",
       "9085    ive always used camera iphone bc image stabili...\n",
       "9088                            ipad everywhere sxsw link\n",
       "Name: tweet, dtype: object"
      ]
     },
     "execution_count": 166,
     "metadata": {},
     "output_type": "execute_result"
    }
   ],
   "source": [
    "df_filtered_copy['tweet']= df_filtered_copy['tweet'].apply(lambda x: cleaning_punctuations(x))\n",
    "df_filtered_copy['tweet'].tail()"
   ]
  },
  {
   "cell_type": "code",
   "execution_count": 167,
   "metadata": {},
   "outputs": [],
   "source": [
    "#### Cleaning and removing repeating characters\n",
    "def cleaning_repeating_char(tweet):\n",
    "    return re.sub(r'(.)\\1+', r'\\1', tweet)"
   ]
  },
  {
   "cell_type": "code",
   "execution_count": 168,
   "metadata": {},
   "outputs": [
    {
     "data": {
      "text/plain": [
       "9077    mention pr guy convinced switch back iphone gr...\n",
       "9079    quotpapyrusort like ipadquot nice lol sxsw lavele\n",
       "9080    diler says gogle tv quotmight run playstation ...\n",
       "9085    ive always used camera iphone bc image stabili...\n",
       "9088                            ipad everywhere sxsw link\n",
       "Name: tweet, dtype: object"
      ]
     },
     "execution_count": 168,
     "metadata": {},
     "output_type": "execute_result"
    }
   ],
   "source": [
    "df_filtered_copy['tweet'] = df_filtered_copy['tweet'].apply(lambda x: cleaning_repeating_char(x))\n",
    "df_filtered_copy['tweet'].tail()"
   ]
  },
  {
   "cell_type": "code",
   "execution_count": 169,
   "metadata": {},
   "outputs": [],
   "source": [
    "#### Cleaning and removing email\n",
    "def cleaning_email(df_filtered_copy):\n",
    "    return re.sub('@[^\\s]+', ' ', df_filtered_copy)"
   ]
  },
  {
   "cell_type": "code",
   "execution_count": 171,
   "metadata": {},
   "outputs": [
    {
     "name": "stdout",
     "output_type": "stream",
     "text": [
      "9077    mention pr guy convinced switch back iphone gr...\n",
      "9079    quotpapyrusort like ipadquot nice lol sxsw lavele\n",
      "9080    diler says gogle tv quotmight run playstation ...\n",
      "9085    ive always used camera iphone bc image stabili...\n",
      "9088                            ipad everywhere sxsw link\n",
      "Name: tweet, dtype: object\n"
     ]
    }
   ],
   "source": [
    "# Apply the cleaning function to the 'tweet' column of df_filtered_copy\n",
    "df_filtered_copy['tweet'] = df_filtered_copy['tweet'].apply(lambda x: cleaning_email(x))\n",
    "\n",
    "# Display the tail of the 'tweet' column of df_filtered_copy\n",
    "print(df_filtered_copy['tweet'].tail())"
   ]
  },
  {
   "cell_type": "code",
   "execution_count": 172,
   "metadata": {},
   "outputs": [],
   "source": [
    "#### Cleaning and removing URL's\n",
    "def cleaning_URLs(df_filtered_copy):\n",
    "    return re.sub('((www\\.[^\\s]+)|(https?://[^\\s]+))',' ',df_filtered_copy)"
   ]
  },
  {
   "cell_type": "code",
   "execution_count": 173,
   "metadata": {},
   "outputs": [
    {
     "data": {
      "text/plain": [
       "9077    mention pr guy convinced switch back iphone gr...\n",
       "9079    quotpapyrusort like ipadquot nice lol sxsw lavele\n",
       "9080    diler says gogle tv quotmight run playstation ...\n",
       "9085    ive always used camera iphone bc image stabili...\n",
       "9088                            ipad everywhere sxsw link\n",
       "Name: tweet, dtype: object"
      ]
     },
     "execution_count": 173,
     "metadata": {},
     "output_type": "execute_result"
    }
   ],
   "source": [
    "df_filtered_copy['tweet'] = df_filtered_copy['tweet'].apply(lambda x: cleaning_URLs(x))\n",
    "df_filtered_copy['tweet'].tail()"
   ]
  },
  {
   "cell_type": "code",
   "execution_count": 174,
   "metadata": {},
   "outputs": [],
   "source": [
    "#### Cleaning and removing Numeric numbers\n",
    "def cleaning_numbers(df_filtered_copy):\n",
    "    return re.sub('[0-9]+', '', df_filtered_copy)"
   ]
  },
  {
   "cell_type": "code",
   "execution_count": 176,
   "metadata": {},
   "outputs": [
    {
     "data": {
      "text/plain": [
       "9077    mention pr guy convinced switch back iphone gr...\n",
       "9079    quotpapyrusort like ipadquot nice lol sxsw lavele\n",
       "9080    diler says gogle tv quotmight run playstation ...\n",
       "9085    ive always used camera iphone bc image stabili...\n",
       "9088                            ipad everywhere sxsw link\n",
       "Name: tweet, dtype: object"
      ]
     },
     "execution_count": 176,
     "metadata": {},
     "output_type": "execute_result"
    }
   ],
   "source": [
    "df_filtered_copy['tweet'] = df_filtered_copy['tweet'].apply(lambda x: cleaning_numbers(x))\n",
    "df_filtered_copy['tweet'].tail()"
   ]
  },
  {
   "cell_type": "code",
   "execution_count": 177,
   "metadata": {},
   "outputs": [],
   "source": [
    "#### Getting tokenization of tweet text\n",
    "tokenizer = RegexpTokenizer(r'\\w+')\n",
    "df_filtered_copy['tweet'] = df_filtered_copy['tweet'].apply(tokenizer.tokenize)"
   ]
  },
  {
   "cell_type": "code",
   "execution_count": 178,
   "metadata": {},
   "outputs": [
    {
     "data": {
      "text/plain": [
       "0    [wesley, g, iphone, hrs, tweting, riseaustin, ...\n",
       "1    [jesede, know, fludap, awesome, ipadiphone, ap...\n",
       "2           [swonderlin, wait, ipad, also, sale, sxsw]\n",
       "3    [sxsw, hope, years, festival, crashy, years, i...\n",
       "4    [sxtxstate, great, stuf, fri, sxsw, marisa, ma...\n",
       "Name: tweet, dtype: object"
      ]
     },
     "execution_count": 178,
     "metadata": {},
     "output_type": "execute_result"
    }
   ],
   "source": [
    "df_filtered_copy['tweet'].head()"
   ]
  },
  {
   "cell_type": "code",
   "execution_count": 179,
   "metadata": {},
   "outputs": [],
   "source": [
    "#### Applying Stemming\n",
    "st = nltk.PorterStemmer()\n",
    "def stemming_on_tweet(df_filtered_copy):\n",
    "    tweet = [st.stem(word) for word in df_filtered_copy]\n",
    "    return df_filtered_copy\n",
    "\n",
    "df_filtered_copy['tweet']= df_filtered_copy['tweet'].apply(lambda x: stemming_on_tweet(x))"
   ]
  },
  {
   "cell_type": "code",
   "execution_count": 180,
   "metadata": {},
   "outputs": [
    {
     "data": {
      "text/plain": [
       "0    [wesley, g, iphone, hrs, tweting, riseaustin, ...\n",
       "1    [jesede, know, fludap, awesome, ipadiphone, ap...\n",
       "2           [swonderlin, wait, ipad, also, sale, sxsw]\n",
       "3    [sxsw, hope, years, festival, crashy, years, i...\n",
       "4    [sxtxstate, great, stuf, fri, sxsw, marisa, ma...\n",
       "Name: tweet, dtype: object"
      ]
     },
     "execution_count": 180,
     "metadata": {},
     "output_type": "execute_result"
    }
   ],
   "source": [
    "df_filtered_copy['tweet'].head()"
   ]
  },
  {
   "cell_type": "code",
   "execution_count": 183,
   "metadata": {},
   "outputs": [],
   "source": [
    "#### Applying Lemmatizer\n",
    "lm = nltk.WordNetLemmatizer()\n",
    "def lemmatizer_on_tweet(df_filtered_copy):\n",
    "    tweet = [lm.lemmatize(word) for word in df_filtered_copy]\n",
    "    return df_filtered_copy\n",
    "\n",
    "df_filtered_copy['tweet'] = df_filtered_copy['tweet'].apply(lambda x: lemmatizer_on_tweet(x))"
   ]
  },
  {
   "cell_type": "code",
   "execution_count": 184,
   "metadata": {},
   "outputs": [
    {
     "data": {
      "text/plain": [
       "0    [wesley, g, iphone, hrs, tweting, riseaustin, ...\n",
       "1    [jesede, know, fludap, awesome, ipadiphone, ap...\n",
       "2           [swonderlin, wait, ipad, also, sale, sxsw]\n",
       "3    [sxsw, hope, years, festival, crashy, years, i...\n",
       "4    [sxtxstate, great, stuf, fri, sxsw, marisa, ma...\n",
       "Name: tweet, dtype: object"
      ]
     },
     "execution_count": 184,
     "metadata": {},
     "output_type": "execute_result"
    }
   ],
   "source": [
    "df_filtered_copy['tweet'].head()"
   ]
  }
 ],
 "metadata": {
  "kernelspec": {
   "display_name": "learn-env",
   "language": "python",
   "name": "python3"
  },
  "language_info": {
   "codemirror_mode": {
    "name": "ipython",
    "version": 3
   },
   "file_extension": ".py",
   "mimetype": "text/x-python",
   "name": "python",
   "nbconvert_exporter": "python",
   "pygments_lexer": "ipython3",
   "version": "3.11.7"
  }
 },
 "nbformat": 4,
 "nbformat_minor": 2
}
